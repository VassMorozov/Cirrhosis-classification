{
 "cells": [
  {
   "cell_type": "code",
   "execution_count": 1,
   "id": "670b3755",
   "metadata": {
    "_cell_guid": "b1076dfc-b9ad-4769-8c92-a6c4dae69d19",
    "_uuid": "8f2839f25d086af736a60e9eeb907d3b93b6e0e5",
    "execution": {
     "iopub.execute_input": "2024-01-02T13:15:11.278150Z",
     "iopub.status.busy": "2024-01-02T13:15:11.277126Z",
     "iopub.status.idle": "2024-01-02T13:15:22.761613Z",
     "shell.execute_reply": "2024-01-02T13:15:22.760162Z"
    },
    "papermill": {
     "duration": 11.503817,
     "end_time": "2024-01-02T13:15:22.764662",
     "exception": false,
     "start_time": "2024-01-02T13:15:11.260845",
     "status": "completed"
    },
    "tags": []
   },
   "outputs": [
    {
     "name": "stdout",
     "output_type": "stream",
     "text": [
      "/kaggle/input/playground-series-s3e26/sample_submission.csv\n",
      "/kaggle/input/playground-series-s3e26/train.csv\n",
      "/kaggle/input/playground-series-s3e26/test.csv\n"
     ]
    }
   ],
   "source": [
    "import warnings\n",
    "warnings.filterwarnings(\"ignore\")\n",
    "import numpy as np # linear algebra\n",
    "import pandas as pd # data processing, CSV file I/O (e.g. pd.read_csv)\n",
    "import matplotlib.pyplot as plt\n",
    "import seaborn as sns\n",
    "import math\n",
    "import xgboost as xgb\n",
    "import shap\n",
    "import optuna\n",
    "from optuna import Trial\n",
    "from sklearn.preprocessing import StandardScaler, LabelEncoder\n",
    "from catboost import CatBoostClassifier\n",
    "from lightgbm import LGBMClassifier\n",
    "from sklearn.model_selection import train_test_split, GridSearchCV, StratifiedKFold\n",
    "from sklearn.metrics import f1_score, log_loss\n",
    "from sklearn.linear_model import LogisticRegression\n",
    "from sklearn.tree import DecisionTreeClassifier\n",
    "from sklearn.ensemble import RandomForestClassifier, VotingClassifier"
   ]
  },
  {
   "cell_type": "code",
   "execution_count": 2,
   "id": "f16c7e11",
   "metadata": {
    "execution": {
     "iopub.execute_input": "2024-01-02T13:15:22.792546Z",
     "iopub.status.busy": "2024-01-02T13:15:22.792102Z",
     "iopub.status.idle": "2024-01-02T13:15:22.893629Z",
     "shell.execute_reply": "2024-01-02T13:15:22.892273Z"
    },
    "papermill": {
     "duration": 0.119178,
     "end_time": "2024-01-02T13:15:22.896720",
     "exception": false,
     "start_time": "2024-01-02T13:15:22.777542",
     "status": "completed"
    },
    "tags": []
   },
   "outputs": [],
   "source": [
    "train = pd.read_csv('/kaggle/input/playground-series-s3e26/train.csv').drop(columns=['id'])\n",
    "test = pd.read_csv('/kaggle/input/playground-series-s3e26/test.csv').drop(columns=['id'])"
   ]
  },
  {
   "cell_type": "code",
   "execution_count": null,
   "id": "633dd59d",
   "metadata": {},
   "outputs": [],
   "source": [
    "numeric_columns = train.select_dtypes(include='number').columns.tolist()\n",
    "categorical_columns = train.select_dtypes(include='object').columns.tolist()\n",
    "categorical_columns.remove('Status')"
   ]
  },
  {
   "cell_type": "markdown",
   "id": "2a75c886",
   "metadata": {
    "execution": {
     "iopub.execute_input": "2024-01-02T10:51:24.264868Z",
     "iopub.status.busy": "2024-01-02T10:51:24.264097Z",
     "iopub.status.idle": "2024-01-02T10:51:24.280180Z",
     "shell.execute_reply": "2024-01-02T10:51:24.279372Z"
    },
    "papermill": {
     "duration": 0.023429,
     "end_time": "2024-01-02T13:15:38.054017",
     "exception": false,
     "start_time": "2024-01-02T13:15:38.030588",
     "status": "completed"
    },
    "tags": []
   },
   "source": [
    "## Data Pre-Processing for Model Selection"
   ]
  },
  {
   "cell_type": "code",
   "execution_count": 12,
   "id": "cbc64a86",
   "metadata": {
    "execution": {
     "iopub.execute_input": "2024-01-02T13:15:38.103835Z",
     "iopub.status.busy": "2024-01-02T13:15:38.103380Z",
     "iopub.status.idle": "2024-01-02T13:15:38.114206Z",
     "shell.execute_reply": "2024-01-02T13:15:38.113399Z"
    },
    "papermill": {
     "duration": 0.039292,
     "end_time": "2024-01-02T13:15:38.117489",
     "exception": false,
     "start_time": "2024-01-02T13:15:38.078197",
     "status": "completed"
    },
    "tags": []
   },
   "outputs": [
    {
     "name": "stdout",
     "output_type": "stream",
     "text": [
      "{0: 'Status_C', 2: 'Status_CL', 1: 'Status_D'}\n"
     ]
    }
   ],
   "source": [
    "# Encode target variable\n",
    "\n",
    "# Creating a instance of label Encoder.\n",
    "le = LabelEncoder()\n",
    "\n",
    "# Using .fit_transform function to fit label\n",
    "# encoder and return encoded label\n",
    "train['Status'] = le.fit_transform(train['Status'])\n",
    "le_name_mapping = dict(zip(le.transform(['C', 'D', 'CL']), ['Status_' + item for item in le.inverse_transform([0, 1, 2])]))\n",
    "\n",
    "print(le_name_mapping)"
   ]
  },
  {
   "cell_type": "code",
   "execution_count": 13,
   "id": "0cb46524",
   "metadata": {
    "execution": {
     "iopub.execute_input": "2024-01-02T13:15:38.165991Z",
     "iopub.status.busy": "2024-01-02T13:15:38.164992Z",
     "iopub.status.idle": "2024-01-02T13:15:38.169630Z",
     "shell.execute_reply": "2024-01-02T13:15:38.168870Z"
    },
    "papermill": {
     "duration": 0.031834,
     "end_time": "2024-01-02T13:15:38.172224",
     "exception": false,
     "start_time": "2024-01-02T13:15:38.140390",
     "status": "completed"
    },
    "tags": []
   },
   "outputs": [],
   "source": [
    "# Add stage to categorical columns\n",
    "categorical_columns.append('Stage')\n",
    "numeric_columns.remove('Stage')"
   ]
  },
  {
   "cell_type": "code",
   "execution_count": 14,
   "id": "7940d8e9",
   "metadata": {
    "execution": {
     "iopub.execute_input": "2024-01-02T13:15:38.221204Z",
     "iopub.status.busy": "2024-01-02T13:15:38.220442Z",
     "iopub.status.idle": "2024-01-02T13:15:38.252443Z",
     "shell.execute_reply": "2024-01-02T13:15:38.251589Z"
    },
    "papermill": {
     "duration": 0.060001,
     "end_time": "2024-01-02T13:15:38.255328",
     "exception": false,
     "start_time": "2024-01-02T13:15:38.195327",
     "status": "completed"
    },
    "tags": []
   },
   "outputs": [],
   "source": [
    "# Create dummies for categorical variables\n",
    "train = pd.get_dummies(train, columns=categorical_columns, drop_first=True, dtype=int)\n",
    "test = pd.get_dummies(test, columns=categorical_columns, drop_first=True, dtype=int)"
   ]
  },
  {
   "cell_type": "markdown",
   "id": "0332e4d0",
   "metadata": {
    "papermill": {
     "duration": 0.022517,
     "end_time": "2024-01-02T13:15:38.300268",
     "exception": false,
     "start_time": "2024-01-02T13:15:38.277751",
     "status": "completed"
    },
    "tags": []
   },
   "source": [
    "## Model Selection\n",
    "Modelling will focus on predicting drop outs so the task will become binary classification."
   ]
  },
  {
   "cell_type": "code",
   "execution_count": 15,
   "id": "566ffcf9",
   "metadata": {
    "execution": {
     "iopub.execute_input": "2024-01-02T13:15:38.348142Z",
     "iopub.status.busy": "2024-01-02T13:15:38.347368Z",
     "iopub.status.idle": "2024-01-02T13:15:38.363019Z",
     "shell.execute_reply": "2024-01-02T13:15:38.362045Z"
    },
    "papermill": {
     "duration": 0.042936,
     "end_time": "2024-01-02T13:15:38.366020",
     "exception": false,
     "start_time": "2024-01-02T13:15:38.323084",
     "status": "completed"
    },
    "tags": []
   },
   "outputs": [],
   "source": [
    "X = train.drop(columns=['Status'], axis =1).values\n",
    "y = train['Status'].values\n",
    "\n",
    "X_train, X_test, y_train, y_test = train_test_split(X, y, stratify=y, test_size=0.15, random_state=4131)"
   ]
  },
  {
   "cell_type": "code",
   "execution_count": 16,
   "id": "b75101ac",
   "metadata": {
    "execution": {
     "iopub.execute_input": "2024-01-02T13:15:38.414425Z",
     "iopub.status.busy": "2024-01-02T13:15:38.413731Z",
     "iopub.status.idle": "2024-01-02T13:15:38.422432Z",
     "shell.execute_reply": "2024-01-02T13:15:38.421611Z"
    },
    "papermill": {
     "duration": 0.036836,
     "end_time": "2024-01-02T13:15:38.425324",
     "exception": false,
     "start_time": "2024-01-02T13:15:38.388488",
     "status": "completed"
    },
    "tags": []
   },
   "outputs": [],
   "source": [
    "# Given I am planning on testing non-tree based classifiers, scale numeric data\n",
    "scaler = StandardScaler()\n",
    "\n",
    "column_indices = [train.columns.get_loc(col) for col in numeric_columns]\n",
    "X_train[:, column_indices] = scaler.fit_transform(X_train[:, column_indices])\n",
    "X_test[:, column_indices] = scaler.transform(X_test[:, column_indices])"
   ]
  },
  {
   "cell_type": "code",
   "execution_count": 17,
   "id": "91e5f881",
   "metadata": {
    "execution": {
     "iopub.execute_input": "2024-01-02T13:15:38.474201Z",
     "iopub.status.busy": "2024-01-02T13:15:38.473440Z",
     "iopub.status.idle": "2024-01-02T13:15:38.484986Z",
     "shell.execute_reply": "2024-01-02T13:15:38.483405Z"
    },
    "papermill": {
     "duration": 0.039754,
     "end_time": "2024-01-02T13:15:38.488150",
     "exception": false,
     "start_time": "2024-01-02T13:15:38.448396",
     "status": "completed"
    },
    "tags": []
   },
   "outputs": [],
   "source": [
    "def baseline_classification_models(X_train, y_train, X_test, y_test, random_state=42):\n",
    "    \"\"\"\n",
    "    Fits and scores baseline binary classification models, and plots a bar chart with F1 scores.\n",
    "    \"\"\"\n",
    "    # Initialize models\n",
    "    models = {\n",
    "        'Logistic Regression': LogisticRegression(random_state=random_state),\n",
    "        'Decision Tree': DecisionTreeClassifier(random_state=random_state),\n",
    "        'Random Forest': RandomForestClassifier(random_state=random_state),\n",
    "        'XGB Classifier': xgb.XGBClassifier(random_state=random_state),\n",
    "        'LGBM': LGBMClassifier(random_state=random_state),\n",
    "        'CatBoost': CatBoostClassifier(logging_level='Silent',random_state=random_state)\n",
    "    }\n",
    "\n",
    "    num_models = len(models)\n",
    "    colors = plt.cm.viridis(np.linspace(0, 1, num_models))\n",
    "    # Fit and score each model\n",
    "    log_losses = {}\n",
    "    for model_name, model in models.items():\n",
    "        model.fit(X_train, y_train)\n",
    "        \n",
    "        y_pred = model.predict_proba(X_test)\n",
    "        \n",
    "        log_losses[model_name] = log_loss(y_test, y_pred)\n",
    "        print(f\"{model_name} - Log Loss: {log_loss(y_test, y_pred)}\")\n",
    "\n",
    "    # Plot the bar chart\n",
    "    plt.bar(log_losses.keys(), log_losses.values(), color=colors)\n",
    "    plt.xlabel('Models')\n",
    "    plt.ylabel('Log Loss')\n",
    "    plt.title('Baseline Binary Classification Models Performance')\n",
    "    plt.xticks(rotation=45, ha='right')\n",
    "    plt.tight_layout()\n",
    "    plt.show()"
   ]
  },
  {
   "cell_type": "code",
   "execution_count": 18,
   "id": "34f8a550",
   "metadata": {
    "execution": {
     "iopub.execute_input": "2024-01-02T13:15:38.534830Z",
     "iopub.status.busy": "2024-01-02T13:15:38.534431Z",
     "iopub.status.idle": "2024-01-02T13:15:50.535131Z",
     "shell.execute_reply": "2024-01-02T13:15:50.533879Z"
    },
    "papermill": {
     "duration": 12.027444,
     "end_time": "2024-01-02T13:15:50.537919",
     "exception": false,
     "start_time": "2024-01-02T13:15:38.510475",
     "status": "completed"
    },
    "tags": []
   },
   "outputs": [
    {
     "name": "stdout",
     "output_type": "stream",
     "text": [
      "Logistic Regression - Log Loss: 0.5279928414271419\n",
      "Decision Tree - Log Loss: 9.481972898317498\n",
      "Random Forest - Log Loss: 0.5177669035705501\n",
      "XGB Classifier - Log Loss: 0.5119779817406673\n",
      "LGBM - Log Loss: 0.47070593409570033\n",
      "CatBoost - Log Loss: 0.4761803578783907\n"
     ]
    },
    {
     "data": {
      "image/png": "[encoded data removed]",
      "text/plain": [
       "<Figure size 640x480 with 1 Axes>"
      ]
     },
     "metadata": {},
     "output_type": "display_data"
    }
   ],
   "source": [
    "baseline_classification_models(X_train, y_train, X_test, y_test)"
   ]
  },
  {
   "cell_type": "markdown",
   "id": "665af4ec",
   "metadata": {
    "papermill": {
     "duration": 0.022124,
     "end_time": "2024-01-02T13:15:50.583273",
     "exception": false,
     "start_time": "2024-01-02T13:15:50.561149",
     "status": "completed"
    },
    "tags": []
   },
   "source": [
    "Prior to any hyperparameter tuning, the best model based on F1 score is the LGBM classifier, with the decision tree classifier being the worst."
   ]
  }
 ],
 "metadata": {
  "kaggle": {
   "accelerator": "none",
   "dataSources": [
    {
     "databundleVersionId": 7000181,
     "sourceId": 60893,
     "sourceType": "competition"
    }
   ],
   "dockerImageVersionId": 30626,
   "isGpuEnabled": false,
   "isInternetEnabled": true,
   "language": "python",
   "sourceType": "notebook"
  },
  "kernelspec": {
   "display_name": "Python 3",
   "language": "python",
   "name": "python3"
  },
  "language_info": {
   "codemirror_mode": {
    "name": "ipython",
    "version": 3
   },
   "file_extension": ".py",
   "mimetype": "text/x-python",
   "name": "python",
   "nbconvert_exporter": "python",
   "pygments_lexer": "ipython3",
   "version": "3.8.8"
  },
  "papermill": {
   "default_parameters": {},
   "duration": 1588.364519,
   "end_time": "2024-01-02T13:41:35.939860",
   "environment_variables": {},
   "exception": null,
   "input_path": "__notebook__.ipynb",
   "output_path": "__notebook__.ipynb",
   "parameters": {},
   "start_time": "2024-01-02T13:15:07.575341",
   "version": "2.4.0"
  },
  "widgets": {
   "application/vnd.jupyter.widget-state+json": {
    "state": {
     "014e5705006c496996e424eee6fb80e7": {
      "model_module": "@jupyter-widgets/controls",
      "model_module_version": "1.5.0",
      "model_name": "ProgressStyleModel",
      "state": {
       "_model_module": "@jupyter-widgets/controls",
       "_model_module_version": "1.5.0",
       "_model_name": "ProgressStyleModel",
       "_view_count": null,
       "_view_module": "@jupyter-widgets/base",
       "_view_module_version": "1.2.0",
       "_view_name": "StyleView",
       "bar_color": null,
       "description_width": ""
      }
     },
     "0aad0379585a49f29fc6e722e85d886d": {
      "model_module": "@jupyter-widgets/controls",
      "model_module_version": "1.5.0",
      "model_name": "HBoxModel",
      "state": {
       "_dom_classes": [],
       "_model_module": "@jupyter-widgets/controls",
       "_model_module_version": "1.5.0",
       "_model_name": "HBoxModel",
       "_view_count": null,
       "_view_module": "@jupyter-widgets/controls",
       "_view_module_version": "1.5.0",
       "_view_name": "HBoxView",
       "box_style": "",
       "children": [
        "IPY_MODEL_8c80dcd6be8d4ba5974ec2ef1b058db2",
        "IPY_MODEL_e6281d5e207a45639db8788c411f349b",
        "IPY_MODEL_a435f9e5653e44fc81a139b0894ff773"
       ],
       "layout": "IPY_MODEL_ea6b1bf639f6441e891ac62a17da873f"
      }
     },
     "1206c2cbb6d94920ae65bf8b18a1db73": {
      "model_module": "@jupyter-widgets/base",
      "model_module_version": "1.2.0",
      "model_name": "LayoutModel",
      "state": {
       "_model_module": "@jupyter-widgets/base",
       "_model_module_version": "1.2.0",
       "_model_name": "LayoutModel",
       "_view_count": null,
       "_view_module": "@jupyter-widgets/base",
       "_view_module_version": "1.2.0",
       "_view_name": "LayoutView",
       "align_content": null,
       "align_items": null,
       "align_self": null,
       "border": null,
       "bottom": null,
       "display": null,
       "flex": null,
       "flex_flow": null,
       "grid_area": null,
       "grid_auto_columns": null,
       "grid_auto_flow": null,
       "grid_auto_rows": null,
       "grid_column": null,
       "grid_gap": null,
       "grid_row": null,
       "grid_template_areas": null,
       "grid_template_columns": null,
       "grid_template_rows": null,
       "height": null,
       "justify_content": null,
       "justify_items": null,
       "left": null,
       "margin": null,
       "max_height": null,
       "max_width": null,
       "min_height": null,
       "min_width": null,
       "object_fit": null,
       "object_position": null,
       "order": null,
       "overflow": null,
       "overflow_x": null,
       "overflow_y": null,
       "padding": null,
       "right": null,
       "top": null,
       "visibility": null,
       "width": null
      }
     },
     "1294a21cc04348a1ad1e3aa87cde57df": {
      "model_module": "@jupyter-widgets/controls",
      "model_module_version": "1.5.0",
      "model_name": "DescriptionStyleModel",
      "state": {
       "_model_module": "@jupyter-widgets/controls",
       "_model_module_version": "1.5.0",
       "_model_name": "DescriptionStyleModel",
       "_view_count": null,
       "_view_module": "@jupyter-widgets/base",
       "_view_module_version": "1.2.0",
       "_view_name": "StyleView",
       "description_width": ""
      }
     },
     "19b89621bba445acb7136c2bd70d50f7": {
      "model_module": "@jupyter-widgets/controls",
      "model_module_version": "1.5.0",
      "model_name": "DescriptionStyleModel",
      "state": {
       "_model_module": "@jupyter-widgets/controls",
       "_model_module_version": "1.5.0",
       "_model_name": "DescriptionStyleModel",
       "_view_count": null,
       "_view_module": "@jupyter-widgets/base",
       "_view_module_version": "1.2.0",
       "_view_name": "StyleView",
       "description_width": ""
      }
     },
     "1baccd001c4e4c98898c8d59e9169a03": {
      "model_module": "@jupyter-widgets/base",
      "model_module_version": "1.2.0",
      "model_name": "LayoutModel",
      "state": {
       "_model_module": "@jupyter-widgets/base",
       "_model_module_version": "1.2.0",
       "_model_name": "LayoutModel",
       "_view_count": null,
       "_view_module": "@jupyter-widgets/base",
       "_view_module_version": "1.2.0",
       "_view_name": "LayoutView",
       "align_content": null,
       "align_items": null,
       "align_self": null,
       "border": null,
       "bottom": null,
       "display": null,
       "flex": null,
       "flex_flow": null,
       "grid_area": null,
       "grid_auto_columns": null,
       "grid_auto_flow": null,
       "grid_auto_rows": null,
       "grid_column": null,
       "grid_gap": null,
       "grid_row": null,
       "grid_template_areas": null,
       "grid_template_columns": null,
       "grid_template_rows": null,
       "height": null,
       "justify_content": null,
       "justify_items": null,
       "left": null,
       "margin": null,
       "max_height": null,
       "max_width": null,
       "min_height": null,
       "min_width": null,
       "object_fit": null,
       "object_position": null,
       "order": null,
       "overflow": null,
       "overflow_x": null,
       "overflow_y": null,
       "padding": null,
       "right": null,
       "top": null,
       "visibility": null,
       "width": null
      }
     },
     "2472eeda2a6e4aeda099287cadbbee79": {
      "model_module": "@jupyter-widgets/base",
      "model_module_version": "1.2.0",
      "model_name": "LayoutModel",
      "state": {
       "_model_module": "@jupyter-widgets/base",
       "_model_module_version": "1.2.0",
       "_model_name": "LayoutModel",
       "_view_count": null,
       "_view_module": "@jupyter-widgets/base",
       "_view_module_version": "1.2.0",
       "_view_name": "LayoutView",
       "align_content": null,
       "align_items": null,
       "align_self": null,
       "border": null,
       "bottom": null,
       "display": null,
       "flex": null,
       "flex_flow": null,
       "grid_area": null,
       "grid_auto_columns": null,
       "grid_auto_flow": null,
       "grid_auto_rows": null,
       "grid_column": null,
       "grid_gap": null,
       "grid_row": null,
       "grid_template_areas": null,
       "grid_template_columns": null,
       "grid_template_rows": null,
       "height": null,
       "justify_content": null,
       "justify_items": null,
       "left": null,
       "margin": null,
       "max_height": null,
       "max_width": null,
       "min_height": null,
       "min_width": null,
       "object_fit": null,
       "object_position": null,
       "order": null,
       "overflow": null,
       "overflow_x": null,
       "overflow_y": null,
       "padding": null,
       "right": null,
       "top": null,
       "visibility": null,
       "width": null
      }
     },
     "27f721e12ec64ef59e81f8090d4dd301": {
      "model_module": "@jupyter-widgets/base",
      "model_module_version": "1.2.0",
      "model_name": "LayoutModel",
      "state": {
       "_model_module": "@jupyter-widgets/base",
       "_model_module_version": "1.2.0",
       "_model_name": "LayoutModel",
       "_view_count": null,
       "_view_module": "@jupyter-widgets/base",
       "_view_module_version": "1.2.0",
       "_view_name": "LayoutView",
       "align_content": null,
       "align_items": null,
       "align_self": null,
       "border": null,
       "bottom": null,
       "display": null,
       "flex": null,
       "flex_flow": null,
       "grid_area": null,
       "grid_auto_columns": null,
       "grid_auto_flow": null,
       "grid_auto_rows": null,
       "grid_column": null,
       "grid_gap": null,
       "grid_row": null,
       "grid_template_areas": null,
       "grid_template_columns": null,
       "grid_template_rows": null,
       "height": null,
       "justify_content": null,
       "justify_items": null,
       "left": null,
       "margin": null,
       "max_height": null,
       "max_width": null,
       "min_height": null,
       "min_width": null,
       "object_fit": null,
       "object_position": null,
       "order": null,
       "overflow": null,
       "overflow_x": null,
       "overflow_y": null,
       "padding": null,
       "right": null,
       "top": null,
       "visibility": null,
       "width": null
      }
     },
     "390f37092ca648bfa00842cc60f023d0": {
      "model_module": "@jupyter-widgets/controls",
      "model_module_version": "1.5.0",
      "model_name": "HBoxModel",
      "state": {
       "_dom_classes": [],
       "_model_module": "@jupyter-widgets/controls",
       "_model_module_version": "1.5.0",
       "_model_name": "HBoxModel",
       "_view_count": null,
       "_view_module": "@jupyter-widgets/controls",
       "_view_module_version": "1.5.0",
       "_view_name": "HBoxView",
       "box_style": "",
       "children": [
        "IPY_MODEL_bcbe7786b34d4de495d84d03e82c69b6",
        "IPY_MODEL_f8d6f1fb1a2d4304a03a702d65d567a1",
        "IPY_MODEL_7a58842e6d784930ad9e5d90af918c1e"
       ],
       "layout": "IPY_MODEL_2472eeda2a6e4aeda099287cadbbee79"
      }
     },
     "3bbe93261e694e1e804d2d61f07e4822": {
      "model_module": "@jupyter-widgets/controls",
      "model_module_version": "1.5.0",
      "model_name": "DescriptionStyleModel",
      "state": {
       "_model_module": "@jupyter-widgets/controls",
       "_model_module_version": "1.5.0",
       "_model_name": "DescriptionStyleModel",
       "_view_count": null,
       "_view_module": "@jupyter-widgets/base",
       "_view_module_version": "1.2.0",
       "_view_name": "StyleView",
       "description_width": ""
      }
     },
     "49fbffd5f7ce4bf0bff5bc5bdb7fa802": {
      "model_module": "@jupyter-widgets/base",
      "model_module_version": "1.2.0",
      "model_name": "LayoutModel",
      "state": {
       "_model_module": "@jupyter-widgets/base",
       "_model_module_version": "1.2.0",
       "_model_name": "LayoutModel",
       "_view_count": null,
       "_view_module": "@jupyter-widgets/base",
       "_view_module_version": "1.2.0",
       "_view_name": "LayoutView",
       "align_content": null,
       "align_items": null,
       "align_self": null,
       "border": null,
       "bottom": null,
       "display": null,
       "flex": null,
       "flex_flow": null,
       "grid_area": null,
       "grid_auto_columns": null,
       "grid_auto_flow": null,
       "grid_auto_rows": null,
       "grid_column": null,
       "grid_gap": null,
       "grid_row": null,
       "grid_template_areas": null,
       "grid_template_columns": null,
       "grid_template_rows": null,
       "height": null,
       "justify_content": null,
       "justify_items": null,
       "left": null,
       "margin": null,
       "max_height": null,
       "max_width": null,
       "min_height": null,
       "min_width": null,
       "object_fit": null,
       "object_position": null,
       "order": null,
       "overflow": null,
       "overflow_x": null,
       "overflow_y": null,
       "padding": null,
       "right": null,
       "top": null,
       "visibility": null,
       "width": null
      }
     },
     "515f0ffa27274c22b0374388cbfb714f": {
      "model_module": "@jupyter-widgets/controls",
      "model_module_version": "1.5.0",
      "model_name": "DescriptionStyleModel",
      "state": {
       "_model_module": "@jupyter-widgets/controls",
       "_model_module_version": "1.5.0",
       "_model_name": "DescriptionStyleModel",
       "_view_count": null,
       "_view_module": "@jupyter-widgets/base",
       "_view_module_version": "1.2.0",
       "_view_name": "StyleView",
       "description_width": ""
      }
     },
     "6c9375a183444f54abed4f113555556e": {
      "model_module": "@jupyter-widgets/controls",
      "model_module_version": "1.5.0",
      "model_name": "HTMLModel",
      "state": {
       "_dom_classes": [],
       "_model_module": "@jupyter-widgets/controls",
       "_model_module_version": "1.5.0",
       "_model_name": "HTMLModel",
       "_view_count": null,
       "_view_module": "@jupyter-widgets/controls",
       "_view_module_version": "1.5.0",
       "_view_name": "HTMLView",
       "description": "",
       "description_tooltip": null,
       "layout": "IPY_MODEL_1baccd001c4e4c98898c8d59e9169a03",
       "placeholder": "​",
       "style": "IPY_MODEL_3bbe93261e694e1e804d2d61f07e4822",
       "value": " 50/50 [05:56&lt;00:00,  8.10s/it]"
      }
     },
     "7a58842e6d784930ad9e5d90af918c1e": {
      "model_module": "@jupyter-widgets/controls",
      "model_module_version": "1.5.0",
      "model_name": "HTMLModel",
      "state": {
       "_dom_classes": [],
       "_model_module": "@jupyter-widgets/controls",
       "_model_module_version": "1.5.0",
       "_model_name": "HTMLModel",
       "_view_count": null,
       "_view_module": "@jupyter-widgets/controls",
       "_view_module_version": "1.5.0",
       "_view_name": "HTMLView",
       "description": "",
       "description_tooltip": null,
       "layout": "IPY_MODEL_a49c461d1ad54f63b568169c243ec992",
       "placeholder": "​",
       "style": "IPY_MODEL_515f0ffa27274c22b0374388cbfb714f",
       "value": " 50/50 [12:59&lt;00:00, 15.03s/it]"
      }
     },
     "7a979e5799d841699eed5e6fc4d387db": {
      "model_module": "@jupyter-widgets/base",
      "model_module_version": "1.2.0",
      "model_name": "LayoutModel",
      "state": {
       "_model_module": "@jupyter-widgets/base",
       "_model_module_version": "1.2.0",
       "_model_name": "LayoutModel",
       "_view_count": null,
       "_view_module": "@jupyter-widgets/base",
       "_view_module_version": "1.2.0",
       "_view_name": "LayoutView",
       "align_content": null,
       "align_items": null,
       "align_self": null,
       "border": null,
       "bottom": null,
       "display": null,
       "flex": null,
       "flex_flow": null,
       "grid_area": null,
       "grid_auto_columns": null,
       "grid_auto_flow": null,
       "grid_auto_rows": null,
       "grid_column": null,
       "grid_gap": null,
       "grid_row": null,
       "grid_template_areas": null,
       "grid_template_columns": null,
       "grid_template_rows": null,
       "height": null,
       "justify_content": null,
       "justify_items": null,
       "left": null,
       "margin": null,
       "max_height": null,
       "max_width": null,
       "min_height": null,
       "min_width": null,
       "object_fit": null,
       "object_position": null,
       "order": null,
       "overflow": null,
       "overflow_x": null,
       "overflow_y": null,
       "padding": null,
       "right": null,
       "top": null,
       "visibility": null,
       "width": null
      }
     },
     "8320649f42c749f88904623fecd8755a": {
      "model_module": "@jupyter-widgets/controls",
      "model_module_version": "1.5.0",
      "model_name": "DescriptionStyleModel",
      "state": {
       "_model_module": "@jupyter-widgets/controls",
       "_model_module_version": "1.5.0",
       "_model_name": "DescriptionStyleModel",
       "_view_count": null,
       "_view_module": "@jupyter-widgets/base",
       "_view_module_version": "1.2.0",
       "_view_name": "StyleView",
       "description_width": ""
      }
     },
     "8c80dcd6be8d4ba5974ec2ef1b058db2": {
      "model_module": "@jupyter-widgets/controls",
      "model_module_version": "1.5.0",
      "model_name": "HTMLModel",
      "state": {
       "_dom_classes": [],
       "_model_module": "@jupyter-widgets/controls",
       "_model_module_version": "1.5.0",
       "_model_name": "HTMLModel",
       "_view_count": null,
       "_view_module": "@jupyter-widgets/controls",
       "_view_module_version": "1.5.0",
       "_view_name": "HTMLView",
       "description": "",
       "description_tooltip": null,
       "layout": "IPY_MODEL_a2002802ebdc45fdb56270020e80293b",
       "placeholder": "​",
       "style": "IPY_MODEL_1294a21cc04348a1ad1e3aa87cde57df",
       "value": "Best trial: 43. Best value: 0.4298: 100%"
      }
     },
     "9fab46c4a94343a3ab8d79cab02d8e23": {
      "model_module": "@jupyter-widgets/controls",
      "model_module_version": "1.5.0",
      "model_name": "DescriptionStyleModel",
      "state": {
       "_model_module": "@jupyter-widgets/controls",
       "_model_module_version": "1.5.0",
       "_model_name": "DescriptionStyleModel",
       "_view_count": null,
       "_view_module": "@jupyter-widgets/base",
       "_view_module_version": "1.2.0",
       "_view_name": "StyleView",
       "description_width": ""
      }
     },
     "a16df6eadfe54be3a27dab47a8105a15": {
      "model_module": "@jupyter-widgets/controls",
      "model_module_version": "1.5.0",
      "model_name": "ProgressStyleModel",
      "state": {
       "_model_module": "@jupyter-widgets/controls",
       "_model_module_version": "1.5.0",
       "_model_name": "ProgressStyleModel",
       "_view_count": null,
       "_view_module": "@jupyter-widgets/base",
       "_view_module_version": "1.2.0",
       "_view_name": "StyleView",
       "bar_color": null,
       "description_width": ""
      }
     },
     "a2002802ebdc45fdb56270020e80293b": {
      "model_module": "@jupyter-widgets/base",
      "model_module_version": "1.2.0",
      "model_name": "LayoutModel",
      "state": {
       "_model_module": "@jupyter-widgets/base",
       "_model_module_version": "1.2.0",
       "_model_name": "LayoutModel",
       "_view_count": null,
       "_view_module": "@jupyter-widgets/base",
       "_view_module_version": "1.2.0",
       "_view_name": "LayoutView",
       "align_content": null,
       "align_items": null,
       "align_self": null,
       "border": null,
       "bottom": null,
       "display": null,
       "flex": null,
       "flex_flow": null,
       "grid_area": null,
       "grid_auto_columns": null,
       "grid_auto_flow": null,
       "grid_auto_rows": null,
       "grid_column": null,
       "grid_gap": null,
       "grid_row": null,
       "grid_template_areas": null,
       "grid_template_columns": null,
       "grid_template_rows": null,
       "height": null,
       "justify_content": null,
       "justify_items": null,
       "left": null,
       "margin": null,
       "max_height": null,
       "max_width": null,
       "min_height": null,
       "min_width": null,
       "object_fit": null,
       "object_position": null,
       "order": null,
       "overflow": null,
       "overflow_x": null,
       "overflow_y": null,
       "padding": null,
       "right": null,
       "top": null,
       "visibility": null,
       "width": null
      }
     },
     "a435f9e5653e44fc81a139b0894ff773": {
      "model_module": "@jupyter-widgets/controls",
      "model_module_version": "1.5.0",
      "model_name": "HTMLModel",
      "state": {
       "_dom_classes": [],
       "_model_module": "@jupyter-widgets/controls",
       "_model_module_version": "1.5.0",
       "_model_name": "HTMLModel",
       "_view_count": null,
       "_view_module": "@jupyter-widgets/controls",
       "_view_module_version": "1.5.0",
       "_view_name": "HTMLView",
       "description": "",
       "description_tooltip": null,
       "layout": "IPY_MODEL_c230dc6456754e4dafbe9aace100d8cb",
       "placeholder": "​",
       "style": "IPY_MODEL_19b89621bba445acb7136c2bd70d50f7",
       "value": " 50/50 [06:27&lt;00:00,  5.21s/it]"
      }
     },
     "a49c461d1ad54f63b568169c243ec992": {
      "model_module": "@jupyter-widgets/base",
      "model_module_version": "1.2.0",
      "model_name": "LayoutModel",
      "state": {
       "_model_module": "@jupyter-widgets/base",
       "_model_module_version": "1.2.0",
       "_model_name": "LayoutModel",
       "_view_count": null,
       "_view_module": "@jupyter-widgets/base",
       "_view_module_version": "1.2.0",
       "_view_name": "LayoutView",
       "align_content": null,
       "align_items": null,
       "align_self": null,
       "border": null,
       "bottom": null,
       "display": null,
       "flex": null,
       "flex_flow": null,
       "grid_area": null,
       "grid_auto_columns": null,
       "grid_auto_flow": null,
       "grid_auto_rows": null,
       "grid_column": null,
       "grid_gap": null,
       "grid_row": null,
       "grid_template_areas": null,
       "grid_template_columns": null,
       "grid_template_rows": null,
       "height": null,
       "justify_content": null,
       "justify_items": null,
       "left": null,
       "margin": null,
       "max_height": null,
       "max_width": null,
       "min_height": null,
       "min_width": null,
       "object_fit": null,
       "object_position": null,
       "order": null,
       "overflow": null,
       "overflow_x": null,
       "overflow_y": null,
       "padding": null,
       "right": null,
       "top": null,
       "visibility": null,
       "width": null
      }
     },
     "bbaf39068fb4479b8c7d8ef257ab024d": {
      "model_module": "@jupyter-widgets/controls",
      "model_module_version": "1.5.0",
      "model_name": "ProgressStyleModel",
      "state": {
       "_model_module": "@jupyter-widgets/controls",
       "_model_module_version": "1.5.0",
       "_model_name": "ProgressStyleModel",
       "_view_count": null,
       "_view_module": "@jupyter-widgets/base",
       "_view_module_version": "1.2.0",
       "_view_name": "StyleView",
       "bar_color": null,
       "description_width": ""
      }
     },
     "bcbe7786b34d4de495d84d03e82c69b6": {
      "model_module": "@jupyter-widgets/controls",
      "model_module_version": "1.5.0",
      "model_name": "HTMLModel",
      "state": {
       "_dom_classes": [],
       "_model_module": "@jupyter-widgets/controls",
       "_model_module_version": "1.5.0",
       "_model_name": "HTMLModel",
       "_view_count": null,
       "_view_module": "@jupyter-widgets/controls",
       "_view_module_version": "1.5.0",
       "_view_name": "HTMLView",
       "description": "",
       "description_tooltip": null,
       "layout": "IPY_MODEL_49fbffd5f7ce4bf0bff5bc5bdb7fa802",
       "placeholder": "​",
       "style": "IPY_MODEL_9fab46c4a94343a3ab8d79cab02d8e23",
       "value": "Best trial: 32. Best value: 0.444708: 100%"
      }
     },
     "c230dc6456754e4dafbe9aace100d8cb": {
      "model_module": "@jupyter-widgets/base",
      "model_module_version": "1.2.0",
      "model_name": "LayoutModel",
      "state": {
       "_model_module": "@jupyter-widgets/base",
       "_model_module_version": "1.2.0",
       "_model_name": "LayoutModel",
       "_view_count": null,
       "_view_module": "@jupyter-widgets/base",
       "_view_module_version": "1.2.0",
       "_view_name": "LayoutView",
       "align_content": null,
       "align_items": null,
       "align_self": null,
       "border": null,
       "bottom": null,
       "display": null,
       "flex": null,
       "flex_flow": null,
       "grid_area": null,
       "grid_auto_columns": null,
       "grid_auto_flow": null,
       "grid_auto_rows": null,
       "grid_column": null,
       "grid_gap": null,
       "grid_row": null,
       "grid_template_areas": null,
       "grid_template_columns": null,
       "grid_template_rows": null,
       "height": null,
       "justify_content": null,
       "justify_items": null,
       "left": null,
       "margin": null,
       "max_height": null,
       "max_width": null,
       "min_height": null,
       "min_width": null,
       "object_fit": null,
       "object_position": null,
       "order": null,
       "overflow": null,
       "overflow_x": null,
       "overflow_y": null,
       "padding": null,
       "right": null,
       "top": null,
       "visibility": null,
       "width": null
      }
     },
     "d3418bb6b29d40889148f2417fa0e25d": {
      "model_module": "@jupyter-widgets/base",
      "model_module_version": "1.2.0",
      "model_name": "LayoutModel",
      "state": {
       "_model_module": "@jupyter-widgets/base",
       "_model_module_version": "1.2.0",
       "_model_name": "LayoutModel",
       "_view_count": null,
       "_view_module": "@jupyter-widgets/base",
       "_view_module_version": "1.2.0",
       "_view_name": "LayoutView",
       "align_content": null,
       "align_items": null,
       "align_self": null,
       "border": null,
       "bottom": null,
       "display": null,
       "flex": null,
       "flex_flow": null,
       "grid_area": null,
       "grid_auto_columns": null,
       "grid_auto_flow": null,
       "grid_auto_rows": null,
       "grid_column": null,
       "grid_gap": null,
       "grid_row": null,
       "grid_template_areas": null,
       "grid_template_columns": null,
       "grid_template_rows": null,
       "height": null,
       "justify_content": null,
       "justify_items": null,
       "left": null,
       "margin": null,
       "max_height": null,
       "max_width": null,
       "min_height": null,
       "min_width": null,
       "object_fit": null,
       "object_position": null,
       "order": null,
       "overflow": null,
       "overflow_x": null,
       "overflow_y": null,
       "padding": null,
       "right": null,
       "top": null,
       "visibility": null,
       "width": null
      }
     },
     "d93d10a8cd4843f186a9be105b6dcd5c": {
      "model_module": "@jupyter-widgets/controls",
      "model_module_version": "1.5.0",
      "model_name": "FloatProgressModel",
      "state": {
       "_dom_classes": [],
       "_model_module": "@jupyter-widgets/controls",
       "_model_module_version": "1.5.0",
       "_model_name": "FloatProgressModel",
       "_view_count": null,
       "_view_module": "@jupyter-widgets/controls",
       "_view_module_version": "1.5.0",
       "_view_name": "ProgressView",
       "bar_style": "success",
       "description": "",
       "description_tooltip": null,
       "layout": "IPY_MODEL_eb3e094184da4d76b0d6a82acfd349d2",
       "max": 50,
       "min": 0,
       "orientation": "horizontal",
       "style": "IPY_MODEL_a16df6eadfe54be3a27dab47a8105a15",
       "value": 50
      }
     },
     "e6281d5e207a45639db8788c411f349b": {
      "model_module": "@jupyter-widgets/controls",
      "model_module_version": "1.5.0",
      "model_name": "FloatProgressModel",
      "state": {
       "_dom_classes": [],
       "_model_module": "@jupyter-widgets/controls",
       "_model_module_version": "1.5.0",
       "_model_name": "FloatProgressModel",
       "_view_count": null,
       "_view_module": "@jupyter-widgets/controls",
       "_view_module_version": "1.5.0",
       "_view_name": "ProgressView",
       "bar_style": "success",
       "description": "",
       "description_tooltip": null,
       "layout": "IPY_MODEL_d3418bb6b29d40889148f2417fa0e25d",
       "max": 50,
       "min": 0,
       "orientation": "horizontal",
       "style": "IPY_MODEL_014e5705006c496996e424eee6fb80e7",
       "value": 50
      }
     },
     "e9af77c6708845c5b9ceb54e7bac2e49": {
      "model_module": "@jupyter-widgets/controls",
      "model_module_version": "1.5.0",
      "model_name": "HTMLModel",
      "state": {
       "_dom_classes": [],
       "_model_module": "@jupyter-widgets/controls",
       "_model_module_version": "1.5.0",
       "_model_name": "HTMLModel",
       "_view_count": null,
       "_view_module": "@jupyter-widgets/controls",
       "_view_module_version": "1.5.0",
       "_view_name": "HTMLView",
       "description": "",
       "description_tooltip": null,
       "layout": "IPY_MODEL_7a979e5799d841699eed5e6fc4d387db",
       "placeholder": "​",
       "style": "IPY_MODEL_8320649f42c749f88904623fecd8755a",
       "value": "Best trial: 36. Best value: 0.430003: 100%"
      }
     },
     "ea6b1bf639f6441e891ac62a17da873f": {
      "model_module": "@jupyter-widgets/base",
      "model_module_version": "1.2.0",
      "model_name": "LayoutModel",
      "state": {
       "_model_module": "@jupyter-widgets/base",
       "_model_module_version": "1.2.0",
       "_model_name": "LayoutModel",
       "_view_count": null,
       "_view_module": "@jupyter-widgets/base",
       "_view_module_version": "1.2.0",
       "_view_name": "LayoutView",
       "align_content": null,
       "align_items": null,
       "align_self": null,
       "border": null,
       "bottom": null,
       "display": null,
       "flex": null,
       "flex_flow": null,
       "grid_area": null,
       "grid_auto_columns": null,
       "grid_auto_flow": null,
       "grid_auto_rows": null,
       "grid_column": null,
       "grid_gap": null,
       "grid_row": null,
       "grid_template_areas": null,
       "grid_template_columns": null,
       "grid_template_rows": null,
       "height": null,
       "justify_content": null,
       "justify_items": null,
       "left": null,
       "margin": null,
       "max_height": null,
       "max_width": null,
       "min_height": null,
       "min_width": null,
       "object_fit": null,
       "object_position": null,
       "order": null,
       "overflow": null,
       "overflow_x": null,
       "overflow_y": null,
       "padding": null,
       "right": null,
       "top": null,
       "visibility": null,
       "width": null
      }
     },
     "eb3e094184da4d76b0d6a82acfd349d2": {
      "model_module": "@jupyter-widgets/base",
      "model_module_version": "1.2.0",
      "model_name": "LayoutModel",
      "state": {
       "_model_module": "@jupyter-widgets/base",
       "_model_module_version": "1.2.0",
       "_model_name": "LayoutModel",
       "_view_count": null,
       "_view_module": "@jupyter-widgets/base",
       "_view_module_version": "1.2.0",
       "_view_name": "LayoutView",
       "align_content": null,
       "align_items": null,
       "align_self": null,
       "border": null,
       "bottom": null,
       "display": null,
       "flex": null,
       "flex_flow": null,
       "grid_area": null,
       "grid_auto_columns": null,
       "grid_auto_flow": null,
       "grid_auto_rows": null,
       "grid_column": null,
       "grid_gap": null,
       "grid_row": null,
       "grid_template_areas": null,
       "grid_template_columns": null,
       "grid_template_rows": null,
       "height": null,
       "justify_content": null,
       "justify_items": null,
       "left": null,
       "margin": null,
       "max_height": null,
       "max_width": null,
       "min_height": null,
       "min_width": null,
       "object_fit": null,
       "object_position": null,
       "order": null,
       "overflow": null,
       "overflow_x": null,
       "overflow_y": null,
       "padding": null,
       "right": null,
       "top": null,
       "visibility": null,
       "width": null
      }
     },
     "f496b5991a214327ba5340d44c776131": {
      "model_module": "@jupyter-widgets/controls",
      "model_module_version": "1.5.0",
      "model_name": "HBoxModel",
      "state": {
       "_dom_classes": [],
       "_model_module": "@jupyter-widgets/controls",
       "_model_module_version": "1.5.0",
       "_model_name": "HBoxModel",
       "_view_count": null,
       "_view_module": "@jupyter-widgets/controls",
       "_view_module_version": "1.5.0",
       "_view_name": "HBoxView",
       "box_style": "",
       "children": [
        "IPY_MODEL_e9af77c6708845c5b9ceb54e7bac2e49",
        "IPY_MODEL_d93d10a8cd4843f186a9be105b6dcd5c",
        "IPY_MODEL_6c9375a183444f54abed4f113555556e"
       ],
       "layout": "IPY_MODEL_27f721e12ec64ef59e81f8090d4dd301"
      }
     },
     "f8d6f1fb1a2d4304a03a702d65d567a1": {
      "model_module": "@jupyter-widgets/controls",
      "model_module_version": "1.5.0",
      "model_name": "FloatProgressModel",
      "state": {
       "_dom_classes": [],
       "_model_module": "@jupyter-widgets/controls",
       "_model_module_version": "1.5.0",
       "_model_name": "FloatProgressModel",
       "_view_count": null,
       "_view_module": "@jupyter-widgets/controls",
       "_view_module_version": "1.5.0",
       "_view_name": "ProgressView",
       "bar_style": "success",
       "description": "",
       "description_tooltip": null,
       "layout": "IPY_MODEL_1206c2cbb6d94920ae65bf8b18a1db73",
       "max": 50,
       "min": 0,
       "orientation": "horizontal",
       "style": "IPY_MODEL_bbaf39068fb4479b8c7d8ef257ab024d",
       "value": 50
      }
     }
    },
    "version_major": 2,
    "version_minor": 0
   }
  }
 },
 "nbformat": 4,
 "nbformat_minor": 5
}
