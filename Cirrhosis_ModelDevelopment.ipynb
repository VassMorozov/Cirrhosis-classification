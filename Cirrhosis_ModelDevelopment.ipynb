{
 "cells": [
  {
   "cell_type": "code",
   "execution_count": 1,
   "id": "670b3755",
   "metadata": {
    "_cell_guid": "b1076dfc-b9ad-4769-8c92-a6c4dae69d19",
    "_uuid": "8f2839f25d086af736a60e9eeb907d3b93b6e0e5",
    "execution": {
     "iopub.execute_input": "2024-01-02T13:15:11.278150Z",
     "iopub.status.busy": "2024-01-02T13:15:11.277126Z",
     "iopub.status.idle": "2024-01-02T13:15:22.761613Z",
     "shell.execute_reply": "2024-01-02T13:15:22.760162Z"
    },
    "papermill": {
     "duration": 11.503817,
     "end_time": "2024-01-02T13:15:22.764662",
     "exception": false,
     "start_time": "2024-01-02T13:15:11.260845",
     "status": "completed"
    },
    "tags": []
   },
   "outputs": [
    {
     "name": "stdout",
     "output_type": "stream",
     "text": [
      "/kaggle/input/playground-series-s3e26/sample_submission.csv\n",
      "/kaggle/input/playground-series-s3e26/train.csv\n",
      "/kaggle/input/playground-series-s3e26/test.csv\n"
     ]
    }
   ],
   "source": [
    "import warnings\n",
    "warnings.filterwarnings(\"ignore\")\n",
    "import numpy as np # linear algebra\n",
    "import pandas as pd # data processing, CSV file I/O (e.g. pd.read_csv)\n",
    "import matplotlib.pyplot as plt\n",
    "import seaborn as sns\n",
    "import math\n",
    "import xgboost as xgb\n",
    "import shap\n",
    "import optuna\n",
    "from optuna import Trial\n",
    "from sklearn.preprocessing import StandardScaler, LabelEncoder\n",
    "from catboost import CatBoostClassifier\n",
    "from lightgbm import LGBMClassifier\n",
    "from sklearn.model_selection import train_test_split, GridSearchCV, StratifiedKFold\n",
    "from sklearn.metrics import f1_score, log_loss\n",
    "from sklearn.linear_model import LogisticRegression\n",
    "from sklearn.tree import DecisionTreeClassifier\n",
    "from sklearn.ensemble import RandomForestClassifier, VotingClassifier"
   ]
  },
  {
   "cell_type": "code",
   "execution_count": 2,
   "id": "f16c7e11",
   "metadata": {
    "execution": {
     "iopub.execute_input": "2024-01-02T13:15:22.792546Z",
     "iopub.status.busy": "2024-01-02T13:15:22.792102Z",
     "iopub.status.idle": "2024-01-02T13:15:22.893629Z",
     "shell.execute_reply": "2024-01-02T13:15:22.892273Z"
    },
    "papermill": {
     "duration": 0.119178,
     "end_time": "2024-01-02T13:15:22.896720",
     "exception": false,
     "start_time": "2024-01-02T13:15:22.777542",
     "status": "completed"
    },
    "tags": []
   },
   "outputs": [],
   "source": [
    "train = pd.read_csv('/kaggle/input/playground-series-s3e26/train.csv').drop(columns=['id'])\n",
    "test = pd.read_csv('/kaggle/input/playground-series-s3e26/test.csv').drop(columns=['id'])"
   ]
  },
  {
   "cell_type": "code",
   "execution_count": null,
   "id": "54a923ce",
   "metadata": {},
   "outputs": [],
   "source": [
    "numeric_columns = train.select_dtypes(include='number').columns.tolist()\n",
    "categorical_columns = train.select_dtypes(include='object').columns.tolist()\n",
    "categorical_columns.remove('Status')"
   ]
  },
  {
   "cell_type": "markdown",
   "id": "2a75c886",
   "metadata": {
    "execution": {
     "iopub.execute_input": "2024-01-02T10:51:24.264868Z",
     "iopub.status.busy": "2024-01-02T10:51:24.264097Z",
     "iopub.status.idle": "2024-01-02T10:51:24.280180Z",
     "shell.execute_reply": "2024-01-02T10:51:24.279372Z"
    },
    "papermill": {
     "duration": 0.023429,
     "end_time": "2024-01-02T13:15:38.054017",
     "exception": false,
     "start_time": "2024-01-02T13:15:38.030588",
     "status": "completed"
    },
    "tags": []
   },
   "source": [
    "## Data Pre-Processing"
   ]
  },
  {
   "cell_type": "code",
   "execution_count": 12,
   "id": "cbc64a86",
   "metadata": {
    "execution": {
     "iopub.execute_input": "2024-01-02T13:15:38.103835Z",
     "iopub.status.busy": "2024-01-02T13:15:38.103380Z",
     "iopub.status.idle": "2024-01-02T13:15:38.114206Z",
     "shell.execute_reply": "2024-01-02T13:15:38.113399Z"
    },
    "papermill": {
     "duration": 0.039292,
     "end_time": "2024-01-02T13:15:38.117489",
     "exception": false,
     "start_time": "2024-01-02T13:15:38.078197",
     "status": "completed"
    },
    "tags": []
   },
   "outputs": [
    {
     "name": "stdout",
     "output_type": "stream",
     "text": [
      "{0: 'Status_C', 2: 'Status_CL', 1: 'Status_D'}\n"
     ]
    }
   ],
   "source": [
    "# Encode target variable\n",
    "\n",
    "# Creating a instance of label Encoder.\n",
    "le = LabelEncoder()\n",
    "\n",
    "# Using .fit_transform function to fit label\n",
    "# encoder and return encoded label\n",
    "train['Status'] = le.fit_transform(train['Status'])\n",
    "le_name_mapping = dict(zip(le.transform(['C', 'D', 'CL']), ['Status_' + item for item in le.inverse_transform([0, 1, 2])]))\n",
    "\n",
    "print(le_name_mapping)"
   ]
  },
  {
   "cell_type": "code",
   "execution_count": 13,
   "id": "0cb46524",
   "metadata": {
    "execution": {
     "iopub.execute_input": "2024-01-02T13:15:38.165991Z",
     "iopub.status.busy": "2024-01-02T13:15:38.164992Z",
     "iopub.status.idle": "2024-01-02T13:15:38.169630Z",
     "shell.execute_reply": "2024-01-02T13:15:38.168870Z"
    },
    "papermill": {
     "duration": 0.031834,
     "end_time": "2024-01-02T13:15:38.172224",
     "exception": false,
     "start_time": "2024-01-02T13:15:38.140390",
     "status": "completed"
    },
    "tags": []
   },
   "outputs": [],
   "source": [
    "# Add stage to categorical columns\n",
    "categorical_columns.append('Stage')\n",
    "numeric_columns.remove('Stage')"
   ]
  },
  {
   "cell_type": "code",
   "execution_count": 14,
   "id": "7940d8e9",
   "metadata": {
    "execution": {
     "iopub.execute_input": "2024-01-02T13:15:38.221204Z",
     "iopub.status.busy": "2024-01-02T13:15:38.220442Z",
     "iopub.status.idle": "2024-01-02T13:15:38.252443Z",
     "shell.execute_reply": "2024-01-02T13:15:38.251589Z"
    },
    "papermill": {
     "duration": 0.060001,
     "end_time": "2024-01-02T13:15:38.255328",
     "exception": false,
     "start_time": "2024-01-02T13:15:38.195327",
     "status": "completed"
    },
    "tags": []
   },
   "outputs": [],
   "source": [
    "# Create dummies for categorical variables\n",
    "train = pd.get_dummies(train, columns=categorical_columns, drop_first=True, dtype=int)\n",
    "test = pd.get_dummies(test, columns=categorical_columns, drop_first=True, dtype=int)"
   ]
  },
  {
   "cell_type": "code",
   "execution_count": 15,
   "id": "566ffcf9",
   "metadata": {
    "execution": {
     "iopub.execute_input": "2024-01-02T13:15:38.348142Z",
     "iopub.status.busy": "2024-01-02T13:15:38.347368Z",
     "iopub.status.idle": "2024-01-02T13:15:38.363019Z",
     "shell.execute_reply": "2024-01-02T13:15:38.362045Z"
    },
    "papermill": {
     "duration": 0.042936,
     "end_time": "2024-01-02T13:15:38.366020",
     "exception": false,
     "start_time": "2024-01-02T13:15:38.323084",
     "status": "completed"
    },
    "tags": []
   },
   "outputs": [],
   "source": [
    "X = train.drop(columns=['Status'], axis =1).values\n",
    "y = train['Status'].values\n",
    "\n",
    "X_train, X_test, y_train, y_test = train_test_split(X, y, stratify=y, test_size=0.15, random_state=4131)"
   ]
  },
  {
   "cell_type": "markdown",
   "id": "6e93f3a2",
   "metadata": {
    "papermill": {
     "duration": 0.022484,
     "end_time": "2024-01-02T13:15:50.628301",
     "exception": false,
     "start_time": "2024-01-02T13:15:50.605817",
     "status": "completed"
    },
    "tags": []
   },
   "source": [
    "## Fitting Individual Models\n",
    "For the competition, an ensemble of models will be developed. As such, individual models need to be fitted. The following models shall be fitted:\n",
    "* XGBoost\n",
    "* LGBM\n",
    "* CatBoost\n",
    "\n",
    "The Optuna hyperparameter tuning framework shall be used to efficiently search the parameter space and select the model pa"
   ]
  },
  {
   "cell_type": "code",
   "execution_count": 19,
   "id": "3bb7f8f9",
   "metadata": {
    "execution": {
     "iopub.execute_input": "2024-01-02T13:15:50.675131Z",
     "iopub.status.busy": "2024-01-02T13:15:50.674688Z",
     "iopub.status.idle": "2024-01-02T13:21:47.258818Z",
     "shell.execute_reply": "2024-01-02T13:21:47.257635Z"
    },
    "papermill": {
     "duration": 356.610763,
     "end_time": "2024-01-02T13:21:47.261477",
     "exception": false,
     "start_time": "2024-01-02T13:15:50.650714",
     "status": "completed"
    },
    "tags": []
   },
   "outputs": [
    {
     "name": "stderr",
     "output_type": "stream",
     "text": [
      "[I 2024-01-02 13:15:50,682] A new study created in memory with name: no-name-cdb3be81-9ad8-4b6b-9256-b24dd64b7346\n"
     ]
    },
    {
     "data": {
      "application/vnd.jupyter.widget-view+json": {
       "model_id": "f496b5991a214327ba5340d44c776131",
       "version_major": 2,
       "version_minor": 0
      },
      "text/plain": [
       "  0%|          | 0/50 [00:00<?, ?it/s]"
      ]
     },
     "metadata": {},
     "output_type": "display_data"
    },
    {
     "name": "stdout",
     "output_type": "stream",
     "text": [
      "[I 2024-01-02 13:15:55,907] Trial 0 finished with value: 0.44367731782823766 and parameters: {'booster': 'gbtree', 'max_depth': 14, 'learning_rate': 0.021776758513913308, 'n_estimators': 1136, 'min_child_weight': 0.11487140285373688, 'subsample': 0.11426374913141848, 'colsample_bylevel': 0.8528572614677947, 'colsample_bytree': 0.21399355862278832, 'colsample_bynode': 0.5662414088691785, 'reg_alpha': 0.019544258086253263, 'reg_lambda': 0.6510515806305793, 'eval_metric': 'mlogloss'}. Best is trial 0 with value: 0.44367731782823766.\n",
      "[I 2024-01-02 13:16:03,157] Trial 1 finished with value: 0.4357076533012237 and parameters: {'booster': 'gbtree', 'max_depth': 12, 'learning_rate': 0.015208171401725774, 'n_estimators': 1379, 'min_child_weight': 0.3690832691324445, 'subsample': 0.31181618187542265, 'colsample_bylevel': 0.9850524556364444, 'colsample_bytree': 0.1502139289642078, 'colsample_bynode': 0.6093190078948872, 'reg_alpha': 0.02965813553305143, 'reg_lambda': 0.1747375184405854, 'eval_metric': 'mlogloss'}. Best is trial 1 with value: 0.4357076533012237.\n",
      "[I 2024-01-02 13:16:13,079] Trial 2 finished with value: 0.5588818820559324 and parameters: {'booster': 'gbtree', 'max_depth': 12, 'learning_rate': 0.06674502576430351, 'n_estimators': 1030, 'min_child_weight': 0.8594969820310621, 'subsample': 0.33139256574062353, 'colsample_bylevel': 0.804353597010364, 'colsample_bytree': 0.7257646177483807, 'colsample_bynode': 0.9288471711642977, 'reg_alpha': 0.6538525843682309, 'reg_lambda': 0.5101993729066644, 'eval_metric': 'mlogloss'}. Best is trial 1 with value: 0.4357076533012237.\n",
      "[I 2024-01-02 13:16:24,128] Trial 3 finished with value: 0.47502654734242405 and parameters: {'booster': 'gbtree', 'max_depth': 10, 'learning_rate': 0.02721910735547112, 'n_estimators': 1056, 'min_child_weight': 0.363249052732941, 'subsample': 0.7575856516618249, 'colsample_bylevel': 0.5284432881897124, 'colsample_bytree': 0.8741710533848539, 'colsample_bynode': 0.22706115217926567, 'reg_alpha': 0.4678032169771667, 'reg_lambda': 0.5257297038723098, 'eval_metric': 'mlogloss'}. Best is trial 1 with value: 0.4357076533012237.\n",
      "[I 2024-01-02 13:16:27,711] Trial 4 finished with value: 0.4403978132830902 and parameters: {'booster': 'gbtree', 'max_depth': 5, 'learning_rate': 0.028069206637009715, 'n_estimators': 1126, 'min_child_weight': 0.8448144591908732, 'subsample': 0.4353671718708347, 'colsample_bylevel': 0.2062504745360161, 'colsample_bytree': 0.1700762813334293, 'colsample_bynode': 0.3428136747098041, 'reg_alpha': 0.31742478951525144, 'reg_lambda': 0.4260529597463447, 'eval_metric': 'mlogloss'}. Best is trial 1 with value: 0.4357076533012237.\n",
      "[I 2024-01-02 13:16:34,732] Trial 5 finished with value: 0.4916075628890834 and parameters: {'booster': 'gbtree', 'max_depth': 20, 'learning_rate': 0.048443345060979734, 'n_estimators': 737, 'min_child_weight': 0.5259075870504935, 'subsample': 0.1792828762468664, 'colsample_bylevel': 0.8335932923463475, 'colsample_bytree': 0.9217998421854846, 'colsample_bynode': 0.4581594063573009, 'reg_alpha': 0.8353445312686042, 'reg_lambda': 0.7831730725638341, 'eval_metric': 'mlogloss'}. Best is trial 1 with value: 0.4357076533012237.\n",
      "[I 2024-01-02 13:16:40,331] Trial 6 finished with value: 0.4435687643775558 and parameters: {'booster': 'gbtree', 'max_depth': 9, 'learning_rate': 0.022098433484176852, 'n_estimators': 1126, 'min_child_weight': 0.13193583951169557, 'subsample': 0.8076812406086818, 'colsample_bylevel': 0.24453536025229006, 'colsample_bytree': 0.478269064669545, 'colsample_bynode': 0.4236246886350258, 'reg_alpha': 0.30501861319761214, 'reg_lambda': 0.8329637908429652, 'eval_metric': 'mlogloss'}. Best is trial 1 with value: 0.4357076533012237.\n",
      "[I 2024-01-02 13:16:45,912] Trial 7 finished with value: 0.52504810190702 and parameters: {'booster': 'gbtree', 'max_depth': 6, 'learning_rate': 0.07688089750212185, 'n_estimators': 995, 'min_child_weight': 0.23757693094181562, 'subsample': 0.4735525006528699, 'colsample_bylevel': 0.30050322561900156, 'colsample_bytree': 0.9884927165006343, 'colsample_bynode': 0.7271995393587682, 'reg_alpha': 0.6627541731818025, 'reg_lambda': 0.5780122228698136, 'eval_metric': 'mlogloss'}. Best is trial 1 with value: 0.4357076533012237.\n",
      "[I 2024-01-02 13:17:03,241] Trial 8 finished with value: 0.4723371900471543 and parameters: {'booster': 'gbtree', 'max_depth': 16, 'learning_rate': 0.01368753316633991, 'n_estimators': 1238, 'min_child_weight': 0.7546449829886943, 'subsample': 0.6473790731016178, 'colsample_bylevel': 0.2155892509752994, 'colsample_bytree': 0.8101372025166527, 'colsample_bynode': 0.9481943938011951, 'reg_alpha': 0.21890213347434506, 'reg_lambda': 0.3889155977278702, 'eval_metric': 'mlogloss'}. Best is trial 1 with value: 0.4357076533012237.\n",
      "[I 2024-01-02 13:17:16,902] Trial 9 finished with value: 0.5244021303191312 and parameters: {'booster': 'gbtree', 'max_depth': 15, 'learning_rate': 0.028984097370103806, 'n_estimators': 1360, 'min_child_weight': 0.7756975106249241, 'subsample': 0.19830248643166404, 'colsample_bylevel': 0.4778286514390645, 'colsample_bytree': 0.8713429691659254, 'colsample_bynode': 0.9200210474751802, 'reg_alpha': 0.21442614447675434, 'reg_lambda': 0.42256182475264226, 'eval_metric': 'mlogloss'}. Best is trial 1 with value: 0.4357076533012237.\n",
      "[I 2024-01-02 13:17:32,372] Trial 10 finished with value: 0.44458762541391644 and parameters: {'booster': 'gbtree', 'max_depth': 19, 'learning_rate': 0.010859219951776538, 'n_estimators': 1437, 'min_child_weight': 0.5397732599381353, 'subsample': 0.21801627691207268, 'colsample_bylevel': 0.9732315894380786, 'colsample_bytree': 0.367324998205654, 'colsample_bynode': 0.6895334324764031, 'reg_alpha': 0.984435874045194, 'reg_lambda': 0.020577298900302243, 'eval_metric': 'mlogloss'}. Best is trial 1 with value: 0.4357076533012237.\n",
      "[I 2024-01-02 13:17:35,095] Trial 11 finished with value: 0.450367019236697 and parameters: {'booster': 'gbtree', 'max_depth': 6, 'learning_rate': 0.01610456978189456, 'n_estimators': 771, 'min_child_weight': 0.951083972206272, 'subsample': 0.39973457900123605, 'colsample_bylevel': 0.10858897028238174, 'colsample_bytree': 0.14944081604325865, 'colsample_bynode': 0.16932154532299287, 'reg_alpha': 0.012069156156867045, 'reg_lambda': 0.20861001206568358, 'eval_metric': 'mlogloss'}. Best is trial 1 with value: 0.4357076533012237.\n",
      "[I 2024-01-02 13:17:37,106] Trial 12 finished with value: 0.4472587093830717 and parameters: {'booster': 'gbtree', 'max_depth': 5, 'learning_rate': 0.04134883079003675, 'n_estimators': 538, 'min_child_weight': 0.6643689506612583, 'subsample': 0.5135805027139004, 'colsample_bylevel': 0.6409256514288887, 'colsample_bytree': 0.29049905481303523, 'colsample_bynode': 0.32059739244953506, 'reg_alpha': 0.39069425054550333, 'reg_lambda': 0.23895091524263498, 'eval_metric': 'mlogloss'}. Best is trial 1 with value: 0.4357076533012237.\n",
      "[I 2024-01-02 13:17:46,922] Trial 13 finished with value: 0.4583658148448444 and parameters: {'booster': 'gbtree', 'max_depth': 9, 'learning_rate': 0.0165329193615397, 'n_estimators': 1310, 'min_child_weight': 0.3457211589497128, 'subsample': 0.27585210309030145, 'colsample_bylevel': 0.4006255138349565, 'colsample_bytree': 0.5701905236617997, 'colsample_bynode': 0.6452426501315989, 'reg_alpha': 0.18453557804341286, 'reg_lambda': 0.214442554770707, 'eval_metric': 'mlogloss'}. Best is trial 1 with value: 0.4357076533012237.\n",
      "[I 2024-01-02 13:17:54,805] Trial 14 finished with value: 0.4453383206390839 and parameters: {'booster': 'gbtree', 'max_depth': 11, 'learning_rate': 0.038372974897641986, 'n_estimators': 1443, 'min_child_weight': 0.37984864367658433, 'subsample': 0.29433476985222545, 'colsample_bylevel': 0.6193267893235503, 'colsample_bytree': 0.10596884438452897, 'colsample_bynode': 0.3569789800850188, 'reg_alpha': 0.11822203381299973, 'reg_lambda': 0.12535074038924976, 'eval_metric': 'mlogloss'}. Best is trial 1 with value: 0.4357076533012237.\n",
      "[I 2024-01-02 13:18:02,081] Trial 15 finished with value: 0.4475292330857991 and parameters: {'booster': 'gbtree', 'max_depth': 17, 'learning_rate': 0.010279601477172903, 'n_estimators': 882, 'min_child_weight': 0.6260430131032828, 'subsample': 0.13094167348549116, 'colsample_bylevel': 0.7150182879742502, 'colsample_bytree': 0.38355992271386496, 'colsample_bynode': 0.7888226261826436, 'reg_alpha': 0.6050234695365814, 'reg_lambda': 0.9724579719618263, 'eval_metric': 'mlogloss'}. Best is trial 1 with value: 0.4357076533012237.\n",
      "[I 2024-01-02 13:18:10,192] Trial 16 finished with value: 0.4447655463094661 and parameters: {'booster': 'gbtree', 'max_depth': 8, 'learning_rate': 0.022327842378626974, 'n_estimators': 1236, 'min_child_weight': 0.9974138113899196, 'subsample': 0.5726713881851256, 'colsample_bylevel': 0.9982501270223781, 'colsample_bytree': 0.25385553135251754, 'colsample_bynode': 0.5154214944076781, 'reg_alpha': 0.3628225318409162, 'reg_lambda': 0.3372142580388974, 'eval_metric': 'mlogloss'}. Best is trial 1 with value: 0.4357076533012237.\n",
      "[I 2024-01-02 13:18:17,063] Trial 17 finished with value: 0.44567959957948955 and parameters: {'booster': 'gbtree', 'max_depth': 13, 'learning_rate': 0.014736014792213536, 'n_estimators': 1269, 'min_child_weight': 0.02533275580909894, 'subsample': 0.37436673172580825, 'colsample_bylevel': 0.3856182817515968, 'colsample_bytree': 0.572541139968182, 'colsample_bynode': 0.11045475330361665, 'reg_alpha': 0.5114786265931615, 'reg_lambda': 0.022755652177819358, 'eval_metric': 'mlogloss'}. Best is trial 1 with value: 0.4357076533012237.\n",
      "[I 2024-01-02 13:18:23,011] Trial 18 finished with value: 0.4667008115591866 and parameters: {'booster': 'gbtree', 'max_depth': 7, 'learning_rate': 0.0536398568996866, 'n_estimators': 1491, 'min_child_weight': 0.4932898195909904, 'subsample': 0.9724458409214588, 'colsample_bylevel': 0.10007736805416664, 'colsample_bytree': 0.360923676313503, 'colsample_bynode': 0.28464292443732003, 'reg_alpha': 0.10106903076056789, 'reg_lambda': 0.32434937197113645, 'eval_metric': 'mlogloss'}. Best is trial 1 with value: 0.4357076533012237.\n",
      "[I 2024-01-02 13:18:29,482] Trial 19 finished with value: 0.4771899124941221 and parameters: {'booster': 'gbtree', 'max_depth': 18, 'learning_rate': 0.0982766993474068, 'n_estimators': 1152, 'min_child_weight': 0.42948228520329645, 'subsample': 0.24751675474175197, 'colsample_bylevel': 0.42047073048263883, 'colsample_bytree': 0.17949179021246472, 'colsample_bynode': 0.5982679173716201, 'reg_alpha': 0.3204416661424364, 'reg_lambda': 0.6576859925106343, 'eval_metric': 'mlogloss'}. Best is trial 1 with value: 0.4357076533012237.\n",
      "[I 2024-01-02 13:18:39,783] Trial 20 finished with value: 0.4971954389336302 and parameters: {'booster': 'gbtree', 'max_depth': 11, 'learning_rate': 0.018656729380895437, 'n_estimators': 918, 'min_child_weight': 0.2545534068795414, 'subsample': 0.15392464231299896, 'colsample_bylevel': 0.6805981281496799, 'colsample_bytree': 0.6893447507860406, 'colsample_bynode': 0.808242259966711, 'reg_alpha': 0.13061782021766238, 'reg_lambda': 0.13264575362567269, 'eval_metric': 'mlogloss'}. Best is trial 1 with value: 0.4357076533012237.\n",
      "[I 2024-01-02 13:18:45,219] Trial 21 finished with value: 0.44336645971020294 and parameters: {'booster': 'gbtree', 'max_depth': 9, 'learning_rate': 0.023722962382453208, 'n_estimators': 1106, 'min_child_weight': 0.1606511308997258, 'subsample': 0.8377831323527197, 'colsample_bylevel': 0.23893831574821917, 'colsample_bytree': 0.4894041507032568, 'colsample_bynode': 0.42733646185998186, 'reg_alpha': 0.29101579049790516, 'reg_lambda': 0.9976747652603022, 'eval_metric': 'mlogloss'}. Best is trial 1 with value: 0.4357076533012237.\n",
      "[I 2024-01-02 13:18:50,050] Trial 22 finished with value: 0.44538506980554854 and parameters: {'booster': 'gbtree', 'max_depth': 5, 'learning_rate': 0.03468365149340692, 'n_estimators': 1384, 'min_child_weight': 0.22919702186006385, 'subsample': 0.43054465986804885, 'colsample_bylevel': 0.3111502835814059, 'colsample_bytree': 0.4651277312695046, 'colsample_bynode': 0.423561541860895, 'reg_alpha': 0.26463902694197966, 'reg_lambda': 0.8771096313636813, 'eval_metric': 'mlogloss'}. Best is trial 1 with value: 0.4357076533012237.\n",
      "[I 2024-01-02 13:18:54,768] Trial 23 finished with value: 0.4398148081479502 and parameters: {'booster': 'gbtree', 'max_depth': 8, 'learning_rate': 0.026250056616967197, 'n_estimators': 1185, 'min_child_weight': 0.13885239277687347, 'subsample': 0.6306499771708192, 'colsample_bylevel': 0.23928309424694458, 'colsample_bytree': 0.2882282953351982, 'colsample_bynode': 0.4822161322144058, 'reg_alpha': 0.4440210615044954, 'reg_lambda': 0.7359628095134162, 'eval_metric': 'mlogloss'}. Best is trial 1 with value: 0.4357076533012237.\n",
      "[I 2024-01-02 13:19:00,587] Trial 24 finished with value: 0.4317162485437591 and parameters: {'booster': 'gbtree', 'max_depth': 7, 'learning_rate': 0.03066559395385235, 'n_estimators': 1201, 'min_child_weight': 0.059876658281478354, 'subsample': 0.5566442166893674, 'colsample_bylevel': 0.1526626857342494, 'colsample_bytree': 0.1025154506752877, 'colsample_bynode': 0.5273483239721026, 'reg_alpha': 0.47139559297704303, 'reg_lambda': 0.704065235964019, 'eval_metric': 'mlogloss'}. Best is trial 24 with value: 0.4317162485437591.\n",
      "[I 2024-01-02 13:19:05,427] Trial 25 finished with value: 0.4476085764255414 and parameters: {'booster': 'gbtree', 'max_depth': 8, 'learning_rate': 0.012351851546782294, 'n_estimators': 1214, 'min_child_weight': 0.04582975717511972, 'subsample': 0.6210957550157203, 'colsample_bylevel': 0.14663454690217692, 'colsample_bytree': 0.27437177297100224, 'colsample_bynode': 0.5413784935888628, 'reg_alpha': 0.7852312134248602, 'reg_lambda': 0.6921184410426056, 'eval_metric': 'mlogloss'}. Best is trial 24 with value: 0.4317162485437591.\n",
      "[I 2024-01-02 13:19:10,698] Trial 26 finished with value: 0.44213828936074484 and parameters: {'booster': 'gbtree', 'max_depth': 7, 'learning_rate': 0.01868832215330902, 'n_estimators': 1339, 'min_child_weight': 0.2799003518656849, 'subsample': 0.6981465400231589, 'colsample_bylevel': 0.2961357036856968, 'colsample_bytree': 0.3139997829149753, 'colsample_bynode': 0.48576518444593597, 'reg_alpha': 0.46680604914369744, 'reg_lambda': 0.7515626132408499, 'eval_metric': 'mlogloss'}. Best is trial 24 with value: 0.4317162485437591.\n",
      "[I 2024-01-02 13:19:16,408] Trial 27 finished with value: 0.43059897854346973 and parameters: {'booster': 'gbtree', 'max_depth': 13, 'learning_rate': 0.033571231702700405, 'n_estimators': 1201, 'min_child_weight': 0.0887043929952987, 'subsample': 0.36728889839439843, 'colsample_bylevel': 0.8945776896315385, 'colsample_bytree': 0.10227620492795626, 'colsample_bynode': 0.6215966500685228, 'reg_alpha': 0.5565569165824358, 'reg_lambda': 0.6069807673943832, 'eval_metric': 'mlogloss'}. Best is trial 27 with value: 0.43059897854346973.\n",
      "[I 2024-01-02 13:19:22,374] Trial 28 finished with value: 0.4334125475336235 and parameters: {'booster': 'gbtree', 'max_depth': 13, 'learning_rate': 0.03452381381725643, 'n_estimators': 1299, 'min_child_weight': 0.0790924079335108, 'subsample': 0.3286400543802678, 'colsample_bylevel': 0.9123901267374515, 'colsample_bytree': 0.10583538383851386, 'colsample_bynode': 0.6054831972183864, 'reg_alpha': 0.5462086724664987, 'reg_lambda': 0.5626203179931986, 'eval_metric': 'mlogloss'}. Best is trial 27 with value: 0.43059897854346973.\n",
      "[I 2024-01-02 13:19:34,320] Trial 29 finished with value: 0.458742895330147 and parameters: {'booster': 'gbtree', 'max_depth': 14, 'learning_rate': 0.03276822198363187, 'n_estimators': 1281, 'min_child_weight': 0.08528452272067558, 'subsample': 0.36799833632270107, 'colsample_bylevel': 0.9156642188449728, 'colsample_bytree': 0.20879414254588552, 'colsample_bynode': 0.7497691945008069, 'reg_alpha': 0.5717738082835304, 'reg_lambda': 0.6036484403780695, 'eval_metric': 'mlogloss'}. Best is trial 27 with value: 0.43059897854346973.\n",
      "[I 2024-01-02 13:19:39,149] Trial 30 finished with value: 0.4340565763570418 and parameters: {'booster': 'gbtree', 'max_depth': 14, 'learning_rate': 0.04510117985741754, 'n_estimators': 946, 'min_child_weight': 0.014392743820461337, 'subsample': 0.5191392657302208, 'colsample_bylevel': 0.7865776432617491, 'colsample_bytree': 0.1295417334386939, 'colsample_bynode': 0.8533340952898864, 'reg_alpha': 0.7524371617714468, 'reg_lambda': 0.5922499177918181, 'eval_metric': 'mlogloss'}. Best is trial 27 with value: 0.43059897854346973.\n",
      "[I 2024-01-02 13:19:43,709] Trial 31 finished with value: 0.432109417123167 and parameters: {'booster': 'gbtree', 'max_depth': 14, 'learning_rate': 0.04274905570709824, 'n_estimators': 924, 'min_child_weight': 0.02242981233649781, 'subsample': 0.5403416914767872, 'colsample_bylevel': 0.7834960823150335, 'colsample_bytree': 0.12129591033663988, 'colsample_bynode': 0.8282080532983307, 'reg_alpha': 0.7324620721363251, 'reg_lambda': 0.5516839546957081, 'eval_metric': 'mlogloss'}. Best is trial 27 with value: 0.43059897854346973.\n",
      "[I 2024-01-02 13:19:47,546] Trial 32 finished with value: 0.4387606202974786 and parameters: {'booster': 'gbtree', 'max_depth': 13, 'learning_rate': 0.056274914235003755, 'n_estimators': 818, 'min_child_weight': 0.16989696812488025, 'subsample': 0.3351959598702312, 'colsample_bylevel': 0.9099446313000248, 'colsample_bytree': 0.10621771633381683, 'colsample_bynode': 0.6665099812098789, 'reg_alpha': 0.5442134685715645, 'reg_lambda': 0.6510554868342212, 'eval_metric': 'mlogloss'}. Best is trial 27 with value: 0.43059897854346973.\n",
      "[I 2024-01-02 13:19:50,849] Trial 33 finished with value: 0.4389892262262365 and parameters: {'booster': 'gbtree', 'max_depth': 15, 'learning_rate': 0.036784857984538975, 'n_estimators': 649, 'min_child_weight': 0.07339201948314315, 'subsample': 0.5430564197840632, 'colsample_bylevel': 0.7644518904862851, 'colsample_bytree': 0.2198804545249976, 'colsample_bynode': 0.5684824016534273, 'reg_alpha': 0.6885238575359237, 'reg_lambda': 0.491930033892223, 'eval_metric': 'mlogloss'}. Best is trial 27 with value: 0.43059897854346973.\n",
      "[I 2024-01-02 13:19:55,382] Trial 34 finished with value: 0.4393356563638797 and parameters: {'booster': 'gbtree', 'max_depth': 11, 'learning_rate': 0.04315908051468296, 'n_estimators': 1057, 'min_child_weight': 0.1979271805526805, 'subsample': 0.4656251004593154, 'colsample_bylevel': 0.886924007267237, 'colsample_bytree': 0.20808696563140244, 'colsample_bynode': 0.6180547995752572, 'reg_alpha': 0.8750215726084793, 'reg_lambda': 0.5106219243877972, 'eval_metric': 'mlogloss'}. Best is trial 27 with value: 0.43059897854346973.\n",
      "[I 2024-01-02 13:20:00,262] Trial 35 finished with value: 0.4357854193127431 and parameters: {'booster': 'gbtree', 'max_depth': 12, 'learning_rate': 0.05041082832430224, 'n_estimators': 973, 'min_child_weight': 0.10142021989987264, 'subsample': 0.260666313792373, 'colsample_bylevel': 0.8391681205630899, 'colsample_bytree': 0.1520437346525799, 'colsample_bynode': 0.9974617864867275, 'reg_alpha': 0.6962577322982735, 'reg_lambda': 0.5658712502873465, 'eval_metric': 'mlogloss'}. Best is trial 27 with value: 0.43059897854346973.\n",
      "[I 2024-01-02 13:20:05,741] Trial 36 finished with value: 0.4300027601789658 and parameters: {'booster': 'gbtree', 'max_depth': 15, 'learning_rate': 0.03113147998257793, 'n_estimators': 1057, 'min_child_weight': 0.313188299947348, 'subsample': 0.34347465278280587, 'colsample_bylevel': 0.7366171264088972, 'colsample_bytree': 0.10345586396199306, 'colsample_bynode': 0.8375648091433346, 'reg_alpha': 0.5952755901437852, 'reg_lambda': 0.7190086383271677, 'eval_metric': 'mlogloss'}. Best is trial 36 with value: 0.4300027601789658.\n",
      "[I 2024-01-02 13:20:10,883] Trial 37 finished with value: 0.4383258542619765 and parameters: {'booster': 'gbtree', 'max_depth': 16, 'learning_rate': 0.02958230001228547, 'n_estimators': 1062, 'min_child_weight': 0.2971076434646144, 'subsample': 0.40549663628248894, 'colsample_bylevel': 0.5734927331191441, 'colsample_bytree': 0.22661568269909194, 'colsample_bynode': 0.8806683602764358, 'reg_alpha': 0.5989558034423557, 'reg_lambda': 0.8408923402424879, 'eval_metric': 'mlogloss'}. Best is trial 36 with value: 0.4300027601789658.\n",
      "[I 2024-01-02 13:20:15,093] Trial 38 finished with value: 0.4418054644605871 and parameters: {'booster': 'gbtree', 'max_depth': 15, 'learning_rate': 0.06570591350680802, 'n_estimators': 867, 'min_child_weight': 0.19596834257419643, 'subsample': 0.46511115830197014, 'colsample_bylevel': 0.7367654433098199, 'colsample_bytree': 0.17089057442903055, 'colsample_bynode': 0.8157846999620285, 'reg_alpha': 0.743131505818319, 'reg_lambda': 0.701201316379292, 'eval_metric': 'mlogloss'}. Best is trial 36 with value: 0.4300027601789658.\n",
      "[I 2024-01-02 13:20:25,440] Trial 39 finished with value: 0.4498581692727426 and parameters: {'booster': 'gbtree', 'max_depth': 17, 'learning_rate': 0.025707404964440562, 'n_estimators': 1020, 'min_child_weight': 0.01602035277497035, 'subsample': 0.3553409240752538, 'colsample_bylevel': 0.8096240744525317, 'colsample_bytree': 0.3282424660737244, 'colsample_bynode': 0.7359188301277183, 'reg_alpha': 0.6333908978684902, 'reg_lambda': 0.9147634637426916, 'eval_metric': 'mlogloss'}. Best is trial 36 with value: 0.4300027601789658.\n",
      "[I 2024-01-02 13:20:42,951] Trial 40 finished with value: 0.5345938096107566 and parameters: {'booster': 'gbtree', 'max_depth': 12, 'learning_rate': 0.030595047705678446, 'n_estimators': 1104, 'min_child_weight': 0.31888346835693004, 'subsample': 0.7235830039813632, 'colsample_bylevel': 0.6840138022925906, 'colsample_bytree': 0.6578019890987287, 'colsample_bynode': 0.8813234786717346, 'reg_alpha': 0.4205831980669423, 'reg_lambda': 0.7734343070822893, 'eval_metric': 'mlogloss'}. Best is trial 36 with value: 0.4300027601789658.\n",
      "[I 2024-01-02 13:20:48,448] Trial 41 finished with value: 0.4364873958364971 and parameters: {'booster': 'gbtree', 'max_depth': 13, 'learning_rate': 0.03488508706113841, 'n_estimators': 1179, 'min_child_weight': 0.09382021992123281, 'subsample': 0.30258890829191026, 'colsample_bylevel': 0.8662884721190951, 'colsample_bytree': 0.10864340274896618, 'colsample_bynode': 0.6924858558571757, 'reg_alpha': 0.512049064208574, 'reg_lambda': 0.6218161308989628, 'eval_metric': 'mlogloss'}. Best is trial 36 with value: 0.4300027601789658.\n",
      "[I 2024-01-02 13:20:53,254] Trial 42 finished with value: 0.4388503847924498 and parameters: {'booster': 'gbtree', 'max_depth': 14, 'learning_rate': 0.040087947398875265, 'n_estimators': 1087, 'min_child_weight': 0.13391730148326447, 'subsample': 0.22998411742281372, 'colsample_bylevel': 0.9651272816206192, 'colsample_bytree': 0.16536232751857405, 'colsample_bynode': 0.5978062636906519, 'reg_alpha': 0.5406567363257675, 'reg_lambda': 0.465886533977512, 'eval_metric': 'mlogloss'}. Best is trial 36 with value: 0.4300027601789658.\n",
      "[I 2024-01-02 13:20:58,910] Trial 43 finished with value: 0.441016645128318 and parameters: {'booster': 'gbtree', 'max_depth': 16, 'learning_rate': 0.0333594273214959, 'n_estimators': 1153, 'min_child_weight': 0.11254659686246249, 'subsample': 0.34493951137580114, 'colsample_bylevel': 0.9234807500522544, 'colsample_bytree': 0.18846462786525517, 'colsample_bynode': 0.5436067953576793, 'reg_alpha': 0.6370390504360246, 'reg_lambda': 0.562323626540333, 'eval_metric': 'mlogloss'}. Best is trial 36 with value: 0.4300027601789658.\n",
      "[I 2024-01-02 13:21:04,556] Trial 44 finished with value: 0.43752978568363954 and parameters: {'booster': 'gbtree', 'max_depth': 14, 'learning_rate': 0.044883238659582596, 'n_estimators': 1008, 'min_child_weight': 0.07094048342097353, 'subsample': 0.3161491927197114, 'colsample_bylevel': 0.8298041796711051, 'colsample_bytree': 0.10893155797727642, 'colsample_bynode': 0.7543398865476578, 'reg_alpha': 0.8755410318143461, 'reg_lambda': 0.7090295128279638, 'eval_metric': 'mlogloss'}. Best is trial 36 with value: 0.4300027601789658.\n",
      "[I 2024-01-02 13:21:10,664] Trial 45 finished with value: 0.437260518169822 and parameters: {'booster': 'gbtree', 'max_depth': 15, 'learning_rate': 0.024808336656096035, 'n_estimators': 1258, 'min_child_weight': 0.2183061155730722, 'subsample': 0.4097696458706752, 'colsample_bylevel': 0.5198663885079985, 'colsample_bytree': 0.14887730347901668, 'colsample_bynode': 0.9482432143750744, 'reg_alpha': 0.4843716489030943, 'reg_lambda': 0.8089275128731174, 'eval_metric': 'mlogloss'}. Best is trial 36 with value: 0.4300027601789658.\n",
      "[I 2024-01-02 13:21:19,649] Trial 46 finished with value: 0.4883972298274478 and parameters: {'booster': 'gbtree', 'max_depth': 12, 'learning_rate': 0.060641813451933015, 'n_estimators': 1201, 'min_child_weight': 0.05549598525884145, 'subsample': 0.2813179323886124, 'colsample_bylevel': 0.781112252960849, 'colsample_bytree': 0.25827365528952007, 'colsample_bynode': 0.6998320982419589, 'reg_alpha': 0.5658424245109414, 'reg_lambda': 0.5388131110207807, 'eval_metric': 'mlogloss'}. Best is trial 36 with value: 0.4300027601789658.\n",
      "[I 2024-01-02 13:21:25,974] Trial 47 finished with value: 0.4385913628802153 and parameters: {'booster': 'gbtree', 'max_depth': 10, 'learning_rate': 0.027974579189360468, 'n_estimators': 1309, 'min_child_weight': 0.1678576332508011, 'subsample': 0.5747370768426916, 'colsample_bylevel': 0.8777790317672282, 'colsample_bytree': 0.23425196538202506, 'colsample_bynode': 0.6465408498546255, 'reg_alpha': 0.40205887150696346, 'reg_lambda': 0.4322533905233324, 'eval_metric': 'mlogloss'}. Best is trial 36 with value: 0.4300027601789658.\n",
      "[I 2024-01-02 13:21:44,528] Trial 48 finished with value: 0.48259761032300025 and parameters: {'booster': 'gbtree', 'max_depth': 13, 'learning_rate': 0.01992081646078184, 'n_estimators': 1400, 'min_child_weight': 0.4357316018535174, 'subsample': 0.48554185968784025, 'colsample_bylevel': 0.9516017129612937, 'colsample_bytree': 0.414310562574586, 'colsample_bynode': 0.7746173998272539, 'reg_alpha': 0.685467587348228, 'reg_lambda': 0.6386234460244194, 'eval_metric': 'mlogloss'}. Best is trial 36 with value: 0.4300027601789658.\n",
      "[I 2024-01-02 13:21:47,243] Trial 49 finished with value: 0.4395083803674683 and parameters: {'booster': 'gbtree', 'max_depth': 17, 'learning_rate': 0.03791101934880489, 'n_estimators': 680, 'min_child_weight': 0.12316368555878238, 'subsample': 0.10751477739016643, 'colsample_bylevel': 0.7378836982989601, 'colsample_bytree': 0.14040991437604394, 'colsample_bynode': 0.8413551494424886, 'reg_alpha': 0.8228858767279754, 'reg_lambda': 0.6674840565275679, 'eval_metric': 'mlogloss'}. Best is trial 36 with value: 0.4300027601789658.\n"
     ]
    }
   ],
   "source": [
    "def objective_xgb(trial):\n",
    "    \n",
    "    xgb_params = {\n",
    "        'booster': trial.suggest_categorical('booster', ['gbtree']),\n",
    "        'max_depth': trial.suggest_int('max_depth', 5, 20),\n",
    "        'learning_rate': trial.suggest_loguniform('learning_rate', 0.01, 0.1),\n",
    "        'n_estimators': trial.suggest_int('n_estimators', 500, 1500),\n",
    "        'min_child_weight': trial.suggest_float('min_child_weight', 0.01, 1),\n",
    "        'subsample': trial.suggest_loguniform('subsample', 0.1, 1.0),\n",
    "        'colsample_bylevel': trial.suggest_float('colsample_bylevel', 0.1, 1),\n",
    "        'colsample_bytree': trial.suggest_float('colsample_bytree', 0.1, 1),\n",
    "        'colsample_bynode': trial.suggest_float('colsample_bynode', 0.1, 1),\n",
    "        'reg_alpha': trial.suggest_float('reg_alpha', 0.01, 1),\n",
    "        'reg_lambda': trial.suggest_float('reg_lambda', 0.01, 1),\n",
    "        'eval_metric':trial.suggest_categorical('eval_metric', ['mlogloss']),\n",
    "    }\n",
    "    xgb_model = xgb.XGBClassifier(**xgb_params,random_state=42)\n",
    "    xgb_model.fit(X_train,y_train)\n",
    "    \n",
    "    return log_loss(y_test, xgb_model.predict_proba(X_test))\n",
    "\n",
    "study_xgb = optuna.create_study(direction='minimize')\n",
    "\n",
    "study_xgb.optimize(objective_xgb, n_trials=50, show_progress_bar=True)"
   ]
  },
  {
   "cell_type": "code",
   "execution_count": 20,
   "id": "457571df",
   "metadata": {
    "execution": {
     "iopub.execute_input": "2024-01-02T13:21:47.322664Z",
     "iopub.status.busy": "2024-01-02T13:21:47.322239Z",
     "iopub.status.idle": "2024-01-02T13:34:46.886242Z",
     "shell.execute_reply": "2024-01-02T13:34:46.885037Z"
    },
    "papermill": {
     "duration": 779.598356,
     "end_time": "2024-01-02T13:34:46.889249",
     "exception": false,
     "start_time": "2024-01-02T13:21:47.290893",
     "status": "completed"
    },
    "tags": []
   },
   "outputs": [
    {
     "name": "stderr",
     "output_type": "stream",
     "text": [
      "[I 2024-01-02 13:21:47,330] A new study created in memory with name: no-name-f1d926c7-7814-4412-b2e1-29a7d2547165\n"
     ]
    },
    {
     "data": {
      "application/vnd.jupyter.widget-view+json": {
       "model_id": "390f37092ca648bfa00842cc60f023d0",
       "version_major": 2,
       "version_minor": 0
      },
      "text/plain": [
       "  0%|          | 0/50 [00:00<?, ?it/s]"
      ]
     },
     "metadata": {},
     "output_type": "display_data"
    },
    {
     "name": "stdout",
     "output_type": "stream",
     "text": [
      "[I 2024-01-02 13:21:50,740] Trial 0 finished with value: 0.46460324834237454 and parameters: {'bootstrap_type': 'MVS', 'colsample_bylevel': 0.21448044391161836, 'iterations': 626, 'l2_leaf_reg': 3.4637813054314464, 'bagging_temperature': 2.7848133188954876, 'depth': 3, 'random_strength': 7.228274377567994, 'min_data_in_leaf': 11, 'grow_policy': 'SymmetricTree', 'boosting_type': 'Plain', 'score_function': 'Cosine', 'leaf_estimation_iterations': 2}. Best is trial 0 with value: 0.46460324834237454.\n",
      "[I 2024-01-02 13:21:55,595] Trial 1 finished with value: 0.46268924327731337 and parameters: {'bootstrap_type': 'MVS', 'colsample_bylevel': 0.5367397627825986, 'iterations': 500, 'l2_leaf_reg': 1.2933320326959816, 'bagging_temperature': 1.3037827216784657, 'depth': 3, 'random_strength': 5.435350302574786, 'min_data_in_leaf': 1, 'grow_policy': 'Depthwise', 'boosting_type': 'Plain', 'score_function': 'Cosine', 'leaf_estimation_iterations': 5}. Best is trial 1 with value: 0.46268924327731337.\n",
      "[I 2024-01-02 13:22:30,560] Trial 2 finished with value: 0.48275667003992084 and parameters: {'bootstrap_type': 'MVS', 'colsample_bylevel': 0.5297914615174031, 'iterations': 548, 'l2_leaf_reg': 3.232788167733876, 'bagging_temperature': 2.319570534483189, 'depth': 10, 'random_strength': 3.6929866045378303, 'min_data_in_leaf': 18, 'grow_policy': 'SymmetricTree', 'boosting_type': 'Plain', 'score_function': 'Cosine', 'leaf_estimation_iterations': 10}. Best is trial 1 with value: 0.46268924327731337.\n",
      "[I 2024-01-02 13:22:45,983] Trial 3 finished with value: 0.45197834484137567 and parameters: {'bootstrap_type': 'MVS', 'colsample_bylevel': 0.6543231251507375, 'iterations': 873, 'l2_leaf_reg': 2.987212568664823, 'bagging_temperature': 2.7047812314445467, 'depth': 8, 'random_strength': 7.519219482878037, 'min_data_in_leaf': 3, 'grow_policy': 'Depthwise', 'boosting_type': 'Plain', 'score_function': 'Cosine', 'leaf_estimation_iterations': 1}. Best is trial 3 with value: 0.45197834484137567.\n",
      "[I 2024-01-02 13:23:21,072] Trial 4 finished with value: 0.5380591521518868 and parameters: {'bootstrap_type': 'MVS', 'colsample_bylevel': 0.982361820607092, 'iterations': 957, 'l2_leaf_reg': 2.863219155653068, 'bagging_temperature': 2.887457088588592, 'depth': 8, 'random_strength': 6.132000714330113, 'min_data_in_leaf': 4, 'grow_policy': 'Depthwise', 'boosting_type': 'Plain', 'score_function': 'Cosine', 'leaf_estimation_iterations': 12}. Best is trial 3 with value: 0.45197834484137567.\n",
      "[I 2024-01-02 13:23:44,346] Trial 5 finished with value: 0.491479077344263 and parameters: {'bootstrap_type': 'Bayesian', 'colsample_bylevel': 0.13834685273832148, 'iterations': 875, 'l2_leaf_reg': 2.8531187188007254, 'bagging_temperature': 2.085528662799357, 'depth': 9, 'random_strength': 4.97279392921372, 'min_data_in_leaf': 5, 'grow_policy': 'SymmetricTree', 'boosting_type': 'Plain', 'score_function': 'L2', 'leaf_estimation_iterations': 10}. Best is trial 3 with value: 0.45197834484137567.\n",
      "[I 2024-01-02 13:23:53,772] Trial 6 finished with value: 0.4557853544395463 and parameters: {'bootstrap_type': 'MVS', 'colsample_bylevel': 0.6618522787849861, 'iterations': 678, 'l2_leaf_reg': 0.18586075375710534, 'bagging_temperature': 2.9432536903553785, 'depth': 7, 'random_strength': 3.436170552092321, 'min_data_in_leaf': 7, 'grow_policy': 'SymmetricTree', 'boosting_type': 'Plain', 'score_function': 'Cosine', 'leaf_estimation_iterations': 1}. Best is trial 3 with value: 0.45197834484137567.\n",
      "[I 2024-01-02 13:24:37,422] Trial 7 finished with value: 0.4788365430483081 and parameters: {'bootstrap_type': 'MVS', 'colsample_bylevel': 0.14127001490211705, 'iterations': 535, 'l2_leaf_reg': 2.528752778579527, 'bagging_temperature': 1.4507131009368683, 'depth': 12, 'random_strength': 6.450559498884001, 'min_data_in_leaf': 9, 'grow_policy': 'SymmetricTree', 'boosting_type': 'Plain', 'score_function': 'Cosine', 'leaf_estimation_iterations': 15}. Best is trial 3 with value: 0.45197834484137567.\n",
      "[I 2024-01-02 13:24:41,910] Trial 8 finished with value: 0.45381396652565476 and parameters: {'bootstrap_type': 'Bayesian', 'colsample_bylevel': 0.6108883850680852, 'iterations': 761, 'l2_leaf_reg': 1.7345418608713712, 'bagging_temperature': 1.0934498903299568, 'depth': 4, 'random_strength': 6.604357629239228, 'min_data_in_leaf': 18, 'grow_policy': 'Depthwise', 'boosting_type': 'Plain', 'score_function': 'L2', 'leaf_estimation_iterations': 1}. Best is trial 3 with value: 0.45197834484137567.\n",
      "[I 2024-01-02 13:24:57,817] Trial 9 finished with value: 0.4783384110236626 and parameters: {'bootstrap_type': 'MVS', 'colsample_bylevel': 0.5573705936774181, 'iterations': 598, 'l2_leaf_reg': 1.5144714405108284, 'bagging_temperature': 2.047937319640141, 'depth': 8, 'random_strength': 8.082878818529647, 'min_data_in_leaf': 19, 'grow_policy': 'SymmetricTree', 'boosting_type': 'Plain', 'score_function': 'L2', 'leaf_estimation_iterations': 8}. Best is trial 3 with value: 0.45197834484137567.\n",
      "[I 2024-01-02 13:25:05,301] Trial 10 finished with value: 0.47508089799344305 and parameters: {'bootstrap_type': 'Bayesian', 'colsample_bylevel': 0.8445803412890514, 'iterations': 1100, 'l2_leaf_reg': 3.983972181694843, 'bagging_temperature': 2.5222531796348813, 'depth': 1, 'random_strength': 9.896990620914629, 'min_data_in_leaf': 13, 'grow_policy': 'Depthwise', 'boosting_type': 'Plain', 'score_function': 'L2', 'leaf_estimation_iterations': 4}. Best is trial 3 with value: 0.45197834484137567.\n",
      "[I 2024-01-02 13:25:14,968] Trial 11 finished with value: 0.4528246026640833 and parameters: {'bootstrap_type': 'Bayesian', 'colsample_bylevel': 0.7441671662189743, 'iterations': 783, 'l2_leaf_reg': 2.005334806295594, 'bagging_temperature': 1.6540554390646776, 'depth': 5, 'random_strength': 0.37186475393754215, 'min_data_in_leaf': 15, 'grow_policy': 'Depthwise', 'boosting_type': 'Plain', 'score_function': 'L2', 'leaf_estimation_iterations': 4}. Best is trial 3 with value: 0.45197834484137567.\n",
      "[I 2024-01-02 13:25:26,358] Trial 12 finished with value: 0.4554656669830401 and parameters: {'bootstrap_type': 'Bayesian', 'colsample_bylevel': 0.7590250421271708, 'iterations': 823, 'l2_leaf_reg': 2.1600427284715797, 'bagging_temperature': 1.6339472826646901, 'depth': 5, 'random_strength': 0.16561624643431946, 'min_data_in_leaf': 14, 'grow_policy': 'Depthwise', 'boosting_type': 'Plain', 'score_function': 'L2', 'leaf_estimation_iterations': 5}. Best is trial 3 with value: 0.45197834484137567.\n",
      "[I 2024-01-02 13:25:37,549] Trial 13 finished with value: 0.4538088740387203 and parameters: {'bootstrap_type': 'Bayesian', 'colsample_bylevel': 0.4077343621617956, 'iterations': 924, 'l2_leaf_reg': 0.9668742753648334, 'bagging_temperature': 1.7507523579009137, 'depth': 6, 'random_strength': 0.94676880041405, 'min_data_in_leaf': 15, 'grow_policy': 'Depthwise', 'boosting_type': 'Plain', 'score_function': 'L2', 'leaf_estimation_iterations': 3}. Best is trial 3 with value: 0.45197834484137567.\n",
      "[I 2024-01-02 13:27:38,205] Trial 14 finished with value: 0.5409115683829836 and parameters: {'bootstrap_type': 'Bayesian', 'colsample_bylevel': 0.8273312307891368, 'iterations': 737, 'l2_leaf_reg': 2.236738947762646, 'bagging_temperature': 2.4438092687382618, 'depth': 12, 'random_strength': 2.0797728295445026, 'min_data_in_leaf': 1, 'grow_policy': 'Depthwise', 'boosting_type': 'Plain', 'score_function': 'Cosine', 'leaf_estimation_iterations': 6}. Best is trial 3 with value: 0.45197834484137567.\n",
      "[I 2024-01-02 13:27:54,969] Trial 15 finished with value: 0.4729308194039564 and parameters: {'bootstrap_type': 'Bayesian', 'colsample_bylevel': 0.42524911672316845, 'iterations': 1008, 'l2_leaf_reg': 0.7094430330228549, 'bagging_temperature': 1.8101846135505033, 'depth': 6, 'random_strength': 9.385514449648154, 'min_data_in_leaf': 10, 'grow_policy': 'Depthwise', 'boosting_type': 'Plain', 'score_function': 'L2', 'leaf_estimation_iterations': 7}. Best is trial 3 with value: 0.45197834484137567.\n",
      "[I 2024-01-02 13:28:00,412] Trial 16 finished with value: 0.47399696310407025 and parameters: {'bootstrap_type': 'MVS', 'colsample_bylevel': 0.9995854877095482, 'iterations': 838, 'l2_leaf_reg': 3.8058209157989107, 'bagging_temperature': 2.0974013202482773, 'depth': 1, 'random_strength': 8.154880780135684, 'min_data_in_leaf': 16, 'grow_policy': 'Depthwise', 'boosting_type': 'Plain', 'score_function': 'L2', 'leaf_estimation_iterations': 3}. Best is trial 3 with value: 0.45197834484137567.\n",
      "[I 2024-01-02 13:28:24,674] Trial 17 finished with value: 0.47180431272769713 and parameters: {'bootstrap_type': 'Bayesian', 'colsample_bylevel': 0.7154837113361527, 'iterations': 727, 'l2_leaf_reg': 2.6149623877517914, 'bagging_temperature': 2.656047024270643, 'depth': 10, 'random_strength': 3.4678780345499667, 'min_data_in_leaf': 12, 'grow_policy': 'Depthwise', 'boosting_type': 'Plain', 'score_function': 'Cosine', 'leaf_estimation_iterations': 3}. Best is trial 3 with value: 0.45197834484137567.\n",
      "[I 2024-01-02 13:28:33,850] Trial 18 finished with value: 0.44870318823922345 and parameters: {'bootstrap_type': 'Bayesian', 'colsample_bylevel': 0.8740681278291518, 'iterations': 1027, 'l2_leaf_reg': 1.9074274006294616, 'bagging_temperature': 1.527705463161962, 'depth': 5, 'random_strength': 1.7956223249568377, 'min_data_in_leaf': 8, 'grow_policy': 'Depthwise', 'boosting_type': 'Plain', 'score_function': 'L2', 'leaf_estimation_iterations': 1}. Best is trial 18 with value: 0.44870318823922345.\n",
      "[I 2024-01-02 13:28:48,025] Trial 19 finished with value: 0.45028972311868004 and parameters: {'bootstrap_type': 'MVS', 'colsample_bylevel': 0.8530251107786537, 'iterations': 1065, 'l2_leaf_reg': 3.2199242695227417, 'bagging_temperature': 1.3660430521210638, 'depth': 7, 'random_strength': 2.290923855404799, 'min_data_in_leaf': 5, 'grow_policy': 'Depthwise', 'boosting_type': 'Plain', 'score_function': 'Cosine', 'leaf_estimation_iterations': 1}. Best is trial 18 with value: 0.44870318823922345.\n",
      "[I 2024-01-02 13:29:04,412] Trial 20 finished with value: 0.4525075041357299 and parameters: {'bootstrap_type': 'Bayesian', 'colsample_bylevel': 0.9080819055052889, 'iterations': 1065, 'l2_leaf_reg': 3.500813376282095, 'bagging_temperature': 1.0255056244425473, 'depth': 3, 'random_strength': 2.0004296403836506, 'min_data_in_leaf': 7, 'grow_policy': 'Depthwise', 'boosting_type': 'Plain', 'score_function': 'Cosine', 'leaf_estimation_iterations': 10}. Best is trial 18 with value: 0.44870318823922345.\n",
      "[I 2024-01-02 13:29:18,294] Trial 21 finished with value: 0.4529340168810972 and parameters: {'bootstrap_type': 'MVS', 'colsample_bylevel': 0.8678833427645982, 'iterations': 1016, 'l2_leaf_reg': 3.1255136180268943, 'bagging_temperature': 1.3796374930511377, 'depth': 7, 'random_strength': 1.8734756911273904, 'min_data_in_leaf': 4, 'grow_policy': 'Depthwise', 'boosting_type': 'Plain', 'score_function': 'Cosine', 'leaf_estimation_iterations': 1}. Best is trial 18 with value: 0.44870318823922345.\n",
      "[I 2024-01-02 13:29:37,647] Trial 22 finished with value: 0.4720618744259194 and parameters: {'bootstrap_type': 'MVS', 'colsample_bylevel': 0.7834188771006956, 'iterations': 971, 'l2_leaf_reg': 2.4970319567242725, 'bagging_temperature': 1.2137430489356442, 'depth': 8, 'random_strength': 4.796673599089661, 'min_data_in_leaf': 7, 'grow_policy': 'Depthwise', 'boosting_type': 'Plain', 'score_function': 'Cosine', 'leaf_estimation_iterations': 2}. Best is trial 18 with value: 0.44870318823922345.\n",
      "[I 2024-01-02 13:29:45,190] Trial 23 finished with value: 0.44525630743123223 and parameters: {'bootstrap_type': 'MVS', 'colsample_bylevel': 0.9253751084592183, 'iterations': 892, 'l2_leaf_reg': 1.8200655722314845, 'bagging_temperature': 1.5491991821314481, 'depth': 5, 'random_strength': 2.787948370355225, 'min_data_in_leaf': 3, 'grow_policy': 'Depthwise', 'boosting_type': 'Plain', 'score_function': 'Cosine', 'leaf_estimation_iterations': 1}. Best is trial 23 with value: 0.44525630743123223.\n",
      "[I 2024-01-02 13:29:56,267] Trial 24 finished with value: 0.4487720554274357 and parameters: {'bootstrap_type': 'MVS', 'colsample_bylevel': 0.9305967622897138, 'iterations': 1044, 'l2_leaf_reg': 1.7636386899821441, 'bagging_temperature': 1.5358757280635067, 'depth': 5, 'random_strength': 2.7157386898656783, 'min_data_in_leaf': 6, 'grow_policy': 'Depthwise', 'boosting_type': 'Plain', 'score_function': 'Cosine', 'leaf_estimation_iterations': 2}. Best is trial 23 with value: 0.44525630743123223.\n",
      "[I 2024-01-02 13:30:07,109] Trial 25 finished with value: 0.45380905801749066 and parameters: {'bootstrap_type': 'MVS', 'colsample_bylevel': 0.927899665562155, 'iterations': 915, 'l2_leaf_reg': 1.8160341239470112, 'bagging_temperature': 1.5667974763495003, 'depth': 5, 'random_strength': 2.947903784882659, 'min_data_in_leaf': 9, 'grow_policy': 'Depthwise', 'boosting_type': 'Plain', 'score_function': 'Cosine', 'leaf_estimation_iterations': 3}. Best is trial 23 with value: 0.44525630743123223.\n",
      "[I 2024-01-02 13:30:15,963] Trial 26 finished with value: 0.4503870524033011 and parameters: {'bootstrap_type': 'MVS', 'colsample_bylevel': 0.9397178080995882, 'iterations': 1015, 'l2_leaf_reg': 1.2368412988654893, 'bagging_temperature': 1.7889599107109058, 'depth': 4, 'random_strength': 1.1962046016968766, 'min_data_in_leaf': 6, 'grow_policy': 'Depthwise', 'boosting_type': 'Plain', 'score_function': 'L2', 'leaf_estimation_iterations': 2}. Best is trial 23 with value: 0.44525630743123223.\n",
      "[I 2024-01-02 13:30:24,651] Trial 27 finished with value: 0.4609738803731515 and parameters: {'bootstrap_type': 'MVS', 'colsample_bylevel': 0.93215573273941, 'iterations': 962, 'l2_leaf_reg': 1.5519756786339736, 'bagging_temperature': 1.9189657955377362, 'depth': 2, 'random_strength': 4.222903404808127, 'min_data_in_leaf': 2, 'grow_policy': 'Depthwise', 'boosting_type': 'Plain', 'score_function': 'Cosine', 'leaf_estimation_iterations': 5}. Best is trial 23 with value: 0.44525630743123223.\n",
      "[I 2024-01-02 13:30:48,904] Trial 28 finished with value: 0.45468068900912995 and parameters: {'bootstrap_type': 'Bayesian', 'colsample_bylevel': 0.8042455394733318, 'iterations': 1099, 'l2_leaf_reg': 0.8447847402383664, 'bagging_temperature': 1.5020016099736384, 'depth': 4, 'random_strength': 2.7680008524330253, 'min_data_in_leaf': 8, 'grow_policy': 'Depthwise', 'boosting_type': 'Plain', 'score_function': 'L2', 'leaf_estimation_iterations': 15}. Best is trial 23 with value: 0.44525630743123223.\n",
      "[I 2024-01-02 13:30:56,681] Trial 29 finished with value: 0.45204894534671364 and parameters: {'bootstrap_type': 'MVS', 'colsample_bylevel': 0.314439985142009, 'iterations': 905, 'l2_leaf_reg': 1.9082202238696597, 'bagging_temperature': 1.1930092801667065, 'depth': 6, 'random_strength': 1.4019736876714617, 'min_data_in_leaf': 11, 'grow_policy': 'SymmetricTree', 'boosting_type': 'Plain', 'score_function': 'Cosine', 'leaf_estimation_iterations': 2}. Best is trial 23 with value: 0.44525630743123223.\n",
      "[I 2024-01-02 13:31:05,146] Trial 30 finished with value: 0.4560698098274123 and parameters: {'bootstrap_type': 'MVS', 'colsample_bylevel': 0.8904910378108465, 'iterations': 1049, 'l2_leaf_reg': 1.3505993803518526, 'bagging_temperature': 1.9541282173778374, 'depth': 2, 'random_strength': 4.072594281424201, 'min_data_in_leaf': 3, 'grow_policy': 'Depthwise', 'boosting_type': 'Plain', 'score_function': 'Cosine', 'leaf_estimation_iterations': 4}. Best is trial 23 with value: 0.44525630743123223.\n",
      "[I 2024-01-02 13:31:14,487] Trial 31 finished with value: 0.4498216407697191 and parameters: {'bootstrap_type': 'MVS', 'colsample_bylevel': 0.9841244245834544, 'iterations': 1057, 'l2_leaf_reg': 2.2814864958296432, 'bagging_temperature': 1.3859963415345098, 'depth': 5, 'random_strength': 2.3725419303246356, 'min_data_in_leaf': 5, 'grow_policy': 'Depthwise', 'boosting_type': 'Plain', 'score_function': 'Cosine', 'leaf_estimation_iterations': 1}. Best is trial 23 with value: 0.44525630743123223.\n",
      "[I 2024-01-02 13:31:25,342] Trial 32 finished with value: 0.44470777034147146 and parameters: {'bootstrap_type': 'MVS', 'colsample_bylevel': 0.9533710772003986, 'iterations': 994, 'l2_leaf_reg': 2.2453704886875974, 'bagging_temperature': 1.301707783254357, 'depth': 5, 'random_strength': 2.7219598743860063, 'min_data_in_leaf': 5, 'grow_policy': 'Depthwise', 'boosting_type': 'Plain', 'score_function': 'Cosine', 'leaf_estimation_iterations': 2}. Best is trial 32 with value: 0.44470777034147146.\n",
      "[I 2024-01-02 13:31:33,104] Trial 33 finished with value: 0.451528614685371 and parameters: {'bootstrap_type': 'MVS', 'colsample_bylevel': 0.9486394182208074, 'iterations': 1007, 'l2_leaf_reg': 1.6747208071302948, 'bagging_temperature': 1.2410578057623234, 'depth': 3, 'random_strength': 3.017231513785356, 'min_data_in_leaf': 2, 'grow_policy': 'Depthwise', 'boosting_type': 'Plain', 'score_function': 'Cosine', 'leaf_estimation_iterations': 2}. Best is trial 32 with value: 0.44470777034147146.\n",
      "[I 2024-01-02 13:31:42,437] Trial 34 finished with value: 0.452383739571546 and parameters: {'bootstrap_type': 'MVS', 'colsample_bylevel': 0.6943110710706681, 'iterations': 974, 'l2_leaf_reg': 2.3519798185787404, 'bagging_temperature': 1.5559863558008145, 'depth': 4, 'random_strength': 4.205683686030467, 'min_data_in_leaf': 6, 'grow_policy': 'Depthwise', 'boosting_type': 'Plain', 'score_function': 'Cosine', 'leaf_estimation_iterations': 3}. Best is trial 32 with value: 0.44470777034147146.\n",
      "[I 2024-01-02 13:31:59,026] Trial 35 finished with value: 0.4700495617743067 and parameters: {'bootstrap_type': 'MVS', 'colsample_bylevel': 0.8822695193140386, 'iterations': 943, 'l2_leaf_reg': 1.9970196953800488, 'bagging_temperature': 1.6893566806674116, 'depth': 6, 'random_strength': 1.552060709784963, 'min_data_in_leaf': 9, 'grow_policy': 'Depthwise', 'boosting_type': 'Plain', 'score_function': 'Cosine', 'leaf_estimation_iterations': 6}. Best is trial 32 with value: 0.44470777034147146.\n",
      "[I 2024-01-02 13:32:06,046] Trial 36 finished with value: 0.45473665085339837 and parameters: {'bootstrap_type': 'MVS', 'colsample_bylevel': 0.8185319768783264, 'iterations': 873, 'l2_leaf_reg': 1.2633302522677459, 'bagging_temperature': 1.111846265493387, 'depth': 5, 'random_strength': 5.597085578341307, 'min_data_in_leaf': 4, 'grow_policy': 'SymmetricTree', 'boosting_type': 'Plain', 'score_function': 'Cosine', 'leaf_estimation_iterations': 2}. Best is trial 32 with value: 0.44470777034147146.\n",
      "[I 2024-01-02 13:32:26,167] Trial 37 finished with value: 0.45997547431754354 and parameters: {'bootstrap_type': 'MVS', 'colsample_bylevel': 0.9565193292770366, 'iterations': 982, 'l2_leaf_reg': 1.0299310253078857, 'bagging_temperature': 2.175869081568736, 'depth': 4, 'random_strength': 0.9745075074948806, 'min_data_in_leaf': 3, 'grow_policy': 'Depthwise', 'boosting_type': 'Plain', 'score_function': 'Cosine', 'leaf_estimation_iterations': 13}. Best is trial 32 with value: 0.44470777034147146.\n",
      "[I 2024-01-02 13:32:36,106] Trial 38 finished with value: 0.4511979437574125 and parameters: {'bootstrap_type': 'MVS', 'colsample_bylevel': 0.9910642610788387, 'iterations': 1034, 'l2_leaf_reg': 1.5008685534494683, 'bagging_temperature': 1.3071385545285155, 'depth': 3, 'random_strength': 2.623843192874965, 'min_data_in_leaf': 6, 'grow_policy': 'Depthwise', 'boosting_type': 'Plain', 'score_function': 'Cosine', 'leaf_estimation_iterations': 4}. Best is trial 32 with value: 0.44470777034147146.\n",
      "[I 2024-01-02 13:32:47,817] Trial 39 finished with value: 0.4610241854244622 and parameters: {'bootstrap_type': 'MVS', 'colsample_bylevel': 0.6211374530467867, 'iterations': 938, 'l2_leaf_reg': 2.7665560751921006, 'bagging_temperature': 1.4589486160469427, 'depth': 2, 'random_strength': 3.34861641438547, 'min_data_in_leaf': 8, 'grow_policy': 'SymmetricTree', 'boosting_type': 'Plain', 'score_function': 'Cosine', 'leaf_estimation_iterations': 9}. Best is trial 32 with value: 0.44470777034147146.\n",
      "[I 2024-01-02 13:33:05,246] Trial 40 finished with value: 0.47841658800268566 and parameters: {'bootstrap_type': 'Bayesian', 'colsample_bylevel': 0.8846898228680485, 'iterations': 887, 'l2_leaf_reg': 0.10974028283519965, 'bagging_temperature': 1.8557408509651974, 'depth': 7, 'random_strength': 0.6391127610599783, 'min_data_in_leaf': 1, 'grow_policy': 'Depthwise', 'boosting_type': 'Plain', 'score_function': 'L2', 'leaf_estimation_iterations': 1}. Best is trial 32 with value: 0.44470777034147146.\n",
      "[I 2024-01-02 13:33:14,114] Trial 41 finished with value: 0.44618441557504446 and parameters: {'bootstrap_type': 'MVS', 'colsample_bylevel': 0.9718996393936932, 'iterations': 1056, 'l2_leaf_reg': 2.283394067537719, 'bagging_temperature': 1.3511541182555682, 'depth': 5, 'random_strength': 2.5584466112394395, 'min_data_in_leaf': 5, 'grow_policy': 'Depthwise', 'boosting_type': 'Plain', 'score_function': 'Cosine', 'leaf_estimation_iterations': 1}. Best is trial 32 with value: 0.44470777034147146.\n",
      "[I 2024-01-02 13:33:22,680] Trial 42 finished with value: 0.4469813017940072 and parameters: {'bootstrap_type': 'MVS', 'colsample_bylevel': 0.9011976235292695, 'iterations': 991, 'l2_leaf_reg': 2.0359839275429916, 'bagging_temperature': 1.541375711756685, 'depth': 5, 'random_strength': 1.7043279984029076, 'min_data_in_leaf': 5, 'grow_policy': 'Depthwise', 'boosting_type': 'Plain', 'score_function': 'Cosine', 'leaf_estimation_iterations': 1}. Best is trial 32 with value: 0.44470777034147146.\n",
      "[I 2024-01-02 13:33:32,872] Trial 43 finished with value: 0.4494148881393903 and parameters: {'bootstrap_type': 'MVS', 'colsample_bylevel': 0.7791740044317814, 'iterations': 993, 'l2_leaf_reg': 2.111103215466133, 'bagging_temperature': 1.2909686787745758, 'depth': 6, 'random_strength': 3.8813146900024096, 'min_data_in_leaf': 4, 'grow_policy': 'Depthwise', 'boosting_type': 'Plain', 'score_function': 'Cosine', 'leaf_estimation_iterations': 1}. Best is trial 32 with value: 0.44470777034147146.\n",
      "[I 2024-01-02 13:33:38,462] Trial 44 finished with value: 0.4498225945250681 and parameters: {'bootstrap_type': 'MVS', 'colsample_bylevel': 0.8465003315401758, 'iterations': 838, 'l2_leaf_reg': 2.386330622541999, 'bagging_temperature': 1.1348806137785994, 'depth': 4, 'random_strength': 1.619876537228781, 'min_data_in_leaf': 2, 'grow_policy': 'Depthwise', 'boosting_type': 'Plain', 'score_function': 'Cosine', 'leaf_estimation_iterations': 1}. Best is trial 32 with value: 0.44470777034147146.\n",
      "[I 2024-01-02 13:33:48,776] Trial 45 finished with value: 0.4584965588785644 and parameters: {'bootstrap_type': 'MVS', 'colsample_bylevel': 0.8995350323552158, 'iterations': 1087, 'l2_leaf_reg': 2.6218989112140005, 'bagging_temperature': 1.6483373867763027, 'depth': 5, 'random_strength': 4.55183220899135, 'min_data_in_leaf': 5, 'grow_policy': 'SymmetricTree', 'boosting_type': 'Plain', 'score_function': 'Cosine', 'leaf_estimation_iterations': 3}. Best is trial 32 with value: 0.44470777034147146.\n",
      "[I 2024-01-02 13:34:00,191] Trial 46 finished with value: 0.4600978930934893 and parameters: {'bootstrap_type': 'MVS', 'colsample_bylevel': 0.9694602207105211, 'iterations': 1030, 'l2_leaf_reg': 2.0971124279143396, 'bagging_temperature': 1.4063698502674684, 'depth': 6, 'random_strength': 1.7355591026026145, 'min_data_in_leaf': 8, 'grow_policy': 'Depthwise', 'boosting_type': 'Plain', 'score_function': 'L2', 'leaf_estimation_iterations': 1}. Best is trial 32 with value: 0.44470777034147146.\n",
      "[I 2024-01-02 13:34:09,400] Trial 47 finished with value: 0.4515163738785596 and parameters: {'bootstrap_type': 'Bayesian', 'colsample_bylevel': 0.4618440108266281, 'iterations': 956, 'l2_leaf_reg': 1.949763089956977, 'bagging_temperature': 1.018938283739443, 'depth': 5, 'random_strength': 3.1741993518965486, 'min_data_in_leaf': 3, 'grow_policy': 'Depthwise', 'boosting_type': 'Plain', 'score_function': 'Cosine', 'leaf_estimation_iterations': 2}. Best is trial 32 with value: 0.44470777034147146.\n",
      "[I 2024-01-02 13:34:21,046] Trial 48 finished with value: 0.4524054124127654 and parameters: {'bootstrap_type': 'MVS', 'colsample_bylevel': 0.7505374307675664, 'iterations': 1075, 'l2_leaf_reg': 3.00914076788479, 'bagging_temperature': 1.720519806367664, 'depth': 4, 'random_strength': 0.6377259185561406, 'min_data_in_leaf': 7, 'grow_policy': 'Depthwise', 'boosting_type': 'Plain', 'score_function': 'L2', 'leaf_estimation_iterations': 4}. Best is trial 32 with value: 0.44470777034147146.\n",
      "[I 2024-01-02 13:34:46,878] Trial 49 finished with value: 0.47105887834481924 and parameters: {'bootstrap_type': 'Bayesian', 'colsample_bylevel': 0.822415614275016, 'iterations': 890, 'l2_leaf_reg': 2.7154105919183795, 'bagging_temperature': 1.6201514346298294, 'depth': 7, 'random_strength': 3.5850659165673058, 'min_data_in_leaf': 10, 'grow_policy': 'Depthwise', 'boosting_type': 'Plain', 'score_function': 'Cosine', 'leaf_estimation_iterations': 12}. Best is trial 32 with value: 0.44470777034147146.\n"
     ]
    }
   ],
   "source": [
    "def objective_cat(trial):\n",
    "    \n",
    "    cat_params = {\n",
    "        'bootstrap_type': trial.suggest_categorical('bootstrap_type', ['MVS','Bayesian']),\n",
    "        'colsample_bylevel': trial.suggest_float('colsample_bylevel', 0.1, 1),\n",
    "        'iterations' : trial.suggest_int('iterations', 500, 1100),\n",
    "        'l2_leaf_reg': trial.suggest_float('l2_leaf_reg',0.1,4.0),\n",
    "        'bagging_temperature' :trial.suggest_float('bagging_temperature', 1, 3),\n",
    "        'depth' : trial.suggest_int('depth', 1, 12),\n",
    "        'random_strength': trial.suggest_float('random_strength', 0.1, 10.0),\n",
    "        'min_data_in_leaf': trial.suggest_int('min_data_in_leaf', 1, 20),\n",
    "        'grow_policy' : trial.suggest_categorical('grow_policy', ['SymmetricTree','Depthwise']),\n",
    "        'boosting_type': trial.suggest_categorical('boosting_type',['Plain']),\n",
    "        'score_function': trial.suggest_categorical('score_function',['Cosine','L2']),\n",
    "        'leaf_estimation_iterations': trial.suggest_int('leaf_estimation_iterations',1,15)\n",
    "    }\n",
    "    \n",
    "    cat = CatBoostClassifier(**cat_params,logging_level='Silent',random_state=42)\n",
    "    cat.fit(X_train,y_train)\n",
    " \n",
    "    # Show the log loss score directly\n",
    "    return log_loss(y_test, cat.predict_proba(X_test))\n",
    "\n",
    "study_cat = optuna.create_study(direction='minimize')\n",
    "\n",
    "study_cat.optimize(objective_cat, n_trials=50, show_progress_bar=True)"
   ]
  },
  {
   "cell_type": "code",
   "execution_count": 21,
   "id": "9dd58e81",
   "metadata": {
    "execution": {
     "iopub.execute_input": "2024-01-02T13:34:46.958070Z",
     "iopub.status.busy": "2024-01-02T13:34:46.957634Z",
     "iopub.status.idle": "2024-01-02T13:41:14.298174Z",
     "shell.execute_reply": "2024-01-02T13:41:14.296970Z"
    },
    "papermill": {
     "duration": 387.418677,
     "end_time": "2024-01-02T13:41:14.341589",
     "exception": false,
     "start_time": "2024-01-02T13:34:46.922912",
     "status": "completed"
    },
    "tags": []
   },
   "outputs": [
    {
     "name": "stderr",
     "output_type": "stream",
     "text": [
      "[I 2024-01-02 13:34:46,966] A new study created in memory with name: no-name-29ebcd0f-2dc5-46b1-b0ca-67ab8923f848\n"
     ]
    },
    {
     "data": {
      "application/vnd.jupyter.widget-view+json": {
       "model_id": "0aad0379585a49f29fc6e722e85d886d",
       "version_major": 2,
       "version_minor": 0
      },
      "text/plain": [
       "  0%|          | 0/50 [00:00<?, ?it/s]"
      ]
     },
     "metadata": {},
     "output_type": "display_data"
    },
    {
     "name": "stdout",
     "output_type": "stream",
     "text": [
      "[LightGBM] [Warning] min_data_in_leaf is set=11, min_child_samples=21 will be ignored. Current value: min_data_in_leaf=11\n",
      "[I 2024-01-02 13:34:49,790] Trial 0 finished with value: 0.4408142073693818 and parameters: {'learning_rate': 0.08892953901501109, 'max_depth': 17, 'num_leaves': 83, 'min_data_in_leaf': 11, 'boosting_type': 'gbdt', 'n_estimators': 1040, 'subsample': 0.4966784183901134, 'subsample_freq': 8, 'reg_alpha': 1.833177064306184, 'reg_lambda': 2.9561034238201556, 'min_child_samples': 21, 'colsample_bytree': 0.019291986209904133}. Best is trial 0 with value: 0.4408142073693818.\n",
      "[LightGBM] [Warning] min_data_in_leaf is set=18, min_child_samples=23 will be ignored. Current value: min_data_in_leaf=18\n",
      "[I 2024-01-02 13:34:51,930] Trial 1 finished with value: 0.44296736023035943 and parameters: {'learning_rate': 0.05009528112249193, 'max_depth': 16, 'num_leaves': 66, 'min_data_in_leaf': 18, 'boosting_type': 'gbdt', 'n_estimators': 910, 'subsample': 0.685563929947971, 'subsample_freq': 13, 'reg_alpha': 6.580463298993703, 'reg_lambda': 4.9661594758986185, 'min_child_samples': 23, 'colsample_bytree': 0.04693635985918421}. Best is trial 0 with value: 0.4408142073693818.\n",
      "[LightGBM] [Warning] min_data_in_leaf is set=24, min_child_samples=27 will be ignored. Current value: min_data_in_leaf=24\n",
      "[I 2024-01-02 13:34:53,195] Trial 2 finished with value: 0.4484398435806696 and parameters: {'learning_rate': 0.1851244755938631, 'max_depth': 17, 'num_leaves': 92, 'min_data_in_leaf': 24, 'boosting_type': 'gbdt', 'n_estimators': 777, 'subsample': 0.2504389308510181, 'subsample_freq': 2, 'reg_alpha': 6.6135198836562425, 'reg_lambda': 4.418292318404227, 'min_child_samples': 27, 'colsample_bytree': 0.09237184720929514}. Best is trial 0 with value: 0.4408142073693818.\n",
      "[LightGBM] [Warning] min_data_in_leaf is set=28, min_child_samples=25 will be ignored. Current value: min_data_in_leaf=28\n",
      "[I 2024-01-02 13:35:19,049] Trial 3 finished with value: 0.47833185206995765 and parameters: {'learning_rate': 0.17720173896306401, 'max_depth': 10, 'num_leaves': 92, 'min_data_in_leaf': 28, 'boosting_type': 'dart', 'n_estimators': 753, 'subsample': 0.36887537983582286, 'subsample_freq': 5, 'reg_alpha': 2.620686860978018, 'reg_lambda': 0.7422116105909815, 'min_child_samples': 25, 'colsample_bytree': 0.7277367208608865}. Best is trial 0 with value: 0.4408142073693818.\n",
      "[LightGBM] [Warning] min_data_in_leaf is set=30, min_child_samples=12 will be ignored. Current value: min_data_in_leaf=30\n",
      "[I 2024-01-02 13:35:21,999] Trial 4 finished with value: 0.5237648784803778 and parameters: {'learning_rate': 0.14409554368100239, 'max_depth': 23, 'num_leaves': 22, 'min_data_in_leaf': 30, 'boosting_type': 'rf', 'n_estimators': 1039, 'subsample': 0.1946797717429818, 'subsample_freq': 12, 'reg_alpha': 6.232230775538059, 'reg_lambda': 1.1911529397161003, 'min_child_samples': 12, 'colsample_bytree': 0.7944766026908179}. Best is trial 0 with value: 0.4408142073693818.\n",
      "[LightGBM] [Warning] min_data_in_leaf is set=30, min_child_samples=24 will be ignored. Current value: min_data_in_leaf=30\n",
      "[I 2024-01-02 13:35:27,414] Trial 5 finished with value: 0.5631529197117691 and parameters: {'learning_rate': 0.07370470555848505, 'max_depth': 14, 'num_leaves': 75, 'min_data_in_leaf': 30, 'boosting_type': 'rf', 'n_estimators': 1118, 'subsample': 0.760236499260514, 'subsample_freq': 7, 'reg_alpha': 5.604710547010493, 'reg_lambda': 4.285125529778081, 'min_child_samples': 24, 'colsample_bytree': 0.20446132811858053}. Best is trial 0 with value: 0.4408142073693818.\n",
      "[LightGBM] [Warning] min_data_in_leaf is set=22, min_child_samples=11 will be ignored. Current value: min_data_in_leaf=22\n",
      "[I 2024-01-02 13:36:17,256] Trial 6 finished with value: 0.454165109615282 and parameters: {'learning_rate': 0.1647108118665499, 'max_depth': 23, 'num_leaves': 92, 'min_data_in_leaf': 22, 'boosting_type': 'dart', 'n_estimators': 1256, 'subsample': 0.9046924012703389, 'subsample_freq': 4, 'reg_alpha': 6.495941048132653, 'reg_lambda': 9.335372693233703, 'min_child_samples': 11, 'colsample_bytree': 0.44586549811934506}. Best is trial 0 with value: 0.4408142073693818.\n",
      "[LightGBM] [Warning] min_data_in_leaf is set=17, min_child_samples=29 will be ignored. Current value: min_data_in_leaf=17\n",
      "[I 2024-01-02 13:36:57,107] Trial 7 finished with value: 0.46173408231253216 and parameters: {'learning_rate': 0.09778111940438622, 'max_depth': 24, 'num_leaves': 25, 'min_data_in_leaf': 17, 'boosting_type': 'dart', 'n_estimators': 1035, 'subsample': 0.62065172488307, 'subsample_freq': 5, 'reg_alpha': 3.782519872725596, 'reg_lambda': 2.5903957832634514, 'min_child_samples': 29, 'colsample_bytree': 0.8494817138577482}. Best is trial 0 with value: 0.4408142073693818.\n",
      "[LightGBM] [Warning] min_data_in_leaf is set=25, min_child_samples=10 will be ignored. Current value: min_data_in_leaf=25\n",
      "[I 2024-01-02 13:37:01,639] Trial 8 finished with value: 0.5203550551407812 and parameters: {'learning_rate': 0.07855268340126781, 'max_depth': 22, 'num_leaves': 50, 'min_data_in_leaf': 25, 'boosting_type': 'rf', 'n_estimators': 1014, 'subsample': 0.4728862840120196, 'subsample_freq': 19, 'reg_alpha': 9.602727368650077, 'reg_lambda': 6.007845962962755, 'min_child_samples': 10, 'colsample_bytree': 0.479338027830853}. Best is trial 0 with value: 0.4408142073693818.\n",
      "[LightGBM] [Warning] min_data_in_leaf is set=13, min_child_samples=26 will be ignored. Current value: min_data_in_leaf=13\n",
      "[I 2024-01-02 13:37:03,483] Trial 9 finished with value: 0.4617645637401864 and parameters: {'learning_rate': 0.15960455736807447, 'max_depth': 13, 'num_leaves': 89, 'min_data_in_leaf': 13, 'boosting_type': 'gbdt', 'n_estimators': 655, 'subsample': 0.833696500841074, 'subsample_freq': 6, 'reg_alpha': 8.706658609052587, 'reg_lambda': 4.5420373825540805, 'min_child_samples': 26, 'colsample_bytree': 0.770093539963216}. Best is trial 0 with value: 0.4408142073693818.\n",
      "[LightGBM] [Warning] min_data_in_leaf is set=10, min_child_samples=18 will be ignored. Current value: min_data_in_leaf=10\n",
      "[I 2024-01-02 13:37:15,144] Trial 10 finished with value: 0.4487514297243354 and parameters: {'learning_rate': 0.015115461550232565, 'max_depth': 30, 'num_leaves': 45, 'min_data_in_leaf': 10, 'boosting_type': 'gbdt', 'n_estimators': 1339, 'subsample': 0.4783095149392569, 'subsample_freq': 16, 'reg_alpha': 0.474522007361742, 'reg_lambda': 7.482631968017456, 'min_child_samples': 18, 'colsample_bytree': 0.317258688441006}. Best is trial 0 with value: 0.4408142073693818.\n",
      "[LightGBM] [Warning] min_data_in_leaf is set=17, min_child_samples=20 will be ignored. Current value: min_data_in_leaf=17\n",
      "[I 2024-01-02 13:37:17,193] Trial 11 finished with value: 0.43215848287124226 and parameters: {'learning_rate': 0.03159054543060012, 'max_depth': 18, 'num_leaves': 69, 'min_data_in_leaf': 17, 'boosting_type': 'gbdt', 'n_estimators': 501, 'subsample': 0.61838964039814, 'subsample_freq': 11, 'reg_alpha': 0.28657397924199746, 'reg_lambda': 2.7068009005139584, 'min_child_samples': 20, 'colsample_bytree': 0.034069854092832585}. Best is trial 11 with value: 0.43215848287124226.\n",
      "[LightGBM] [Warning] min_data_in_leaf is set=14, min_child_samples=18 will be ignored. Current value: min_data_in_leaf=14\n",
      "[I 2024-01-02 13:37:23,400] Trial 12 finished with value: 0.4507636506407673 and parameters: {'learning_rate': 0.027881042253096927, 'max_depth': 19, 'num_leaves': 75, 'min_data_in_leaf': 14, 'boosting_type': 'gbdt', 'n_estimators': 518, 'subsample': 0.6042188595900848, 'subsample_freq': 10, 'reg_alpha': 0.03261229542297711, 'reg_lambda': 2.518948431370137, 'min_child_samples': 18, 'colsample_bytree': 0.22578715152586948}. Best is trial 11 with value: 0.43215848287124226.\n",
      "[LightGBM] [Warning] min_data_in_leaf is set=11, min_child_samples=20 will be ignored. Current value: min_data_in_leaf=11\n",
      "[I 2024-01-02 13:37:24,703] Trial 13 finished with value: 0.4394567999292569 and parameters: {'learning_rate': 0.13369513652834059, 'max_depth': 19, 'num_leaves': 77, 'min_data_in_leaf': 11, 'boosting_type': 'gbdt', 'n_estimators': 506, 'subsample': 0.36956834402283956, 'subsample_freq': 9, 'reg_alpha': 1.96891866530509, 'reg_lambda': 2.6497997783842813, 'min_child_samples': 20, 'colsample_bytree': 0.014287377718511629}. Best is trial 11 with value: 0.43215848287124226.\n",
      "[LightGBM] [Warning] min_data_in_leaf is set=16, min_child_samples=16 will be ignored. Current value: min_data_in_leaf=16\n",
      "[I 2024-01-02 13:37:28,033] Trial 14 finished with value: 0.5353736662913043 and parameters: {'learning_rate': 0.13099001611331887, 'max_depth': 28, 'num_leaves': 59, 'min_data_in_leaf': 16, 'boosting_type': 'gbdt', 'n_estimators': 504, 'subsample': 0.31342139267507985, 'subsample_freq': 15, 'reg_alpha': 1.7274535271611757, 'reg_lambda': 1.3605647526965368, 'min_child_samples': 16, 'colsample_bytree': 0.6292576747182563}. Best is trial 11 with value: 0.43215848287124226.\n",
      "[LightGBM] [Warning] min_data_in_leaf is set=21, min_child_samples=15 will be ignored. Current value: min_data_in_leaf=21\n",
      "[I 2024-01-02 13:37:30,599] Trial 15 finished with value: 0.5573939541063143 and parameters: {'learning_rate': 0.12045250081590905, 'max_depth': 20, 'num_leaves': 65, 'min_data_in_leaf': 21, 'boosting_type': 'gbdt', 'n_estimators': 639, 'subsample': 0.1187356957969567, 'subsample_freq': 10, 'reg_alpha': 4.075546236349059, 'reg_lambda': 0.0636781374281461, 'min_child_samples': 15, 'colsample_bytree': 0.9696617553383087}. Best is trial 11 with value: 0.43215848287124226.\n",
      "[LightGBM] [Warning] min_data_in_leaf is set=14, min_child_samples=21 will be ignored. Current value: min_data_in_leaf=14\n",
      "[I 2024-01-02 13:37:37,028] Trial 16 finished with value: 0.46115845778694536 and parameters: {'learning_rate': 0.06147934537071757, 'max_depth': 26, 'num_leaves': 77, 'min_data_in_leaf': 14, 'boosting_type': 'gbdt', 'n_estimators': 640, 'subsample': 0.9810597532053511, 'subsample_freq': 9, 'reg_alpha': 1.2734284434051615, 'reg_lambda': 6.131324220864634, 'min_child_samples': 21, 'colsample_bytree': 0.18291721671055758}. Best is trial 11 with value: 0.43215848287124226.\n",
      "[LightGBM] [Warning] min_data_in_leaf is set=19, min_child_samples=19 will be ignored. Current value: min_data_in_leaf=19\n",
      "[I 2024-01-02 13:37:40,751] Trial 17 finished with value: 0.48270290893368895 and parameters: {'learning_rate': 0.11240778937209472, 'max_depth': 19, 'num_leaves': 100, 'min_data_in_leaf': 19, 'boosting_type': 'gbdt', 'n_estimators': 761, 'subsample': 0.3434517780907701, 'subsample_freq': 13, 'reg_alpha': 3.092319234993822, 'reg_lambda': 3.4604095574731693, 'min_child_samples': 19, 'colsample_bytree': 0.34510338421839026}. Best is trial 11 with value: 0.43215848287124226.\n",
      "[LightGBM] [Warning] min_data_in_leaf is set=12, min_child_samples=15 will be ignored. Current value: min_data_in_leaf=12\n",
      "[I 2024-01-02 13:37:45,603] Trial 18 finished with value: 0.5495709093727832 and parameters: {'learning_rate': 0.03561725831153702, 'max_depth': 13, 'num_leaves': 37, 'min_data_in_leaf': 12, 'boosting_type': 'rf', 'n_estimators': 863, 'subsample': 0.41232812212380165, 'subsample_freq': 19, 'reg_alpha': 0.8866918939314259, 'reg_lambda': 1.9275740392436895, 'min_child_samples': 15, 'colsample_bytree': 0.12389682640922711}. Best is trial 11 with value: 0.43215848287124226.\n",
      "[LightGBM] [Warning] min_data_in_leaf is set=15, min_child_samples=23 will be ignored. Current value: min_data_in_leaf=15\n",
      "[I 2024-01-02 13:38:06,725] Trial 19 finished with value: 0.44187302511754845 and parameters: {'learning_rate': 0.14041399207674785, 'max_depth': 21, 'num_leaves': 56, 'min_data_in_leaf': 15, 'boosting_type': 'dart', 'n_estimators': 569, 'subsample': 0.7147636276712281, 'subsample_freq': 15, 'reg_alpha': 2.501369482168746, 'reg_lambda': 3.770584134903346, 'min_child_samples': 23, 'colsample_bytree': 0.31297569585800217}. Best is trial 11 with value: 0.43215848287124226.\n",
      "[LightGBM] [Warning] min_data_in_leaf is set=10, min_child_samples=21 will be ignored. Current value: min_data_in_leaf=10\n",
      "[I 2024-01-02 13:38:08,002] Trial 20 finished with value: 0.4384112658930946 and parameters: {'learning_rate': 0.10174821769586001, 'max_depth': 11, 'num_leaves': 68, 'min_data_in_leaf': 10, 'boosting_type': 'gbdt', 'n_estimators': 586, 'subsample': 0.5792675917436074, 'subsample_freq': 12, 'reg_alpha': 4.7245071479085325, 'reg_lambda': 5.834478000573027, 'min_child_samples': 21, 'colsample_bytree': 0.0011058702046823216}. Best is trial 11 with value: 0.43215848287124226.\n",
      "[LightGBM] [Warning] min_data_in_leaf is set=10, min_child_samples=21 will be ignored. Current value: min_data_in_leaf=10\n",
      "[I 2024-01-02 13:38:09,222] Trial 21 finished with value: 0.4409646816467597 and parameters: {'learning_rate': 0.19595059817534444, 'max_depth': 15, 'num_leaves': 69, 'min_data_in_leaf': 10, 'boosting_type': 'gbdt', 'n_estimators': 587, 'subsample': 0.5737403440151007, 'subsample_freq': 12, 'reg_alpha': 4.794020360043629, 'reg_lambda': 6.370080181077727, 'min_child_samples': 21, 'colsample_bytree': 0.008645537554530633}. Best is trial 11 with value: 0.43215848287124226.\n",
      "[LightGBM] [Warning] min_data_in_leaf is set=12, min_child_samples=17 will be ignored. Current value: min_data_in_leaf=12\n",
      "[I 2024-01-02 13:38:11,108] Trial 22 finished with value: 0.44771740356104023 and parameters: {'learning_rate': 0.10887692993184432, 'max_depth': 11, 'num_leaves': 81, 'min_data_in_leaf': 12, 'boosting_type': 'gbdt', 'n_estimators': 695, 'subsample': 0.5379558858690124, 'subsample_freq': 11, 'reg_alpha': 7.928711856643778, 'reg_lambda': 7.643690776942861, 'min_child_samples': 17, 'colsample_bytree': 0.11911553953761383}. Best is trial 11 with value: 0.43215848287124226.\n",
      "[LightGBM] [Warning] min_data_in_leaf is set=16, min_child_samples=20 will be ignored. Current value: min_data_in_leaf=16\n",
      "[I 2024-01-02 13:38:12,450] Trial 23 finished with value: 0.4395390201669655 and parameters: {'learning_rate': 0.0523132443928733, 'max_depth': 18, 'num_leaves': 70, 'min_data_in_leaf': 16, 'boosting_type': 'gbdt', 'n_estimators': 507, 'subsample': 0.6465446944999623, 'subsample_freq': 8, 'reg_alpha': 3.45036522160823, 'reg_lambda': 5.537929234032427, 'min_child_samples': 20, 'colsample_bytree': 0.0030877877077133604}. Best is trial 11 with value: 0.43215848287124226.\n",
      "[LightGBM] [Warning] min_data_in_leaf is set=10, min_child_samples=22 will be ignored. Current value: min_data_in_leaf=10\n",
      "[I 2024-01-02 13:38:17,643] Trial 24 finished with value: 0.4429365879032371 and parameters: {'learning_rate': 0.011172352666121214, 'max_depth': 26, 'num_leaves': 53, 'min_data_in_leaf': 10, 'boosting_type': 'gbdt', 'n_estimators': 581, 'subsample': 0.7878604536676413, 'subsample_freq': 16, 'reg_alpha': 2.0992506683181, 'reg_lambda': 7.229114080979171, 'min_child_samples': 22, 'colsample_bytree': 0.24489316145512063}. Best is trial 11 with value: 0.43215848287124226.\n",
      "[LightGBM] [Warning] min_data_in_leaf is set=13, min_child_samples=13 will be ignored. Current value: min_data_in_leaf=13\n",
      "[I 2024-01-02 13:38:19,353] Trial 25 finished with value: 0.4463396007000125 and parameters: {'learning_rate': 0.12730903474045158, 'max_depth': 12, 'num_leaves': 64, 'min_data_in_leaf': 13, 'boosting_type': 'gbdt', 'n_estimators': 688, 'subsample': 0.3989714828816192, 'subsample_freq': 14, 'reg_alpha': 4.825021689752045, 'reg_lambda': 3.4096370186820995, 'min_child_samples': 13, 'colsample_bytree': 0.11197980343719721}. Best is trial 11 with value: 0.43215848287124226.\n",
      "[LightGBM] [Warning] min_data_in_leaf is set=19, min_child_samples=19 will be ignored. Current value: min_data_in_leaf=19\n",
      "[I 2024-01-02 13:38:25,971] Trial 26 finished with value: 0.5632548062241131 and parameters: {'learning_rate': 0.15403408703305707, 'max_depth': 16, 'num_leaves': 82, 'min_data_in_leaf': 19, 'boosting_type': 'gbdt', 'n_estimators': 849, 'subsample': 0.5424813745572201, 'subsample_freq': 11, 'reg_alpha': 1.0764816310313323, 'reg_lambda': 8.794678590388402, 'min_child_samples': 19, 'colsample_bytree': 0.3763933493103062}. Best is trial 11 with value: 0.43215848287124226.\n",
      "[LightGBM] [Warning] min_data_in_leaf is set=12, min_child_samples=23 will be ignored. Current value: min_data_in_leaf=12\n",
      "[I 2024-01-02 13:38:29,836] Trial 27 finished with value: 0.5000352154293921 and parameters: {'learning_rate': 0.09468422783947313, 'max_depth': 10, 'num_leaves': 46, 'min_data_in_leaf': 12, 'boosting_type': 'gbdt', 'n_estimators': 580, 'subsample': 0.2866207661224938, 'subsample_freq': 9, 'reg_alpha': 0.18167208530891554, 'reg_lambda': 1.8504713543424645, 'min_child_samples': 23, 'colsample_bytree': 0.16738538286620053}. Best is trial 11 with value: 0.43215848287124226.\n",
      "[LightGBM] [Warning] min_data_in_leaf is set=15, min_child_samples=20 will be ignored. Current value: min_data_in_leaf=15\n",
      "[I 2024-01-02 13:38:55,531] Trial 28 finished with value: 0.44726295594601484 and parameters: {'learning_rate': 0.07101739849397559, 'max_depth': 20, 'num_leaves': 72, 'min_data_in_leaf': 15, 'boosting_type': 'dart', 'n_estimators': 711, 'subsample': 0.45506635095958264, 'subsample_freq': 7, 'reg_alpha': 4.324029851196245, 'reg_lambda': 5.116466498655327, 'min_child_samples': 20, 'colsample_bytree': 0.5771689459553787}. Best is trial 11 with value: 0.43215848287124226.\n",
      "[LightGBM] [Warning] min_data_in_leaf is set=11, min_child_samples=30 will be ignored. Current value: min_data_in_leaf=11\n",
      "[I 2024-01-02 13:38:59,313] Trial 29 finished with value: 0.6394302689134685 and parameters: {'learning_rate': 0.08917761286077971, 'max_depth': 17, 'num_leaves': 87, 'min_data_in_leaf': 11, 'boosting_type': 'rf', 'n_estimators': 1139, 'subsample': 0.5208782187942003, 'subsample_freq': 17, 'reg_alpha': 1.6947601522708666, 'reg_lambda': 2.7961137832416125, 'min_child_samples': 30, 'colsample_bytree': 0.0616932081610876}. Best is trial 11 with value: 0.43215848287124226.\n",
      "[LightGBM] [Warning] min_data_in_leaf is set=23, min_child_samples=14 will be ignored. Current value: min_data_in_leaf=23\n",
      "[I 2024-01-02 13:39:04,978] Trial 30 finished with value: 0.4458175205831653 and parameters: {'learning_rate': 0.03575875371178472, 'max_depth': 15, 'num_leaves': 60, 'min_data_in_leaf': 23, 'boosting_type': 'gbdt', 'n_estimators': 809, 'subsample': 0.6775434911308389, 'subsample_freq': 1, 'reg_alpha': 3.068345547073285, 'reg_lambda': 3.743596132755492, 'min_child_samples': 14, 'colsample_bytree': 0.25645921590162013}. Best is trial 11 with value: 0.43215848287124226.\n",
      "[LightGBM] [Warning] min_data_in_leaf is set=17, min_child_samples=20 will be ignored. Current value: min_data_in_leaf=17\n",
      "[I 2024-01-02 13:39:06,561] Trial 31 finished with value: 0.44145168073387886 and parameters: {'learning_rate': 0.050717278075652586, 'max_depth': 18, 'num_leaves': 71, 'min_data_in_leaf': 17, 'boosting_type': 'gbdt', 'n_estimators': 500, 'subsample': 0.6395980214514618, 'subsample_freq': 8, 'reg_alpha': 3.523265919344603, 'reg_lambda': 5.719675104787022, 'min_child_samples': 20, 'colsample_bytree': 0.0024683908774589575}. Best is trial 11 with value: 0.43215848287124226.\n",
      "[LightGBM] [Warning] min_data_in_leaf is set=20, min_child_samples=21 will be ignored. Current value: min_data_in_leaf=20\n",
      "[I 2024-01-02 13:39:08,238] Trial 32 finished with value: 0.43439595808224885 and parameters: {'learning_rate': 0.04875797451260142, 'max_depth': 19, 'num_leaves': 78, 'min_data_in_leaf': 20, 'boosting_type': 'gbdt', 'n_estimators': 544, 'subsample': 0.7181205839432745, 'subsample_freq': 9, 'reg_alpha': 2.625237823549479, 'reg_lambda': 5.2077726247370615, 'min_child_samples': 21, 'colsample_bytree': 0.054816814865960496}. Best is trial 11 with value: 0.43215848287124226.\n",
      "[LightGBM] [Warning] min_data_in_leaf is set=20, min_child_samples=22 will be ignored. Current value: min_data_in_leaf=20\n",
      "[I 2024-01-02 13:39:10,026] Trial 33 finished with value: 0.434218475064192 and parameters: {'learning_rate': 0.04274195813156232, 'max_depth': 21, 'num_leaves': 81, 'min_data_in_leaf': 20, 'boosting_type': 'gbdt', 'n_estimators': 563, 'subsample': 0.7056613068265665, 'subsample_freq': 12, 'reg_alpha': 2.172122331996258, 'reg_lambda': 6.566354171891193, 'min_child_samples': 22, 'colsample_bytree': 0.06712831722987554}. Best is trial 11 with value: 0.43215848287124226.\n",
      "[LightGBM] [Warning] min_data_in_leaf is set=20, min_child_samples=22 will be ignored. Current value: min_data_in_leaf=20\n",
      "[I 2024-01-02 13:39:12,084] Trial 34 finished with value: 0.452078948391949 and parameters: {'learning_rate': 0.03829826805195627, 'max_depth': 21, 'num_leaves': 84, 'min_data_in_leaf': 20, 'boosting_type': 'gbdt', 'n_estimators': 609, 'subsample': 0.7168156926218007, 'subsample_freq': 13, 'reg_alpha': 5.708892551650738, 'reg_lambda': 8.4473412451778, 'min_child_samples': 22, 'colsample_bytree': 0.07634096037928072}. Best is trial 11 with value: 0.43215848287124226.\n",
      "[LightGBM] [Warning] min_data_in_leaf is set=21, min_child_samples=25 will be ignored. Current value: min_data_in_leaf=21\n",
      "[I 2024-01-02 13:39:16,038] Trial 35 finished with value: 0.4370725990120055 and parameters: {'learning_rate': 0.02054589344921905, 'max_depth': 25, 'num_leaves': 96, 'min_data_in_leaf': 21, 'boosting_type': 'gbdt', 'n_estimators': 548, 'subsample': 0.8580205624029382, 'subsample_freq': 12, 'reg_alpha': 2.429139757208448, 'reg_lambda': 6.775649516455317, 'min_child_samples': 25, 'colsample_bytree': 0.13951210834356442}. Best is trial 11 with value: 0.43215848287124226.\n",
      "[LightGBM] [Warning] min_data_in_leaf is set=26, min_child_samples=25 will be ignored. Current value: min_data_in_leaf=26\n",
      "[I 2024-01-02 13:39:22,556] Trial 36 finished with value: 0.43475887552859066 and parameters: {'learning_rate': 0.02282899482526291, 'max_depth': 25, 'num_leaves': 94, 'min_data_in_leaf': 26, 'boosting_type': 'gbdt', 'n_estimators': 936, 'subsample': 0.8820431764160199, 'subsample_freq': 11, 'reg_alpha': 2.440278211668744, 'reg_lambda': 6.703091124851344, 'min_child_samples': 25, 'colsample_bytree': 0.15168760579100304}. Best is trial 11 with value: 0.43215848287124226.\n",
      "[LightGBM] [Warning] min_data_in_leaf is set=25, min_child_samples=27 will be ignored. Current value: min_data_in_leaf=25\n",
      "[I 2024-01-02 13:39:29,592] Trial 37 finished with value: 0.44117996907550405 and parameters: {'learning_rate': 0.025077133758281668, 'max_depth': 22, 'num_leaves': 100, 'min_data_in_leaf': 25, 'boosting_type': 'gbdt', 'n_estimators': 899, 'subsample': 0.9804206884839661, 'subsample_freq': 10, 'reg_alpha': 0.8534441631817502, 'reg_lambda': 8.02075217888718, 'min_child_samples': 27, 'colsample_bytree': 0.07180474756373685}. Best is trial 11 with value: 0.43215848287124226.\n",
      "[LightGBM] [Warning] min_data_in_leaf is set=27, min_child_samples=24 will be ignored. Current value: min_data_in_leaf=27\n",
      "[I 2024-01-02 13:40:12,128] Trial 38 finished with value: 0.44475870214599894 and parameters: {'learning_rate': 0.05911654437562598, 'max_depth': 27, 'num_leaves': 87, 'min_data_in_leaf': 27, 'boosting_type': 'dart', 'n_estimators': 974, 'subsample': 0.9141339858739782, 'subsample_freq': 3, 'reg_alpha': 2.940815773781582, 'reg_lambda': 6.73304841540339, 'min_child_samples': 24, 'colsample_bytree': 0.2745068595347593}. Best is trial 11 with value: 0.43215848287124226.\n",
      "[LightGBM] [Warning] min_data_in_leaf is set=18, min_child_samples=28 will be ignored. Current value: min_data_in_leaf=18\n",
      "[I 2024-01-02 13:40:24,030] Trial 39 finished with value: 0.5013882573092914 and parameters: {'learning_rate': 0.04530719134239764, 'max_depth': 23, 'num_leaves': 80, 'min_data_in_leaf': 18, 'boosting_type': 'rf', 'n_estimators': 1167, 'subsample': 0.7651830285298596, 'subsample_freq': 13, 'reg_alpha': 1.3938974291047042, 'reg_lambda': 5.008265498030406, 'min_child_samples': 28, 'colsample_bytree': 0.3915492518854235}. Best is trial 11 with value: 0.43215848287124226.\n",
      "[LightGBM] [Warning] min_data_in_leaf is set=23, min_child_samples=24 will be ignored. Current value: min_data_in_leaf=23\n",
      "[I 2024-01-02 13:40:30,923] Trial 40 finished with value: 0.4769294936411608 and parameters: {'learning_rate': 0.07986598491495883, 'max_depth': 24, 'num_leaves': 85, 'min_data_in_leaf': 23, 'boosting_type': 'gbdt', 'n_estimators': 1092, 'subsample': 0.8470376921360692, 'subsample_freq': 6, 'reg_alpha': 2.266374572809592, 'reg_lambda': 4.285922566250837, 'min_child_samples': 24, 'colsample_bytree': 0.20535343660263544}. Best is trial 11 with value: 0.43215848287124226.\n",
      "[LightGBM] [Warning] min_data_in_leaf is set=21, min_child_samples=26 will be ignored. Current value: min_data_in_leaf=21\n",
      "[I 2024-01-02 13:40:34,459] Trial 41 finished with value: 0.43873955370921025 and parameters: {'learning_rate': 0.020580519426156393, 'max_depth': 25, 'num_leaves': 96, 'min_data_in_leaf': 21, 'boosting_type': 'gbdt', 'n_estimators': 536, 'subsample': 0.8291814740963425, 'subsample_freq': 12, 'reg_alpha': 2.864655393331903, 'reg_lambda': 6.75196717430876, 'min_child_samples': 26, 'colsample_bytree': 0.1490258012707463}. Best is trial 11 with value: 0.43215848287124226.\n",
      "[LightGBM] [Warning] min_data_in_leaf is set=28, min_child_samples=25 will be ignored. Current value: min_data_in_leaf=28\n",
      "[I 2024-01-02 13:40:37,057] Trial 42 finished with value: 0.43538078324688034 and parameters: {'learning_rate': 0.029271363394900288, 'max_depth': 28, 'num_leaves': 95, 'min_data_in_leaf': 28, 'boosting_type': 'gbdt', 'n_estimators': 730, 'subsample': 0.9111399457978393, 'subsample_freq': 11, 'reg_alpha': 2.3392102145339817, 'reg_lambda': 6.46111413074123, 'min_child_samples': 25, 'colsample_bytree': 0.06854172681555246}. Best is trial 11 with value: 0.43215848287124226.\n",
      "[LightGBM] [Warning] min_data_in_leaf is set=28, min_child_samples=25 will be ignored. Current value: min_data_in_leaf=28\n",
      "[I 2024-01-02 13:40:39,998] Trial 43 finished with value: 0.42980031028625887 and parameters: {'learning_rate': 0.0320541172241386, 'max_depth': 30, 'num_leaves': 91, 'min_data_in_leaf': 28, 'boosting_type': 'gbdt', 'n_estimators': 743, 'subsample': 0.9166782877850493, 'subsample_freq': 11, 'reg_alpha': 1.506161985752928, 'reg_lambda': 5.414358760659164, 'min_child_samples': 25, 'colsample_bytree': 0.060851724571198806}. Best is trial 43 with value: 0.42980031028625887.\n",
      "[LightGBM] [Warning] min_data_in_leaf is set=28, min_child_samples=22 will be ignored. Current value: min_data_in_leaf=28\n",
      "[I 2024-01-02 13:40:43,350] Trial 44 finished with value: 0.4315124187861631 and parameters: {'learning_rate': 0.04295746017913317, 'max_depth': 29, 'num_leaves': 88, 'min_data_in_leaf': 28, 'boosting_type': 'gbdt', 'n_estimators': 811, 'subsample': 0.7337253354999651, 'subsample_freq': 9, 'reg_alpha': 0.6023085888090325, 'reg_lambda': 5.2142308320492265, 'min_child_samples': 22, 'colsample_bytree': 0.04834242370188559}. Best is trial 43 with value: 0.42980031028625887.\n",
      "[LightGBM] [Warning] min_data_in_leaf is set=29, min_child_samples=22 will be ignored. Current value: min_data_in_leaf=29\n",
      "[I 2024-01-02 13:40:56,917] Trial 45 finished with value: 0.44868697275778874 and parameters: {'learning_rate': 0.06602132081295169, 'max_depth': 29, 'num_leaves': 90, 'min_data_in_leaf': 29, 'boosting_type': 'dart', 'n_estimators': 812, 'subsample': 0.715679108505993, 'subsample_freq': 7, 'reg_alpha': 0.8463987010220485, 'reg_lambda': 5.074021610597416, 'min_child_samples': 22, 'colsample_bytree': 0.054306510067971554}. Best is trial 43 with value: 0.42980031028625887.\n",
      "[LightGBM] [Warning] min_data_in_leaf is set=30, min_child_samples=22 will be ignored. Current value: min_data_in_leaf=30\n",
      "[I 2024-01-02 13:41:01,593] Trial 46 finished with value: 0.4439117875792198 and parameters: {'learning_rate': 0.04319727648543242, 'max_depth': 30, 'num_leaves': 77, 'min_data_in_leaf': 30, 'boosting_type': 'gbdt', 'n_estimators': 641, 'subsample': 0.7993304293302541, 'subsample_freq': 9, 'reg_alpha': 0.39509153492294935, 'reg_lambda': 5.450058759178105, 'min_child_samples': 22, 'colsample_bytree': 0.09900514806231688}. Best is trial 43 with value: 0.42980031028625887.\n",
      "[LightGBM] [Warning] min_data_in_leaf is set=19, min_child_samples=23 will be ignored. Current value: min_data_in_leaf=19\n",
      "[I 2024-01-02 13:41:04,772] Trial 47 finished with value: 0.6356569727406963 and parameters: {'learning_rate': 0.05349935887784545, 'max_depth': 30, 'num_leaves': 74, 'min_data_in_leaf': 19, 'boosting_type': 'rf', 'n_estimators': 813, 'subsample': 0.6586902517614488, 'subsample_freq': 10, 'reg_alpha': 0.5819232402667694, 'reg_lambda': 4.531176497031072, 'min_child_samples': 23, 'colsample_bytree': 0.03810719950170818}. Best is trial 43 with value: 0.42980031028625887.\n",
      "[LightGBM] [Warning] min_data_in_leaf is set=23, min_child_samples=18 will be ignored. Current value: min_data_in_leaf=23\n",
      "[I 2024-01-02 13:41:10,087] Trial 48 finished with value: 0.439822462641241 and parameters: {'learning_rate': 0.03307042851997581, 'max_depth': 29, 'num_leaves': 79, 'min_data_in_leaf': 23, 'boosting_type': 'gbdt', 'n_estimators': 668, 'subsample': 0.7482331363350428, 'subsample_freq': 8, 'reg_alpha': 1.6992213784642782, 'reg_lambda': 9.892625978915927, 'min_child_samples': 18, 'colsample_bytree': 0.2061240053390102}. Best is trial 43 with value: 0.42980031028625887.\n",
      "[LightGBM] [Warning] min_data_in_leaf is set=27, min_child_samples=19 will be ignored. Current value: min_data_in_leaf=27\n",
      "[I 2024-01-02 13:41:14,287] Trial 49 finished with value: 0.4430464478121288 and parameters: {'learning_rate': 0.04418796267475116, 'max_depth': 17, 'num_leaves': 88, 'min_data_in_leaf': 27, 'boosting_type': 'gbdt', 'n_estimators': 727, 'subsample': 0.6092272672631024, 'subsample_freq': 14, 'reg_alpha': 1.3152663693217614, 'reg_lambda': 4.035452477010496, 'min_child_samples': 19, 'colsample_bytree': 0.09776055681064552}. Best is trial 43 with value: 0.42980031028625887.\n"
     ]
    }
   ],
   "source": [
    "def objective_lgbm(trial):\n",
    "    \n",
    "    lgbm_params = {\n",
    "    'learning_rate': trial.suggest_float('learning_rate', 0.01, 0.2),\n",
    "    'max_depth': trial.suggest_int('max_depth', 10, 30),\n",
    "    'num_leaves': trial.suggest_int('num_leaves', 20, 100),\n",
    "    'min_data_in_leaf': trial.suggest_int('min_data_in_leaf', 10, 30),\n",
    "    'boosting_type': trial.suggest_categorical('boosting_type',['gbdt', 'dart','rf']),\n",
    "    'n_estimators': trial.suggest_int('n_estimators', 500, 1400),\n",
    "    'subsample': trial.suggest_float('subsample',0.1,1.0),\n",
    "    'subsample_freq': trial.suggest_int('subsample_freq',1,20),\n",
    "    'reg_alpha': trial.suggest_float('reg_alpha', 0.0, 10.0),\n",
    "    'reg_lambda': trial.suggest_float('reg_lambda', 0.0, 10.0),\n",
    "    'min_child_samples': trial.suggest_int('min_child_samples', 10, 30),\n",
    "    'colsample_bytree': trial.suggest_float('colsample_bytree', 0.0, 1.0)\n",
    "    }\n",
    "    \n",
    "    lgbm = LGBMClassifier(**lgbm_params,verbose=-1,random_state=22)\n",
    "    lgbm.fit(X_train,y_train)\n",
    "    \n",
    "    # Show the log loss score directly\n",
    "    return log_loss(y_test, lgbm.predict_proba(X_test))\n",
    "\n",
    "study_lgbm = optuna.create_study(direction='minimize')\n",
    "\n",
    "study_lgbm.optimize(objective_lgbm, n_trials=50, show_progress_bar=True)\n"
   ]
  },
  {
   "cell_type": "markdown",
   "id": "c01b3cde",
   "metadata": {
    "papermill": {
     "duration": 0.040951,
     "end_time": "2024-01-02T13:41:14.424166",
     "exception": false,
     "start_time": "2024-01-02T13:41:14.383215",
     "status": "completed"
    },
    "tags": []
   },
   "source": [
    "## Fitting Ensemble of Trained Classifiers"
   ]
  },
  {
   "cell_type": "code",
   "execution_count": 22,
   "id": "7a599939",
   "metadata": {
    "execution": {
     "iopub.execute_input": "2024-01-02T13:41:14.509110Z",
     "iopub.status.busy": "2024-01-02T13:41:14.508305Z",
     "iopub.status.idle": "2024-01-02T13:41:32.759271Z",
     "shell.execute_reply": "2024-01-02T13:41:32.758049Z"
    },
    "papermill": {
     "duration": 18.296904,
     "end_time": "2024-01-02T13:41:32.762259",
     "exception": false,
     "start_time": "2024-01-02T13:41:14.465355",
     "status": "completed"
    },
    "tags": []
   },
   "outputs": [
    {
     "name": "stdout",
     "output_type": "stream",
     "text": [
      "[LightGBM] [Warning] min_data_in_leaf is set=28, min_child_samples=25 will be ignored. Current value: min_data_in_leaf=28\n"
     ]
    }
   ],
   "source": [
    "xgb_model = xgb.XGBClassifier(**study_xgb.best_params,random_state=42)\n",
    "\n",
    "lgb_model = LGBMClassifier(**study_lgbm.best_params,random_state=42,verbose=-1)\n",
    "\n",
    "cat_model = CatBoostClassifier(**study_cat.best_params,logging_level='Silent',random_state=42)\n",
    "\n",
    "# Create ensemble classifier using the pre-trained models\n",
    "_classifier = VotingClassifier(estimators=[('xgb', xgb_model),\n",
    "                                     ('cat', cat_model),\n",
    "                                     ('lgb', lgb_model)], voting='soft')\n",
    "_classifier = _classifier.fit(X_train, y_train)"
   ]
  },
  {
   "cell_type": "code",
   "execution_count": 23,
   "id": "b2282d03",
   "metadata": {
    "execution": {
     "iopub.execute_input": "2024-01-02T13:41:32.845435Z",
     "iopub.status.busy": "2024-01-02T13:41:32.844495Z",
     "iopub.status.idle": "2024-01-02T13:41:33.056476Z",
     "shell.execute_reply": "2024-01-02T13:41:33.054949Z"
    },
    "papermill": {
     "duration": 0.256297,
     "end_time": "2024-01-02T13:41:33.059037",
     "exception": false,
     "start_time": "2024-01-02T13:41:32.802740",
     "status": "completed"
    },
    "tags": []
   },
   "outputs": [
    {
     "name": "stdout",
     "output_type": "stream",
     "text": [
      "Log Loss on Test Set: 0.4292927563824632\n"
     ]
    }
   ],
   "source": [
    "y_pred_proba = _classifier.predict_proba(X_test)\n",
    "\n",
    "# Evaluate the model performance using log loss\n",
    "logloss = log_loss(y_test, y_pred_proba)\n",
    "print(\"Log Loss on Test Set:\", logloss)"
   ]
  }
 ],
 "metadata": {
  "kaggle": {
   "accelerator": "none",
   "dataSources": [
    {
     "databundleVersionId": 7000181,
     "sourceId": 60893,
     "sourceType": "competition"
    }
   ],
   "dockerImageVersionId": 30626,
   "isGpuEnabled": false,
   "isInternetEnabled": true,
   "language": "python",
   "sourceType": "notebook"
  },
  "kernelspec": {
   "display_name": "Python 3",
   "language": "python",
   "name": "python3"
  },
  "language_info": {
   "codemirror_mode": {
    "name": "ipython",
    "version": 3
   },
   "file_extension": ".py",
   "mimetype": "text/x-python",
   "name": "python",
   "nbconvert_exporter": "python",
   "pygments_lexer": "ipython3",
   "version": "3.8.8"
  },
  "papermill": {
   "default_parameters": {},
   "duration": 1588.364519,
   "end_time": "2024-01-02T13:41:35.939860",
   "environment_variables": {},
   "exception": null,
   "input_path": "__notebook__.ipynb",
   "output_path": "__notebook__.ipynb",
   "parameters": {},
   "start_time": "2024-01-02T13:15:07.575341",
   "version": "2.4.0"
  },
  "widgets": {
   "application/vnd.jupyter.widget-state+json": {
    "state": {
     "014e5705006c496996e424eee6fb80e7": {
      "model_module": "@jupyter-widgets/controls",
      "model_module_version": "1.5.0",
      "model_name": "ProgressStyleModel",
      "state": {
       "_model_module": "@jupyter-widgets/controls",
       "_model_module_version": "1.5.0",
       "_model_name": "ProgressStyleModel",
       "_view_count": null,
       "_view_module": "@jupyter-widgets/base",
       "_view_module_version": "1.2.0",
       "_view_name": "StyleView",
       "bar_color": null,
       "description_width": ""
      }
     },
     "0aad0379585a49f29fc6e722e85d886d": {
      "model_module": "@jupyter-widgets/controls",
      "model_module_version": "1.5.0",
      "model_name": "HBoxModel",
      "state": {
       "_dom_classes": [],
       "_model_module": "@jupyter-widgets/controls",
       "_model_module_version": "1.5.0",
       "_model_name": "HBoxModel",
       "_view_count": null,
       "_view_module": "@jupyter-widgets/controls",
       "_view_module_version": "1.5.0",
       "_view_name": "HBoxView",
       "box_style": "",
       "children": [
        "IPY_MODEL_8c80dcd6be8d4ba5974ec2ef1b058db2",
        "IPY_MODEL_e6281d5e207a45639db8788c411f349b",
        "IPY_MODEL_a435f9e5653e44fc81a139b0894ff773"
       ],
       "layout": "IPY_MODEL_ea6b1bf639f6441e891ac62a17da873f"
      }
     },
     "1206c2cbb6d94920ae65bf8b18a1db73": {
      "model_module": "@jupyter-widgets/base",
      "model_module_version": "1.2.0",
      "model_name": "LayoutModel",
      "state": {
       "_model_module": "@jupyter-widgets/base",
       "_model_module_version": "1.2.0",
       "_model_name": "LayoutModel",
       "_view_count": null,
       "_view_module": "@jupyter-widgets/base",
       "_view_module_version": "1.2.0",
       "_view_name": "LayoutView",
       "align_content": null,
       "align_items": null,
       "align_self": null,
       "border": null,
       "bottom": null,
       "display": null,
       "flex": null,
       "flex_flow": null,
       "grid_area": null,
       "grid_auto_columns": null,
       "grid_auto_flow": null,
       "grid_auto_rows": null,
       "grid_column": null,
       "grid_gap": null,
       "grid_row": null,
       "grid_template_areas": null,
       "grid_template_columns": null,
       "grid_template_rows": null,
       "height": null,
       "justify_content": null,
       "justify_items": null,
       "left": null,
       "margin": null,
       "max_height": null,
       "max_width": null,
       "min_height": null,
       "min_width": null,
       "object_fit": null,
       "object_position": null,
       "order": null,
       "overflow": null,
       "overflow_x": null,
       "overflow_y": null,
       "padding": null,
       "right": null,
       "top": null,
       "visibility": null,
       "width": null
      }
     },
     "1294a21cc04348a1ad1e3aa87cde57df": {
      "model_module": "@jupyter-widgets/controls",
      "model_module_version": "1.5.0",
      "model_name": "DescriptionStyleModel",
      "state": {
       "_model_module": "@jupyter-widgets/controls",
       "_model_module_version": "1.5.0",
       "_model_name": "DescriptionStyleModel",
       "_view_count": null,
       "_view_module": "@jupyter-widgets/base",
       "_view_module_version": "1.2.0",
       "_view_name": "StyleView",
       "description_width": ""
      }
     },
     "19b89621bba445acb7136c2bd70d50f7": {
      "model_module": "@jupyter-widgets/controls",
      "model_module_version": "1.5.0",
      "model_name": "DescriptionStyleModel",
      "state": {
       "_model_module": "@jupyter-widgets/controls",
       "_model_module_version": "1.5.0",
       "_model_name": "DescriptionStyleModel",
       "_view_count": null,
       "_view_module": "@jupyter-widgets/base",
       "_view_module_version": "1.2.0",
       "_view_name": "StyleView",
       "description_width": ""
      }
     },
     "1baccd001c4e4c98898c8d59e9169a03": {
      "model_module": "@jupyter-widgets/base",
      "model_module_version": "1.2.0",
      "model_name": "LayoutModel",
      "state": {
       "_model_module": "@jupyter-widgets/base",
       "_model_module_version": "1.2.0",
       "_model_name": "LayoutModel",
       "_view_count": null,
       "_view_module": "@jupyter-widgets/base",
       "_view_module_version": "1.2.0",
       "_view_name": "LayoutView",
       "align_content": null,
       "align_items": null,
       "align_self": null,
       "border": null,
       "bottom": null,
       "display": null,
       "flex": null,
       "flex_flow": null,
       "grid_area": null,
       "grid_auto_columns": null,
       "grid_auto_flow": null,
       "grid_auto_rows": null,
       "grid_column": null,
       "grid_gap": null,
       "grid_row": null,
       "grid_template_areas": null,
       "grid_template_columns": null,
       "grid_template_rows": null,
       "height": null,
       "justify_content": null,
       "justify_items": null,
       "left": null,
       "margin": null,
       "max_height": null,
       "max_width": null,
       "min_height": null,
       "min_width": null,
       "object_fit": null,
       "object_position": null,
       "order": null,
       "overflow": null,
       "overflow_x": null,
       "overflow_y": null,
       "padding": null,
       "right": null,
       "top": null,
       "visibility": null,
       "width": null
      }
     },
     "2472eeda2a6e4aeda099287cadbbee79": {
      "model_module": "@jupyter-widgets/base",
      "model_module_version": "1.2.0",
      "model_name": "LayoutModel",
      "state": {
       "_model_module": "@jupyter-widgets/base",
       "_model_module_version": "1.2.0",
       "_model_name": "LayoutModel",
       "_view_count": null,
       "_view_module": "@jupyter-widgets/base",
       "_view_module_version": "1.2.0",
       "_view_name": "LayoutView",
       "align_content": null,
       "align_items": null,
       "align_self": null,
       "border": null,
       "bottom": null,
       "display": null,
       "flex": null,
       "flex_flow": null,
       "grid_area": null,
       "grid_auto_columns": null,
       "grid_auto_flow": null,
       "grid_auto_rows": null,
       "grid_column": null,
       "grid_gap": null,
       "grid_row": null,
       "grid_template_areas": null,
       "grid_template_columns": null,
       "grid_template_rows": null,
       "height": null,
       "justify_content": null,
       "justify_items": null,
       "left": null,
       "margin": null,
       "max_height": null,
       "max_width": null,
       "min_height": null,
       "min_width": null,
       "object_fit": null,
       "object_position": null,
       "order": null,
       "overflow": null,
       "overflow_x": null,
       "overflow_y": null,
       "padding": null,
       "right": null,
       "top": null,
       "visibility": null,
       "width": null
      }
     },
     "27f721e12ec64ef59e81f8090d4dd301": {
      "model_module": "@jupyter-widgets/base",
      "model_module_version": "1.2.0",
      "model_name": "LayoutModel",
      "state": {
       "_model_module": "@jupyter-widgets/base",
       "_model_module_version": "1.2.0",
       "_model_name": "LayoutModel",
       "_view_count": null,
       "_view_module": "@jupyter-widgets/base",
       "_view_module_version": "1.2.0",
       "_view_name": "LayoutView",
       "align_content": null,
       "align_items": null,
       "align_self": null,
       "border": null,
       "bottom": null,
       "display": null,
       "flex": null,
       "flex_flow": null,
       "grid_area": null,
       "grid_auto_columns": null,
       "grid_auto_flow": null,
       "grid_auto_rows": null,
       "grid_column": null,
       "grid_gap": null,
       "grid_row": null,
       "grid_template_areas": null,
       "grid_template_columns": null,
       "grid_template_rows": null,
       "height": null,
       "justify_content": null,
       "justify_items": null,
       "left": null,
       "margin": null,
       "max_height": null,
       "max_width": null,
       "min_height": null,
       "min_width": null,
       "object_fit": null,
       "object_position": null,
       "order": null,
       "overflow": null,
       "overflow_x": null,
       "overflow_y": null,
       "padding": null,
       "right": null,
       "top": null,
       "visibility": null,
       "width": null
      }
     },
     "390f37092ca648bfa00842cc60f023d0": {
      "model_module": "@jupyter-widgets/controls",
      "model_module_version": "1.5.0",
      "model_name": "HBoxModel",
      "state": {
       "_dom_classes": [],
       "_model_module": "@jupyter-widgets/controls",
       "_model_module_version": "1.5.0",
       "_model_name": "HBoxModel",
       "_view_count": null,
       "_view_module": "@jupyter-widgets/controls",
       "_view_module_version": "1.5.0",
       "_view_name": "HBoxView",
       "box_style": "",
       "children": [
        "IPY_MODEL_bcbe7786b34d4de495d84d03e82c69b6",
        "IPY_MODEL_f8d6f1fb1a2d4304a03a702d65d567a1",
        "IPY_MODEL_7a58842e6d784930ad9e5d90af918c1e"
       ],
       "layout": "IPY_MODEL_2472eeda2a6e4aeda099287cadbbee79"
      }
     },
     "3bbe93261e694e1e804d2d61f07e4822": {
      "model_module": "@jupyter-widgets/controls",
      "model_module_version": "1.5.0",
      "model_name": "DescriptionStyleModel",
      "state": {
       "_model_module": "@jupyter-widgets/controls",
       "_model_module_version": "1.5.0",
       "_model_name": "DescriptionStyleModel",
       "_view_count": null,
       "_view_module": "@jupyter-widgets/base",
       "_view_module_version": "1.2.0",
       "_view_name": "StyleView",
       "description_width": ""
      }
     },
     "49fbffd5f7ce4bf0bff5bc5bdb7fa802": {
      "model_module": "@jupyter-widgets/base",
      "model_module_version": "1.2.0",
      "model_name": "LayoutModel",
      "state": {
       "_model_module": "@jupyter-widgets/base",
       "_model_module_version": "1.2.0",
       "_model_name": "LayoutModel",
       "_view_count": null,
       "_view_module": "@jupyter-widgets/base",
       "_view_module_version": "1.2.0",
       "_view_name": "LayoutView",
       "align_content": null,
       "align_items": null,
       "align_self": null,
       "border": null,
       "bottom": null,
       "display": null,
       "flex": null,
       "flex_flow": null,
       "grid_area": null,
       "grid_auto_columns": null,
       "grid_auto_flow": null,
       "grid_auto_rows": null,
       "grid_column": null,
       "grid_gap": null,
       "grid_row": null,
       "grid_template_areas": null,
       "grid_template_columns": null,
       "grid_template_rows": null,
       "height": null,
       "justify_content": null,
       "justify_items": null,
       "left": null,
       "margin": null,
       "max_height": null,
       "max_width": null,
       "min_height": null,
       "min_width": null,
       "object_fit": null,
       "object_position": null,
       "order": null,
       "overflow": null,
       "overflow_x": null,
       "overflow_y": null,
       "padding": null,
       "right": null,
       "top": null,
       "visibility": null,
       "width": null
      }
     },
     "515f0ffa27274c22b0374388cbfb714f": {
      "model_module": "@jupyter-widgets/controls",
      "model_module_version": "1.5.0",
      "model_name": "DescriptionStyleModel",
      "state": {
       "_model_module": "@jupyter-widgets/controls",
       "_model_module_version": "1.5.0",
       "_model_name": "DescriptionStyleModel",
       "_view_count": null,
       "_view_module": "@jupyter-widgets/base",
       "_view_module_version": "1.2.0",
       "_view_name": "StyleView",
       "description_width": ""
      }
     },
     "6c9375a183444f54abed4f113555556e": {
      "model_module": "@jupyter-widgets/controls",
      "model_module_version": "1.5.0",
      "model_name": "HTMLModel",
      "state": {
       "_dom_classes": [],
       "_model_module": "@jupyter-widgets/controls",
       "_model_module_version": "1.5.0",
       "_model_name": "HTMLModel",
       "_view_count": null,
       "_view_module": "@jupyter-widgets/controls",
       "_view_module_version": "1.5.0",
       "_view_name": "HTMLView",
       "description": "",
       "description_tooltip": null,
       "layout": "IPY_MODEL_1baccd001c4e4c98898c8d59e9169a03",
       "placeholder": "​",
       "style": "IPY_MODEL_3bbe93261e694e1e804d2d61f07e4822",
       "value": " 50/50 [05:56&lt;00:00,  8.10s/it]"
      }
     },
     "7a58842e6d784930ad9e5d90af918c1e": {
      "model_module": "@jupyter-widgets/controls",
      "model_module_version": "1.5.0",
      "model_name": "HTMLModel",
      "state": {
       "_dom_classes": [],
       "_model_module": "@jupyter-widgets/controls",
       "_model_module_version": "1.5.0",
       "_model_name": "HTMLModel",
       "_view_count": null,
       "_view_module": "@jupyter-widgets/controls",
       "_view_module_version": "1.5.0",
       "_view_name": "HTMLView",
       "description": "",
       "description_tooltip": null,
       "layout": "IPY_MODEL_a49c461d1ad54f63b568169c243ec992",
       "placeholder": "​",
       "style": "IPY_MODEL_515f0ffa27274c22b0374388cbfb714f",
       "value": " 50/50 [12:59&lt;00:00, 15.03s/it]"
      }
     },
     "7a979e5799d841699eed5e6fc4d387db": {
      "model_module": "@jupyter-widgets/base",
      "model_module_version": "1.2.0",
      "model_name": "LayoutModel",
      "state": {
       "_model_module": "@jupyter-widgets/base",
       "_model_module_version": "1.2.0",
       "_model_name": "LayoutModel",
       "_view_count": null,
       "_view_module": "@jupyter-widgets/base",
       "_view_module_version": "1.2.0",
       "_view_name": "LayoutView",
       "align_content": null,
       "align_items": null,
       "align_self": null,
       "border": null,
       "bottom": null,
       "display": null,
       "flex": null,
       "flex_flow": null,
       "grid_area": null,
       "grid_auto_columns": null,
       "grid_auto_flow": null,
       "grid_auto_rows": null,
       "grid_column": null,
       "grid_gap": null,
       "grid_row": null,
       "grid_template_areas": null,
       "grid_template_columns": null,
       "grid_template_rows": null,
       "height": null,
       "justify_content": null,
       "justify_items": null,
       "left": null,
       "margin": null,
       "max_height": null,
       "max_width": null,
       "min_height": null,
       "min_width": null,
       "object_fit": null,
       "object_position": null,
       "order": null,
       "overflow": null,
       "overflow_x": null,
       "overflow_y": null,
       "padding": null,
       "right": null,
       "top": null,
       "visibility": null,
       "width": null
      }
     },
     "8320649f42c749f88904623fecd8755a": {
      "model_module": "@jupyter-widgets/controls",
      "model_module_version": "1.5.0",
      "model_name": "DescriptionStyleModel",
      "state": {
       "_model_module": "@jupyter-widgets/controls",
       "_model_module_version": "1.5.0",
       "_model_name": "DescriptionStyleModel",
       "_view_count": null,
       "_view_module": "@jupyter-widgets/base",
       "_view_module_version": "1.2.0",
       "_view_name": "StyleView",
       "description_width": ""
      }
     },
     "8c80dcd6be8d4ba5974ec2ef1b058db2": {
      "model_module": "@jupyter-widgets/controls",
      "model_module_version": "1.5.0",
      "model_name": "HTMLModel",
      "state": {
       "_dom_classes": [],
       "_model_module": "@jupyter-widgets/controls",
       "_model_module_version": "1.5.0",
       "_model_name": "HTMLModel",
       "_view_count": null,
       "_view_module": "@jupyter-widgets/controls",
       "_view_module_version": "1.5.0",
       "_view_name": "HTMLView",
       "description": "",
       "description_tooltip": null,
       "layout": "IPY_MODEL_a2002802ebdc45fdb56270020e80293b",
       "placeholder": "​",
       "style": "IPY_MODEL_1294a21cc04348a1ad1e3aa87cde57df",
       "value": "Best trial: 43. Best value: 0.4298: 100%"
      }
     },
     "9fab46c4a94343a3ab8d79cab02d8e23": {
      "model_module": "@jupyter-widgets/controls",
      "model_module_version": "1.5.0",
      "model_name": "DescriptionStyleModel",
      "state": {
       "_model_module": "@jupyter-widgets/controls",
       "_model_module_version": "1.5.0",
       "_model_name": "DescriptionStyleModel",
       "_view_count": null,
       "_view_module": "@jupyter-widgets/base",
       "_view_module_version": "1.2.0",
       "_view_name": "StyleView",
       "description_width": ""
      }
     },
     "a16df6eadfe54be3a27dab47a8105a15": {
      "model_module": "@jupyter-widgets/controls",
      "model_module_version": "1.5.0",
      "model_name": "ProgressStyleModel",
      "state": {
       "_model_module": "@jupyter-widgets/controls",
       "_model_module_version": "1.5.0",
       "_model_name": "ProgressStyleModel",
       "_view_count": null,
       "_view_module": "@jupyter-widgets/base",
       "_view_module_version": "1.2.0",
       "_view_name": "StyleView",
       "bar_color": null,
       "description_width": ""
      }
     },
     "a2002802ebdc45fdb56270020e80293b": {
      "model_module": "@jupyter-widgets/base",
      "model_module_version": "1.2.0",
      "model_name": "LayoutModel",
      "state": {
       "_model_module": "@jupyter-widgets/base",
       "_model_module_version": "1.2.0",
       "_model_name": "LayoutModel",
       "_view_count": null,
       "_view_module": "@jupyter-widgets/base",
       "_view_module_version": "1.2.0",
       "_view_name": "LayoutView",
       "align_content": null,
       "align_items": null,
       "align_self": null,
       "border": null,
       "bottom": null,
       "display": null,
       "flex": null,
       "flex_flow": null,
       "grid_area": null,
       "grid_auto_columns": null,
       "grid_auto_flow": null,
       "grid_auto_rows": null,
       "grid_column": null,
       "grid_gap": null,
       "grid_row": null,
       "grid_template_areas": null,
       "grid_template_columns": null,
       "grid_template_rows": null,
       "height": null,
       "justify_content": null,
       "justify_items": null,
       "left": null,
       "margin": null,
       "max_height": null,
       "max_width": null,
       "min_height": null,
       "min_width": null,
       "object_fit": null,
       "object_position": null,
       "order": null,
       "overflow": null,
       "overflow_x": null,
       "overflow_y": null,
       "padding": null,
       "right": null,
       "top": null,
       "visibility": null,
       "width": null
      }
     },
     "a435f9e5653e44fc81a139b0894ff773": {
      "model_module": "@jupyter-widgets/controls",
      "model_module_version": "1.5.0",
      "model_name": "HTMLModel",
      "state": {
       "_dom_classes": [],
       "_model_module": "@jupyter-widgets/controls",
       "_model_module_version": "1.5.0",
       "_model_name": "HTMLModel",
       "_view_count": null,
       "_view_module": "@jupyter-widgets/controls",
       "_view_module_version": "1.5.0",
       "_view_name": "HTMLView",
       "description": "",
       "description_tooltip": null,
       "layout": "IPY_MODEL_c230dc6456754e4dafbe9aace100d8cb",
       "placeholder": "​",
       "style": "IPY_MODEL_19b89621bba445acb7136c2bd70d50f7",
       "value": " 50/50 [06:27&lt;00:00,  5.21s/it]"
      }
     },
     "a49c461d1ad54f63b568169c243ec992": {
      "model_module": "@jupyter-widgets/base",
      "model_module_version": "1.2.0",
      "model_name": "LayoutModel",
      "state": {
       "_model_module": "@jupyter-widgets/base",
       "_model_module_version": "1.2.0",
       "_model_name": "LayoutModel",
       "_view_count": null,
       "_view_module": "@jupyter-widgets/base",
       "_view_module_version": "1.2.0",
       "_view_name": "LayoutView",
       "align_content": null,
       "align_items": null,
       "align_self": null,
       "border": null,
       "bottom": null,
       "display": null,
       "flex": null,
       "flex_flow": null,
       "grid_area": null,
       "grid_auto_columns": null,
       "grid_auto_flow": null,
       "grid_auto_rows": null,
       "grid_column": null,
       "grid_gap": null,
       "grid_row": null,
       "grid_template_areas": null,
       "grid_template_columns": null,
       "grid_template_rows": null,
       "height": null,
       "justify_content": null,
       "justify_items": null,
       "left": null,
       "margin": null,
       "max_height": null,
       "max_width": null,
       "min_height": null,
       "min_width": null,
       "object_fit": null,
       "object_position": null,
       "order": null,
       "overflow": null,
       "overflow_x": null,
       "overflow_y": null,
       "padding": null,
       "right": null,
       "top": null,
       "visibility": null,
       "width": null
      }
     },
     "bbaf39068fb4479b8c7d8ef257ab024d": {
      "model_module": "@jupyter-widgets/controls",
      "model_module_version": "1.5.0",
      "model_name": "ProgressStyleModel",
      "state": {
       "_model_module": "@jupyter-widgets/controls",
       "_model_module_version": "1.5.0",
       "_model_name": "ProgressStyleModel",
       "_view_count": null,
       "_view_module": "@jupyter-widgets/base",
       "_view_module_version": "1.2.0",
       "_view_name": "StyleView",
       "bar_color": null,
       "description_width": ""
      }
     },
     "bcbe7786b34d4de495d84d03e82c69b6": {
      "model_module": "@jupyter-widgets/controls",
      "model_module_version": "1.5.0",
      "model_name": "HTMLModel",
      "state": {
       "_dom_classes": [],
       "_model_module": "@jupyter-widgets/controls",
       "_model_module_version": "1.5.0",
       "_model_name": "HTMLModel",
       "_view_count": null,
       "_view_module": "@jupyter-widgets/controls",
       "_view_module_version": "1.5.0",
       "_view_name": "HTMLView",
       "description": "",
       "description_tooltip": null,
       "layout": "IPY_MODEL_49fbffd5f7ce4bf0bff5bc5bdb7fa802",
       "placeholder": "​",
       "style": "IPY_MODEL_9fab46c4a94343a3ab8d79cab02d8e23",
       "value": "Best trial: 32. Best value: 0.444708: 100%"
      }
     },
     "c230dc6456754e4dafbe9aace100d8cb": {
      "model_module": "@jupyter-widgets/base",
      "model_module_version": "1.2.0",
      "model_name": "LayoutModel",
      "state": {
       "_model_module": "@jupyter-widgets/base",
       "_model_module_version": "1.2.0",
       "_model_name": "LayoutModel",
       "_view_count": null,
       "_view_module": "@jupyter-widgets/base",
       "_view_module_version": "1.2.0",
       "_view_name": "LayoutView",
       "align_content": null,
       "align_items": null,
       "align_self": null,
       "border": null,
       "bottom": null,
       "display": null,
       "flex": null,
       "flex_flow": null,
       "grid_area": null,
       "grid_auto_columns": null,
       "grid_auto_flow": null,
       "grid_auto_rows": null,
       "grid_column": null,
       "grid_gap": null,
       "grid_row": null,
       "grid_template_areas": null,
       "grid_template_columns": null,
       "grid_template_rows": null,
       "height": null,
       "justify_content": null,
       "justify_items": null,
       "left": null,
       "margin": null,
       "max_height": null,
       "max_width": null,
       "min_height": null,
       "min_width": null,
       "object_fit": null,
       "object_position": null,
       "order": null,
       "overflow": null,
       "overflow_x": null,
       "overflow_y": null,
       "padding": null,
       "right": null,
       "top": null,
       "visibility": null,
       "width": null
      }
     },
     "d3418bb6b29d40889148f2417fa0e25d": {
      "model_module": "@jupyter-widgets/base",
      "model_module_version": "1.2.0",
      "model_name": "LayoutModel",
      "state": {
       "_model_module": "@jupyter-widgets/base",
       "_model_module_version": "1.2.0",
       "_model_name": "LayoutModel",
       "_view_count": null,
       "_view_module": "@jupyter-widgets/base",
       "_view_module_version": "1.2.0",
       "_view_name": "LayoutView",
       "align_content": null,
       "align_items": null,
       "align_self": null,
       "border": null,
       "bottom": null,
       "display": null,
       "flex": null,
       "flex_flow": null,
       "grid_area": null,
       "grid_auto_columns": null,
       "grid_auto_flow": null,
       "grid_auto_rows": null,
       "grid_column": null,
       "grid_gap": null,
       "grid_row": null,
       "grid_template_areas": null,
       "grid_template_columns": null,
       "grid_template_rows": null,
       "height": null,
       "justify_content": null,
       "justify_items": null,
       "left": null,
       "margin": null,
       "max_height": null,
       "max_width": null,
       "min_height": null,
       "min_width": null,
       "object_fit": null,
       "object_position": null,
       "order": null,
       "overflow": null,
       "overflow_x": null,
       "overflow_y": null,
       "padding": null,
       "right": null,
       "top": null,
       "visibility": null,
       "width": null
      }
     },
     "d93d10a8cd4843f186a9be105b6dcd5c": {
      "model_module": "@jupyter-widgets/controls",
      "model_module_version": "1.5.0",
      "model_name": "FloatProgressModel",
      "state": {
       "_dom_classes": [],
       "_model_module": "@jupyter-widgets/controls",
       "_model_module_version": "1.5.0",
       "_model_name": "FloatProgressModel",
       "_view_count": null,
       "_view_module": "@jupyter-widgets/controls",
       "_view_module_version": "1.5.0",
       "_view_name": "ProgressView",
       "bar_style": "success",
       "description": "",
       "description_tooltip": null,
       "layout": "IPY_MODEL_eb3e094184da4d76b0d6a82acfd349d2",
       "max": 50,
       "min": 0,
       "orientation": "horizontal",
       "style": "IPY_MODEL_a16df6eadfe54be3a27dab47a8105a15",
       "value": 50
      }
     },
     "e6281d5e207a45639db8788c411f349b": {
      "model_module": "@jupyter-widgets/controls",
      "model_module_version": "1.5.0",
      "model_name": "FloatProgressModel",
      "state": {
       "_dom_classes": [],
       "_model_module": "@jupyter-widgets/controls",
       "_model_module_version": "1.5.0",
       "_model_name": "FloatProgressModel",
       "_view_count": null,
       "_view_module": "@jupyter-widgets/controls",
       "_view_module_version": "1.5.0",
       "_view_name": "ProgressView",
       "bar_style": "success",
       "description": "",
       "description_tooltip": null,
       "layout": "IPY_MODEL_d3418bb6b29d40889148f2417fa0e25d",
       "max": 50,
       "min": 0,
       "orientation": "horizontal",
       "style": "IPY_MODEL_014e5705006c496996e424eee6fb80e7",
       "value": 50
      }
     },
     "e9af77c6708845c5b9ceb54e7bac2e49": {
      "model_module": "@jupyter-widgets/controls",
      "model_module_version": "1.5.0",
      "model_name": "HTMLModel",
      "state": {
       "_dom_classes": [],
       "_model_module": "@jupyter-widgets/controls",
       "_model_module_version": "1.5.0",
       "_model_name": "HTMLModel",
       "_view_count": null,
       "_view_module": "@jupyter-widgets/controls",
       "_view_module_version": "1.5.0",
       "_view_name": "HTMLView",
       "description": "",
       "description_tooltip": null,
       "layout": "IPY_MODEL_7a979e5799d841699eed5e6fc4d387db",
       "placeholder": "​",
       "style": "IPY_MODEL_8320649f42c749f88904623fecd8755a",
       "value": "Best trial: 36. Best value: 0.430003: 100%"
      }
     },
     "ea6b1bf639f6441e891ac62a17da873f": {
      "model_module": "@jupyter-widgets/base",
      "model_module_version": "1.2.0",
      "model_name": "LayoutModel",
      "state": {
       "_model_module": "@jupyter-widgets/base",
       "_model_module_version": "1.2.0",
       "_model_name": "LayoutModel",
       "_view_count": null,
       "_view_module": "@jupyter-widgets/base",
       "_view_module_version": "1.2.0",
       "_view_name": "LayoutView",
       "align_content": null,
       "align_items": null,
       "align_self": null,
       "border": null,
       "bottom": null,
       "display": null,
       "flex": null,
       "flex_flow": null,
       "grid_area": null,
       "grid_auto_columns": null,
       "grid_auto_flow": null,
       "grid_auto_rows": null,
       "grid_column": null,
       "grid_gap": null,
       "grid_row": null,
       "grid_template_areas": null,
       "grid_template_columns": null,
       "grid_template_rows": null,
       "height": null,
       "justify_content": null,
       "justify_items": null,
       "left": null,
       "margin": null,
       "max_height": null,
       "max_width": null,
       "min_height": null,
       "min_width": null,
       "object_fit": null,
       "object_position": null,
       "order": null,
       "overflow": null,
       "overflow_x": null,
       "overflow_y": null,
       "padding": null,
       "right": null,
       "top": null,
       "visibility": null,
       "width": null
      }
     },
     "eb3e094184da4d76b0d6a82acfd349d2": {
      "model_module": "@jupyter-widgets/base",
      "model_module_version": "1.2.0",
      "model_name": "LayoutModel",
      "state": {
       "_model_module": "@jupyter-widgets/base",
       "_model_module_version": "1.2.0",
       "_model_name": "LayoutModel",
       "_view_count": null,
       "_view_module": "@jupyter-widgets/base",
       "_view_module_version": "1.2.0",
       "_view_name": "LayoutView",
       "align_content": null,
       "align_items": null,
       "align_self": null,
       "border": null,
       "bottom": null,
       "display": null,
       "flex": null,
       "flex_flow": null,
       "grid_area": null,
       "grid_auto_columns": null,
       "grid_auto_flow": null,
       "grid_auto_rows": null,
       "grid_column": null,
       "grid_gap": null,
       "grid_row": null,
       "grid_template_areas": null,
       "grid_template_columns": null,
       "grid_template_rows": null,
       "height": null,
       "justify_content": null,
       "justify_items": null,
       "left": null,
       "margin": null,
       "max_height": null,
       "max_width": null,
       "min_height": null,
       "min_width": null,
       "object_fit": null,
       "object_position": null,
       "order": null,
       "overflow": null,
       "overflow_x": null,
       "overflow_y": null,
       "padding": null,
       "right": null,
       "top": null,
       "visibility": null,
       "width": null
      }
     },
     "f496b5991a214327ba5340d44c776131": {
      "model_module": "@jupyter-widgets/controls",
      "model_module_version": "1.5.0",
      "model_name": "HBoxModel",
      "state": {
       "_dom_classes": [],
       "_model_module": "@jupyter-widgets/controls",
       "_model_module_version": "1.5.0",
       "_model_name": "HBoxModel",
       "_view_count": null,
       "_view_module": "@jupyter-widgets/controls",
       "_view_module_version": "1.5.0",
       "_view_name": "HBoxView",
       "box_style": "",
       "children": [
        "IPY_MODEL_e9af77c6708845c5b9ceb54e7bac2e49",
        "IPY_MODEL_d93d10a8cd4843f186a9be105b6dcd5c",
        "IPY_MODEL_6c9375a183444f54abed4f113555556e"
       ],
       "layout": "IPY_MODEL_27f721e12ec64ef59e81f8090d4dd301"
      }
     },
     "f8d6f1fb1a2d4304a03a702d65d567a1": {
      "model_module": "@jupyter-widgets/controls",
      "model_module_version": "1.5.0",
      "model_name": "FloatProgressModel",
      "state": {
       "_dom_classes": [],
       "_model_module": "@jupyter-widgets/controls",
       "_model_module_version": "1.5.0",
       "_model_name": "FloatProgressModel",
       "_view_count": null,
       "_view_module": "@jupyter-widgets/controls",
       "_view_module_version": "1.5.0",
       "_view_name": "ProgressView",
       "bar_style": "success",
       "description": "",
       "description_tooltip": null,
       "layout": "IPY_MODEL_1206c2cbb6d94920ae65bf8b18a1db73",
       "max": 50,
       "min": 0,
       "orientation": "horizontal",
       "style": "IPY_MODEL_bbaf39068fb4479b8c7d8ef257ab024d",
       "value": 50
      }
     }
    },
    "version_major": 2,
    "version_minor": 0
   }
  }
 },
 "nbformat": 4,
 "nbformat_minor": 5
}
